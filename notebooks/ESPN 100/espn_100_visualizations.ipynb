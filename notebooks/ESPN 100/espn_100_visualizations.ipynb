{
 "cells": [
  {
   "cell_type": "code",
   "execution_count": null,
   "id": "3bf4fab9",
   "metadata": {},
   "outputs": [],
   "source": [
    "import pandas as pd\n",
    "import matplotlib.pyplot as plt\n",
    "import numpy as np\n",
    "import seaborn as sns\n",
    "from nssstats.plots import std_plot\n",
    "from nssstats.plots import iqr_plot\n",
    "from nssstats.plots import quadrant_plot, half_plot\n",
    "from ipywidgets import interact, FloatSlider\n",
    "import warnings\n",
    "import plotly.express as px \n",
    "import plotly.graph_objects as go\n",
    "from plotly.subplots import make_subplots\n",
    "from plotly import graph_objects as go\n",
    "from IPython.core.interactiveshell import InteractiveShell\n",
    "InteractiveShell.ast_node_interactivity = \"all\"\n",
    "%matplotlib inline"
   ]
  },
  {
   "cell_type": "code",
   "execution_count": null,
   "id": "ffcc0b22",
   "metadata": {
    "scrolled": false
   },
   "outputs": [],
   "source": [
    "espn_100 = pd.read_csv(\"espn_100_database.csv\")\n",
    "espn_100.head()"
   ]
  },
  {
   "cell_type": "code",
   "execution_count": null,
   "id": "516ed598",
   "metadata": {},
   "outputs": [],
   "source": [
    "sns.heatmap(espn_100.corr(numeric_only=True), annot=True, cmap=\"coolwarm\")"
   ]
  },
  {
   "cell_type": "code",
   "execution_count": null,
   "id": "7752552b",
   "metadata": {},
   "outputs": [],
   "source": [
    "states = pd.DataFrame(espn_100.state.value_counts().reset_index())"
   ]
  },
  {
   "cell_type": "code",
   "execution_count": null,
   "id": "0bf9deb0",
   "metadata": {},
   "outputs": [],
   "source": [
    "states.columns = ['State', 'Recruits']"
   ]
  },
  {
   "cell_type": "code",
   "execution_count": null,
   "id": "7880cd3c",
   "metadata": {},
   "outputs": [],
   "source": [
    "data = states\n",
    "\n",
    "fig = px.choropleth(data, locations='State',\n",
    "                    locationmode=\"USA-states\", color='Recruits', scope=\"usa\")\n",
    "\n",
    "fig.show()"
   ]
  },
  {
   "cell_type": "code",
   "execution_count": null,
   "id": "d1b3bbe8",
   "metadata": {},
   "outputs": [],
   "source": [
    "cities = pd.DataFrame(espn_100.hometown.value_counts().reset_index())"
   ]
  },
  {
   "cell_type": "code",
   "execution_count": null,
   "id": "6d8c7a6a",
   "metadata": {},
   "outputs": [],
   "source": [
    "cities.columns = ['City', 'Recruits']"
   ]
  },
  {
   "cell_type": "code",
   "execution_count": null,
   "id": "a6b2d760",
   "metadata": {},
   "outputs": [],
   "source": [
    "cities.Recruits.nlargest(10)"
   ]
  },
  {
   "cell_type": "code",
   "execution_count": null,
   "id": "089d3405",
   "metadata": {},
   "outputs": [],
   "source": [
    "top5_cities = cities[cities['City'].isin(['Chicago, IL', 'Memphis, TN', 'Los Angeles, CA','Indianapolis, IN', 'Philadelphia, PA','Las Vegas, NV','Houston, TX','Seattle, WA','Baltimore, MD','Dallas, TX'])]"
   ]
  },
  {
   "cell_type": "code",
   "execution_count": null,
   "id": "6e699b2d",
   "metadata": {},
   "outputs": [],
   "source": [
    "top5_cities = top5_cities.groupby(['City']).sum().sort_values(['Recruits'],ascending=False)\n",
    "top5_cities"
   ]
  },
  {
   "cell_type": "code",
   "execution_count": null,
   "id": "0322dc90",
   "metadata": {
    "scrolled": true
   },
   "outputs": [],
   "source": [
    "px.bar(top5_cities.iloc[:10,:1], text_auto=True,title='Top 10 Cities With The Most ESPN 100 Recruits')"
   ]
  },
  {
   "cell_type": "code",
   "execution_count": null,
   "id": "d0b2a6ef",
   "metadata": {},
   "outputs": [],
   "source": [
    "college_signings = pd.DataFrame(espn_100.school.value_counts().reset_index())\n",
    "college_signings"
   ]
  },
  {
   "cell_type": "code",
   "execution_count": null,
   "id": "e841d81d",
   "metadata": {},
   "outputs": [],
   "source": [
    "college_signings.columns = ['School', 'Recruits']\n",
    "college_signings"
   ]
  },
  {
   "cell_type": "code",
   "execution_count": null,
   "id": "58feb136",
   "metadata": {},
   "outputs": [],
   "source": [
    "college_signings.Recruits.nlargest(10)"
   ]
  },
  {
   "cell_type": "code",
   "execution_count": null,
   "id": "62fe2db2",
   "metadata": {},
   "outputs": [],
   "source": [
    "top5_schools = college_signings[college_signings['School'].isin(['Kentucky', 'Duke', 'N Carolina','UCLA', 'Arizona','Texas','Kansas','Michigan St','Ohio State','Florida'])]"
   ]
  },
  {
   "cell_type": "markdown",
   "id": "52407d5f",
   "metadata": {},
   "source": [
    "Top 10 Schools With The Most ESPN 100 Recruits"
   ]
  },
  {
   "cell_type": "code",
   "execution_count": null,
   "id": "5d76aacc",
   "metadata": {
    "scrolled": true
   },
   "outputs": [],
   "source": [
    "px.treemap(data_frame=top5_schools, path=['School'], values='Recruits')"
   ]
  },
  {
   "cell_type": "markdown",
   "id": "b3372d3d",
   "metadata": {},
   "source": [
    "ESPN 100 Recruits By High School Type"
   ]
  },
  {
   "cell_type": "code",
   "execution_count": null,
   "id": "21100238",
   "metadata": {},
   "outputs": [],
   "source": [
    "fig = go.Figure(go.Funnel(\n",
    "    y = [\"Public\", \"Private\", \"Independent\", \"Preparatory\", \"Homeschool\",\"Reform\"],\n",
    "    x = [757, 669, 90, 76, 3, 1]))\n",
    "\n",
    "fig.show()"
   ]
  },
  {
   "cell_type": "code",
   "execution_count": null,
   "id": "912c22ae",
   "metadata": {
    "scrolled": false
   },
   "outputs": [],
   "source": [
    "nested_pie =  espn_100.sort_values('player', ascending=False).drop_duplicates('conference').iloc[:10]\n",
    "\n",
    "fig = px.sunburst(nested_pie, path=['conference','school'], values='player',\n",
    "                  color='player',\n",
    "                  color_continuous_scale='rdbu',template=\"plotly_white\",\n",
    "                  )\n",
    "fig.update_layout(height=650, title = \"ESPN 100 Recruitment By Conference\" , title_x = 0.47,)\n",
    "fig.show()"
   ]
  },
  {
   "cell_type": "code",
   "execution_count": null,
   "id": "68120925",
   "metadata": {},
   "outputs": [],
   "source": [
    "plt.figure(figsize = (10,8))\n",
    "\n",
    "sns.boxplot(data = espn_100.sort_values('pos'), x = \"ht_inches\", y = \"pos\");"
   ]
  },
  {
   "cell_type": "code",
   "execution_count": null,
   "id": "be11f1d4",
   "metadata": {},
   "outputs": [],
   "source": [
    "plt.figure(figsize = (10,8))\n",
    "\n",
    "sns.boxplot(data = espn_100.sort_values('pos'), x = \"weight\", y = \"pos\");"
   ]
  },
  {
   "cell_type": "code",
   "execution_count": null,
   "id": "77760d55",
   "metadata": {
    "scrolled": true
   },
   "outputs": [],
   "source": [
    "espn_100.plot(kind = 'scatter', x = 'ht_inches', y = 'weight', figsize = (12,8))\n",
    "plt.title('Height vs. Weight');"
   ]
  },
  {
   "cell_type": "code",
   "execution_count": null,
   "id": "fc675d5e",
   "metadata": {},
   "outputs": [],
   "source": [
    "df = px.data.iris()\n",
    "fig = px.scatter_3d(espn_100, x='ht_inches', y='weight', z='stars',\n",
    "              color='pos')\n",
    "fig.show()"
   ]
  },
  {
   "cell_type": "code",
   "execution_count": null,
   "id": "7537b2c0",
   "metadata": {},
   "outputs": [],
   "source": [
    "quadrant_plot(espn_100.ht_inches, espn_100.weight, labels = ['Height', 'Weight'], figsize = (12,8))"
   ]
  },
  {
   "cell_type": "code",
   "execution_count": null,
   "id": "e9eec414",
   "metadata": {},
   "outputs": [],
   "source": [
    "pd.crosstab(espn_100['grade'], \n",
    "            espn_100['pos'], \n",
    "            normalize='index').plot(kind = 'bar', \n",
    "                                    edgecolor = 'black', \n",
    "                                    width = 0.75,\n",
    "                                    stacked = True)\n",
    "plt.ylabel('Proportion');"
   ]
  },
  {
   "cell_type": "code",
   "execution_count": null,
   "id": "4504d727",
   "metadata": {},
   "outputs": [],
   "source": []
  },
  {
   "cell_type": "code",
   "execution_count": null,
   "id": "0c1f7a6a",
   "metadata": {},
   "outputs": [],
   "source": []
  }
 ],
 "metadata": {
  "kernelspec": {
   "display_name": "Python 3 (ipykernel)",
   "language": "python",
   "name": "python3"
  },
  "language_info": {
   "codemirror_mode": {
    "name": "ipython",
    "version": 3
   },
   "file_extension": ".py",
   "mimetype": "text/x-python",
   "name": "python",
   "nbconvert_exporter": "python",
   "pygments_lexer": "ipython3",
   "version": "3.9.16"
  }
 },
 "nbformat": 4,
 "nbformat_minor": 5
}
