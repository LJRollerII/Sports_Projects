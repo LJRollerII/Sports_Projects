{
 "cells": [
  {
   "cell_type": "code",
   "execution_count": null,
   "id": "3e7a312f",
   "metadata": {},
   "outputs": [],
   "source": [
    "import pandas as pd\n",
    "import matplotlib.pyplot as plt\n",
    "import numpy as np\n",
    "import seaborn as sns\n",
    "from nssstats.plots import std_plot\n",
    "from nssstats.plots import iqr_plot\n",
    "from nssstats.plots import quadrant_plot, half_plot\n",
    "from ipywidgets import interact, FloatSlider\n",
    "import warnings\n",
    "import plotly.express as px \n",
    "import plotly.graph_objects as go\n",
    "from plotly.subplots import make_subplots\n",
    "from plotly import graph_objects as go\n",
    "import plotly.figure_factory as ff\n",
    "from plotly.offline import init_notebook_mode,iplot\n",
    "#from dash import Dash, dcc, html, Input, Output\n",
    "from IPython.core.interactiveshell import InteractiveShell\n",
    "from os import path\n",
    "from PIL import Image\n",
    "from wordcloud import WordCloud, STOPWORDS, ImageColorGenerator\n",
    "InteractiveShell.ast_node_interactivity = \"all\"\n",
    "%matplotlib inline"
   ]
  },
  {
   "cell_type": "code",
   "execution_count": null,
   "id": "7721fd5b",
   "metadata": {
    "scrolled": false
   },
   "outputs": [],
   "source": [
    "espn_100 = pd.read_csv(\"espn_100_database.csv\")\n",
    "espn_100.head()"
   ]
  },
  {
   "cell_type": "code",
   "execution_count": null,
   "id": "65c1540d",
   "metadata": {},
   "outputs": [],
   "source": [
    "sns.heatmap(espn_100.corr(numeric_only=True), annot=True, cmap=\"coolwarm\")"
   ]
  },
  {
   "cell_type": "code",
   "execution_count": null,
   "id": "16f17148",
   "metadata": {},
   "outputs": [],
   "source": [
    "#sns.set(style=\"ticks\", color_codes=True)\n",
    "\n",
    "#sns.pairplot(espn_100);"
   ]
  },
  {
   "cell_type": "code",
   "execution_count": null,
   "id": "de2af83d",
   "metadata": {},
   "outputs": [],
   "source": [
    "states = pd.DataFrame(espn_100.state.value_counts().reset_index())"
   ]
  },
  {
   "cell_type": "code",
   "execution_count": null,
   "id": "990f6103",
   "metadata": {},
   "outputs": [],
   "source": [
    "states.columns = ['State', 'Recruits']"
   ]
  },
  {
   "cell_type": "code",
   "execution_count": null,
   "id": "19468b13",
   "metadata": {},
   "outputs": [],
   "source": [
    "data = dict(\n",
    "        type = 'choropleth',\n",
    "        colorscale = 'Viridis',\n",
    "        reversescale = True,\n",
    "        locations = states['State'],\n",
    "        locationmode = \"USA-states\",\n",
    "        z = states['Recruits'],\n",
    "        text = states['State'],\n",
    "        marker = dict(line = dict(color = 'rgb(255,255,255)',width = 1)),\n",
    "        colorbar = {'title' : 'Recruits'},\n",
    "      ) "
   ]
  },
  {
   "cell_type": "code",
   "execution_count": null,
   "id": "6f4cc959",
   "metadata": {},
   "outputs": [],
   "source": [
    "layout = dict(title = 'ESPN 100 Recruits By State',\n",
    "                geo = dict(scope='usa',\n",
    "                         showlakes = True,\n",
    "                         lakecolor = 'rgb(85,173,240)')\n",
    "             )"
   ]
  },
  {
   "cell_type": "code",
   "execution_count": null,
   "id": "804347a8",
   "metadata": {},
   "outputs": [],
   "source": [
    "choromap = go.Figure(data = [data],layout = layout)\n",
    "iplot(choromap,validate=False)"
   ]
  },
  {
   "cell_type": "code",
   "execution_count": null,
   "id": "a445a4c2",
   "metadata": {},
   "outputs": [],
   "source": [
    "data = states\n",
    "\n",
    "fig = px.choropleth(data, locations='State',\n",
    "                    locationmode=\"USA-states\", color='Recruits', scope=\"usa\")\n",
    "\n",
    "fig.show()"
   ]
  },
  {
   "cell_type": "code",
   "execution_count": null,
   "id": "2ac71260",
   "metadata": {},
   "outputs": [],
   "source": [
    "cities = pd.DataFrame(espn_100.hometown.value_counts().reset_index())"
   ]
  },
  {
   "cell_type": "code",
   "execution_count": null,
   "id": "38d119c3",
   "metadata": {},
   "outputs": [],
   "source": [
    "cities.columns = ['City', 'Recruits']"
   ]
  },
  {
   "cell_type": "code",
   "execution_count": null,
   "id": "86672d15",
   "metadata": {},
   "outputs": [],
   "source": [
    "cities.Recruits.nlargest(10)"
   ]
  },
  {
   "cell_type": "code",
   "execution_count": null,
   "id": "fd69f18f",
   "metadata": {},
   "outputs": [],
   "source": [
    "top5_cities = cities[cities['City'].isin(['Chicago, IL', 'Memphis, TN', 'Los Angeles, CA','Indianapolis, IN', 'Philadelphia, PA','Las Vegas, NV','Houston, TX','Seattle, WA','Baltimore, MD','Dallas, TX'])]"
   ]
  },
  {
   "cell_type": "code",
   "execution_count": null,
   "id": "8221d5b7",
   "metadata": {},
   "outputs": [],
   "source": [
    "top5_cities = top5_cities.groupby(['City']).sum().sort_values(['Recruits'],ascending=False)\n",
    "top5_cities"
   ]
  },
  {
   "cell_type": "code",
   "execution_count": null,
   "id": "80570edf",
   "metadata": {
    "scrolled": true
   },
   "outputs": [],
   "source": [
    "px.bar(top5_cities.iloc[:10,:1], text_auto=True,title='Top 10 Cities With The Most ESPN 100 Recruits')"
   ]
  },
  {
   "cell_type": "code",
   "execution_count": null,
   "id": "867bbf40",
   "metadata": {},
   "outputs": [],
   "source": [
    "college_signings = pd.DataFrame(espn_100.school.value_counts().reset_index())\n",
    "college_signings"
   ]
  },
  {
   "cell_type": "code",
   "execution_count": null,
   "id": "57a9d36a",
   "metadata": {},
   "outputs": [],
   "source": [
    "college_signings.columns = ['School', 'Recruits']\n",
    "college_signings"
   ]
  },
  {
   "cell_type": "code",
   "execution_count": null,
   "id": "f7b5e7ee",
   "metadata": {},
   "outputs": [],
   "source": [
    "college_signings.Recruits.nlargest(10)"
   ]
  },
  {
   "cell_type": "code",
   "execution_count": null,
   "id": "c799796d",
   "metadata": {},
   "outputs": [],
   "source": [
    "top5_schools = college_signings[college_signings['School'].isin(['Kentucky', 'Duke', 'N Carolina','UCLA', 'Arizona','Texas','Kansas','Michigan St','Ohio State','Florida'])]"
   ]
  },
  {
   "cell_type": "markdown",
   "id": "c715cba4",
   "metadata": {},
   "source": [
    "Top 10 Schools With The Most ESPN 100 Recruits"
   ]
  },
  {
   "cell_type": "code",
   "execution_count": null,
   "id": "5e13ce0e",
   "metadata": {
    "scrolled": true
   },
   "outputs": [],
   "source": [
    "px.treemap(data_frame=top5_schools, path=['School'], values='Recruits')"
   ]
  },
  {
   "cell_type": "markdown",
   "id": "07ab9d7f",
   "metadata": {},
   "source": [
    "ESPN 100 Recruits By High School Type"
   ]
  },
  {
   "cell_type": "code",
   "execution_count": null,
   "id": "f092fb25",
   "metadata": {},
   "outputs": [],
   "source": [
    "fig = go.Figure(go.Funnel(\n",
    "    y = [\"Public\", \"Private\", \"Independent\", \"Preparatory\", \"Homeschool\",\"Reform\"],\n",
    "    x = [757, 669, 90, 76, 3, 1]))\n",
    "\n",
    "fig.show()"
   ]
  },
  {
   "cell_type": "code",
   "execution_count": null,
   "id": "ddc9a4cb",
   "metadata": {},
   "outputs": [],
   "source": [
    "espn_100[['conference','school']].value_counts().reset_index()"
   ]
  },
  {
   "cell_type": "code",
   "execution_count": null,
   "id": "623e8a3b",
   "metadata": {},
   "outputs": [],
   "source": [
    "conf_players = pd.DataFrame(espn_100[['conference','school']].value_counts().reset_index())"
   ]
  },
  {
   "cell_type": "code",
   "execution_count": null,
   "id": "836a22d2",
   "metadata": {},
   "outputs": [],
   "source": [
    "conf_players.columns = ['Conference', 'School','Players']\n",
    "conf_players"
   ]
  },
  {
   "cell_type": "code",
   "execution_count": null,
   "id": "c386eafd",
   "metadata": {
    "scrolled": false
   },
   "outputs": [],
   "source": [
    "nested_pie =  conf_players.sort_values('Players', ascending=False).iloc[:]\n",
    "\n",
    "fig = px.sunburst(nested_pie, path=['Conference','School'], values='Players',\n",
    "                  color='Players',\n",
    "                  color_continuous_scale='rdbu',template=\"plotly_white\",\n",
    "                  )\n",
    "fig.update_layout(height=650, title = \"ESPN 100 Recruitment By Conference\" , title_x = 0.47,)\n",
    "fig.show()"
   ]
  },
  {
   "cell_type": "code",
   "execution_count": null,
   "id": "30e2e23f",
   "metadata": {},
   "outputs": [],
   "source": [
    "fig,ax = plt.subplots(figsize = (10,6))               \n",
    "\n",
    "plt.hist(\n",
    "    data = espn_100,\n",
    "    x = 'ht_inches',\n",
    "    edgecolor = 'black',\n",
    "    linewidth = 2\n",
    ");                              \n",
    "plt.xlabel('weight (lbs.)')                            \n",
    "plt.ylabel('Players')\n",
    "plt.title('Histogram of EPSN 100 Recruit Height');"
   ]
  },
  {
   "cell_type": "code",
   "execution_count": null,
   "id": "c16ace25",
   "metadata": {},
   "outputs": [],
   "source": [
    "plt.figure(figsize = (10,8))\n",
    "\n",
    "sns.boxplot(data = espn_100.sort_values('pos'), x = \"ht_inches\", y = \"pos\");"
   ]
  },
  {
   "cell_type": "code",
   "execution_count": null,
   "id": "3ceff4b7",
   "metadata": {},
   "outputs": [],
   "source": [
    "fig,ax = plt.subplots(figsize = (10,6))               \n",
    "\n",
    "plt.hist(\n",
    "    data = espn_100,\n",
    "    x = 'weight',\n",
    "    edgecolor = 'black',\n",
    "    linewidth = 2\n",
    ");                              \n",
    "plt.xlabel('weight (lbs.)')                            \n",
    "plt.ylabel('Players')\n",
    "plt.title('Histogram of EPSN 100 Recruit Weight');"
   ]
  },
  {
   "cell_type": "code",
   "execution_count": null,
   "id": "b395ccb4",
   "metadata": {},
   "outputs": [],
   "source": [
    "plt.figure(figsize = (10,8))\n",
    "\n",
    "sns.boxplot(data = espn_100.sort_values('pos'), x = \"weight\", y = \"pos\");"
   ]
  },
  {
   "cell_type": "code",
   "execution_count": null,
   "id": "44c6e3f7",
   "metadata": {
    "scrolled": true
   },
   "outputs": [],
   "source": [
    "espn_100.plot(kind = 'scatter', x = 'ht_inches', y = 'weight', figsize = (12,8))\n",
    "plt.title('Height vs. Weight');"
   ]
  },
  {
   "cell_type": "code",
   "execution_count": null,
   "id": "07cadfc2",
   "metadata": {},
   "outputs": [],
   "source": [
    "df = px.data.iris()\n",
    "fig = px.scatter_3d(espn_100, x='ht_inches', y='weight', z='stars',\n",
    "              color='pos')\n",
    "fig.show()"
   ]
  },
  {
   "cell_type": "code",
   "execution_count": null,
   "id": "d365e8da",
   "metadata": {},
   "outputs": [],
   "source": [
    "quadrant_plot(espn_100.ht_inches, espn_100.weight, labels = ['Height', 'Weight'], figsize = (12,8))"
   ]
  },
  {
   "cell_type": "code",
   "execution_count": null,
   "id": "825c9157",
   "metadata": {},
   "outputs": [],
   "source": [
    " '''\n",
    "   \n",
    "app.layout = html.Div([\n",
    "    html.H4(\"Analysis of the restaurant's revenue\"),\n",
    "    html.P(\"Select Distribution:\"),\n",
    "    dcc.RadioItems(\n",
    "        id='distribution',\n",
    "        options=['box', 'violin', 'rug'],\n",
    "        value='box', inline=True\n",
    "    ),\n",
    "    dcc.Graph(id=\"graph\"),\n",
    "])\n",
    "\n",
    "\n",
    "@app.callback(\n",
    "    Output(\"graph\", \"figure\"), \n",
    "    Input(\"distribution\", \"value\"))\n",
    "def display_graph(distribution):\n",
    "    espn_100 = px.data.tips() # replace with your own data source\n",
    "    fig = px.histogram(\n",
    "        espn_100, x=\"ht_inches\", y=\"\", color=\"conference\",\n",
    "        marginal=distribution, range_x=[-5, 60],\n",
    "        hover_data=espn_100.columns)\n",
    "    return fig\n",
    "\n",
    "\n",
    "app.run_server(debug=True)\n",
    "\n",
    "'''"
   ]
  },
  {
   "cell_type": "code",
   "execution_count": null,
   "id": "d0c7f352",
   "metadata": {},
   "outputs": [],
   "source": [
    "'''\n",
    "\n",
    "app.layout = html.Div([\n",
    "    html.H4(\"Analysis of the restaurant's revenue\"),\n",
    "    html.P(\"Select Distribution:\"),\n",
    "    dcc.RadioItems(\n",
    "        id='distribution',\n",
    "        options=['box', 'violin', 'rug'],\n",
    "        value='box', inline=True\n",
    "    ),\n",
    "    dcc.Graph(id=\"graph\"),\n",
    "])\n",
    "\n",
    "\n",
    "@app.callback(\n",
    "    Output(\"graph\", \"figure\"), \n",
    "    Input(\"distribution\", \"value\"))\n",
    "def display_graph(distribution):\n",
    "    espn_100 = px.data.tips() # replace with your own data source\n",
    "    fig = px.histogram(\n",
    "        espn_100, x=\"weight\", y=\"\", color=\"conference_type\",\n",
    "        marginal=distribution, range_x=[-5, 60],\n",
    "        hover_data=espn_100.columns)\n",
    "    return fig\n",
    "\n",
    "\n",
    "app.run_server(debug=True)\n",
    "\n",
    "'''"
   ]
  },
  {
   "cell_type": "code",
   "execution_count": null,
   "id": "83c9fdff",
   "metadata": {},
   "outputs": [],
   "source": [
    "pd.crosstab(espn_100['grade'], \n",
    "            espn_100['pos'], \n",
    "            normalize='index').plot(kind = 'bar', \n",
    "                                    edgecolor = 'black', \n",
    "                                    width = 0.75,\n",
    "                                    stacked = True)\n",
    "plt.ylabel('Proportion');"
   ]
  },
  {
   "cell_type": "code",
   "execution_count": null,
   "id": "1d728057",
   "metadata": {},
   "outputs": [],
   "source": [
    "\n",
    "# Start with one review:\n",
    "text = espn_100.first_name[:].dropna().to_list()\n",
    "text = \" \".join(text)\n",
    "# Create and generate a word cloud image:\n",
    "wordcloud = WordCloud(max_font_size=50, max_words=100, background_color=\"white\", regexp = r'\\S+').generate(text)\n",
    "\n",
    "# Display the generated image:\n",
    "plt.imshow(wordcloud, interpolation='bilinear')\n",
    "plt.axis(\"off\")\n",
    "plt.show()"
   ]
  },
  {
   "cell_type": "code",
   "execution_count": null,
   "id": "ba7e18be",
   "metadata": {},
   "outputs": [],
   "source": [
    "# Start with one review:\n",
    "text = espn_100.last_name[:].dropna().to_list()\n",
    "text = \" \".join(text)\n",
    "# Create and generate a word cloud image:\n",
    "wordcloud = WordCloud(max_font_size=50, max_words=100, background_color=\"white\", regexp = r'\\S+').generate(text)\n",
    "\n",
    "# Display the generated image:\n",
    "plt.imshow(wordcloud, interpolation='bilinear')\n",
    "plt.axis(\"off\")\n",
    "plt.show()"
   ]
  },
  {
   "cell_type": "code",
   "execution_count": null,
   "id": "d2c3010a",
   "metadata": {},
   "outputs": [],
   "source": []
  }
 ],
 "metadata": {
  "kernelspec": {
   "display_name": "Python 3 (ipykernel)",
   "language": "python",
   "name": "python3"
  },
  "language_info": {
   "codemirror_mode": {
    "name": "ipython",
    "version": 3
   },
   "file_extension": ".py",
   "mimetype": "text/x-python",
   "name": "python",
   "nbconvert_exporter": "python",
   "pygments_lexer": "ipython3",
   "version": "3.9.16"
  }
 },
 "nbformat": 4,
 "nbformat_minor": 5
}
