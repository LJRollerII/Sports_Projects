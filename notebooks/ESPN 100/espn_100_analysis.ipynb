{
 "cells": [
  {
   "cell_type": "code",
   "execution_count": null,
   "id": "251225bd",
   "metadata": {},
   "outputs": [],
   "source": [
    "import pandas as pd\n",
    "import numpy as np\n",
    "import matplotlib.pyplot as plt\n",
    "import seaborn as sns\n",
    "%matplotlib inline\n",
    "import warnings\n",
    "import plotly.express as px \n",
    "import plotly.graph_objects as go\n",
    "from plotly.subplots import make_subplots\n",
    "from IPython.core.interactiveshell import InteractiveShell\n",
    "InteractiveShell.ast_node_interactivity = \"all\"\n",
    "from autoviz.AutoViz_Class import AutoViz_Class"
   ]
  },
  {
   "cell_type": "code",
   "execution_count": null,
   "id": "a10d9b6e",
   "metadata": {
    "scrolled": true
   },
   "outputs": [],
   "source": [
    "espn_100 = pd.read_csv(\"espn_100_database.csv\")\n",
    "espn_100"
   ]
  },
  {
   "cell_type": "code",
   "execution_count": null,
   "id": "965dbb10",
   "metadata": {},
   "outputs": [],
   "source": [
    "espn_100.info"
   ]
  },
  {
   "cell_type": "code",
   "execution_count": null,
   "id": "ce5fb463",
   "metadata": {
    "scrolled": false
   },
   "outputs": [],
   "source": [
    "print(espn_100.dtypes)"
   ]
  },
  {
   "cell_type": "code",
   "execution_count": null,
   "id": "f8abd3fb",
   "metadata": {},
   "outputs": [],
   "source": [
    "espn_100.isnull().sum()"
   ]
  },
  {
   "cell_type": "markdown",
   "id": "8f77d7af",
   "metadata": {},
   "source": [
    "# General Information"
   ]
  },
  {
   "cell_type": "code",
   "execution_count": null,
   "id": "6e574d38",
   "metadata": {},
   "outputs": [],
   "source": [
    "positions = pd.DataFrame(espn_100.pos.value_counts().reset_index())\n",
    "positions"
   ]
  },
  {
   "cell_type": "code",
   "execution_count": null,
   "id": "bf0d6b7f",
   "metadata": {},
   "outputs": [],
   "source": [
    "positions.columns = ['Position', 'Number of Recruits']\n",
    "positions"
   ]
  },
  {
   "cell_type": "code",
   "execution_count": null,
   "id": "e11d901d",
   "metadata": {},
   "outputs": [],
   "source": [
    "fig = px.histogram(espn_100, x=\"pos\")\n",
    "\n",
    "fig.show()"
   ]
  },
  {
   "cell_type": "code",
   "execution_count": null,
   "id": "a4ab462a",
   "metadata": {},
   "outputs": [],
   "source": [
    "espn_100.ht_inches.mean()"
   ]
  },
  {
   "cell_type": "markdown",
   "id": "0e6cfa0a",
   "metadata": {},
   "source": [
    "The average height for an ESPN 100 recruit is 6'5''. Just under 6'6''"
   ]
  },
  {
   "cell_type": "code",
   "execution_count": null,
   "id": "895783d7",
   "metadata": {},
   "outputs": [],
   "source": [
    "espn_100.ht_inches.min()"
   ]
  },
  {
   "cell_type": "markdown",
   "id": "0a41d715",
   "metadata": {},
   "source": [
    "The shortest recruit is 5'6''"
   ]
  },
  {
   "cell_type": "code",
   "execution_count": null,
   "id": "dc0eb980",
   "metadata": {},
   "outputs": [],
   "source": [
    "espn_100.ht_inches.max()"
   ]
  },
  {
   "cell_type": "markdown",
   "id": "aa972c79",
   "metadata": {},
   "source": [
    "The tallest recruit is 7'5''"
   ]
  },
  {
   "cell_type": "code",
   "execution_count": null,
   "id": "bc79dc1e",
   "metadata": {},
   "outputs": [],
   "source": [
    "fig = px.scatter_3d(espn_100, x=\"pos\", y=\"ht_inches\", z=\"height\")\n",
    " \n",
    "fig.show()"
   ]
  },
  {
   "cell_type": "code",
   "execution_count": null,
   "id": "1f505687",
   "metadata": {},
   "outputs": [],
   "source": [
    "espn_100.weight.mean()"
   ]
  },
  {
   "cell_type": "markdown",
   "id": "04254e17",
   "metadata": {},
   "source": [
    "The average weight for an ESPN 100 recruit is 200 lbs"
   ]
  },
  {
   "cell_type": "code",
   "execution_count": null,
   "id": "bd04463c",
   "metadata": {},
   "outputs": [],
   "source": [
    "espn_100.weight.min()"
   ]
  },
  {
   "cell_type": "markdown",
   "id": "8df3f42b",
   "metadata": {},
   "source": [
    "The lightest recruit is 150 lbs"
   ]
  },
  {
   "cell_type": "code",
   "execution_count": null,
   "id": "118f0643",
   "metadata": {},
   "outputs": [],
   "source": [
    "espn_100.weight.max()"
   ]
  },
  {
   "cell_type": "markdown",
   "id": "c3ef8fa1",
   "metadata": {},
   "source": [
    "The heaviest recruit is 300 lbs"
   ]
  },
  {
   "cell_type": "code",
   "execution_count": null,
   "id": "bdcd5b49",
   "metadata": {},
   "outputs": [],
   "source": [
    "fig = px.violin(espn_100, x=\"pos\", y=\"weight\")\n",
    " \n",
    "\n",
    "fig.show()"
   ]
  },
  {
   "cell_type": "code",
   "execution_count": null,
   "id": "19ce2600",
   "metadata": {},
   "outputs": [],
   "source": [
    "espn_100.stars.mean()"
   ]
  },
  {
   "cell_type": "markdown",
   "id": "890378c9",
   "metadata": {},
   "source": [
    "The average ESPN recurit is rated 4 stars. Note: Star ratings were not given to the classes of 2007, 2008, and 2009."
   ]
  },
  {
   "cell_type": "code",
   "execution_count": null,
   "id": "b0252d29",
   "metadata": {},
   "outputs": [],
   "source": [
    "espn_100.grade.mean()"
   ]
  },
  {
   "cell_type": "markdown",
   "id": "25608b61",
   "metadata": {},
   "source": [
    "The average grade of a ESPN 100 recruit is 90"
   ]
  },
  {
   "cell_type": "code",
   "execution_count": null,
   "id": "23ee9988",
   "metadata": {},
   "outputs": [],
   "source": [
    "espn_100.grade.min()"
   ]
  },
  {
   "cell_type": "markdown",
   "id": "0438a3a2",
   "metadata": {},
   "source": [
    "The lowest grade of a ESPN 100 recruit is 80"
   ]
  },
  {
   "cell_type": "code",
   "execution_count": null,
   "id": "f628dcdc",
   "metadata": {},
   "outputs": [],
   "source": [
    "espn_100.grade.max()"
   ]
  },
  {
   "cell_type": "markdown",
   "id": "1e3673a7",
   "metadata": {},
   "source": [
    "The highest grade of a ESPN 100 recruit is 99"
   ]
  },
  {
   "cell_type": "code",
   "execution_count": null,
   "id": "255393c2",
   "metadata": {
    "scrolled": true
   },
   "outputs": [],
   "source": [
    "espn_100.corr()"
   ]
  },
  {
   "cell_type": "code",
   "execution_count": null,
   "id": "9546c826",
   "metadata": {},
   "outputs": [],
   "source": [
    "sns.heatmap(espn_100.corr())"
   ]
  },
  {
   "cell_type": "markdown",
   "id": "8b902594",
   "metadata": {},
   "source": [
    "How many ESPN 100 Recruits were McDonald's All-Americans?"
   ]
  },
  {
   "cell_type": "code",
   "execution_count": null,
   "id": "ac44a6e2",
   "metadata": {
    "scrolled": true
   },
   "outputs": [],
   "source": [
    "num_mdaa = pd.DataFrame(espn_100.mcdonalds_aa.value_counts().reset_index())\n",
    "num_mdaa"
   ]
  },
  {
   "cell_type": "code",
   "execution_count": null,
   "id": "5fb0b1fa",
   "metadata": {},
   "outputs": [],
   "source": [
    "num_mdaa.columns = ['McDonalds All-American', 'Number of Recruits']\n",
    "num_mdaa"
   ]
  },
  {
   "cell_type": "code",
   "execution_count": null,
   "id": "3e5abd13",
   "metadata": {},
   "outputs": [],
   "source": [
    "fig = px.pie(num_mdaa, values=\"Number of Recruits\", names=\"McDonalds All-American\")\n",
    "fig.show()"
   ]
  },
  {
   "cell_type": "markdown",
   "id": "e8e18654",
   "metadata": {},
   "source": [
    "How many ESPN 100 Recruits played in the Jordan Brand Classic?"
   ]
  },
  {
   "cell_type": "code",
   "execution_count": null,
   "id": "a0aebb28",
   "metadata": {},
   "outputs": [],
   "source": [
    "num_jbc = pd.DataFrame(espn_100.jbc.value_counts().reset_index())\n",
    "num_jbc"
   ]
  },
  {
   "cell_type": "code",
   "execution_count": null,
   "id": "8d8e4154",
   "metadata": {},
   "outputs": [],
   "source": [
    "num_jbc.columns = ['JBC Participant', 'Number of Recruits']\n",
    "num_jbc"
   ]
  },
  {
   "cell_type": "code",
   "execution_count": null,
   "id": "fdb4b40f",
   "metadata": {},
   "outputs": [],
   "source": [
    "fig = px.pie(num_jbc, values=\"Number of Recruits\", names=\"JBC Participant\")\n",
    "fig.show()"
   ]
  },
  {
   "cell_type": "markdown",
   "id": "49a655cf",
   "metadata": {},
   "source": [
    "# Location of Recruits"
   ]
  },
  {
   "cell_type": "markdown",
   "id": "ea50b37b",
   "metadata": {},
   "source": [
    "Which states produces the most recurits?"
   ]
  },
  {
   "cell_type": "code",
   "execution_count": null,
   "id": "300d8469",
   "metadata": {},
   "outputs": [],
   "source": [
    "states = pd.DataFrame(espn_100.state.value_counts().reset_index())"
   ]
  },
  {
   "cell_type": "code",
   "execution_count": null,
   "id": "5df936ef",
   "metadata": {},
   "outputs": [],
   "source": [
    "states.columns = ['State', 'Signees']\n",
    "states"
   ]
  },
  {
   "cell_type": "code",
   "execution_count": null,
   "id": "b45ba436",
   "metadata": {},
   "outputs": [],
   "source": [
    "states.nlargest(5)"
   ]
  },
  {
   "cell_type": "code",
   "execution_count": null,
   "id": "4e804628",
   "metadata": {},
   "outputs": [],
   "source": [
    "top5_states = states[states['State'].isin(['California', 'Texas', 'Georgia','Florida', 'New York'])]"
   ]
  },
  {
   "cell_type": "code",
   "execution_count": null,
   "id": "89155981",
   "metadata": {},
   "outputs": [],
   "source": [
    "states.nsmallest(5)"
   ]
  },
  {
   "cell_type": "markdown",
   "id": "4e93d165",
   "metadata": {},
   "source": [
    "California produced the most recurits."
   ]
  },
  {
   "cell_type": "markdown",
   "id": "d63a530d",
   "metadata": {},
   "source": [
    "Which cities produce the most recruits?"
   ]
  },
  {
   "cell_type": "code",
   "execution_count": null,
   "id": "47f7bc47",
   "metadata": {},
   "outputs": [],
   "source": [
    "cities = pd.DataFrame(espn_100.hometown.value_counts().reset_index())"
   ]
  },
  {
   "cell_type": "code",
   "execution_count": null,
   "id": "116c7729",
   "metadata": {},
   "outputs": [],
   "source": [
    "cities.columns = ['City', 'Signees']\n",
    "cities"
   ]
  },
  {
   "cell_type": "code",
   "execution_count": null,
   "id": "39adf37b",
   "metadata": {},
   "outputs": [],
   "source": [
    "cities.nlargest(5)"
   ]
  },
  {
   "cell_type": "code",
   "execution_count": null,
   "id": "a750fb31",
   "metadata": {},
   "outputs": [],
   "source": [
    "top5_cities = cities[cities['City'].isin(['Chicago, IL', 'Memphis, TN', 'Los Angeles, CA','Indianapolis, IN', 'Philadelphia, PA'])]"
   ]
  },
  {
   "cell_type": "code",
   "execution_count": null,
   "id": "727aab53",
   "metadata": {},
   "outputs": [],
   "source": [
    "cities.nsmallest(5)"
   ]
  },
  {
   "cell_type": "markdown",
   "id": "f311b3f1",
   "metadata": {},
   "source": [
    "Chicago, IL produced the most recruits."
   ]
  },
  {
   "cell_type": "markdown",
   "id": "bb42b4e5",
   "metadata": {},
   "source": [
    "# High School Information"
   ]
  },
  {
   "cell_type": "markdown",
   "id": "51b9574c",
   "metadata": {},
   "source": [
    "High School Type"
   ]
  },
  {
   "cell_type": "code",
   "execution_count": null,
   "id": "cb1dca2d",
   "metadata": {},
   "outputs": [],
   "source": [
    "hs_type = pd.DataFrame(espn_100.hs_type.value_counts().reset_index())"
   ]
  },
  {
   "cell_type": "code",
   "execution_count": null,
   "id": "9f1e4a9a",
   "metadata": {
    "scrolled": false
   },
   "outputs": [],
   "source": [
    "hs_type.columns = ['High School Type', 'Number of Schools']\n",
    "hs_type"
   ]
  },
  {
   "cell_type": "code",
   "execution_count": null,
   "id": "630d89df",
   "metadata": {},
   "outputs": [],
   "source": [
    "px.bar(hs_type,x='High School Type',y='Number of Schools', text='Number of Schools',title='Type of High School ESPN 100 Recruits Attend')"
   ]
  },
  {
   "cell_type": "markdown",
   "id": "1dad0538",
   "metadata": {},
   "source": [
    "Most ESPN 100 Recuits attended public schools"
   ]
  },
  {
   "cell_type": "markdown",
   "id": "a4a0236a",
   "metadata": {},
   "source": [
    "High School Affiliation"
   ]
  },
  {
   "cell_type": "code",
   "execution_count": null,
   "id": "c8b930c0",
   "metadata": {},
   "outputs": [],
   "source": [
    "hs_affiliation = pd.DataFrame(espn_100.hs_affiliation_type.value_counts().reset_index())"
   ]
  },
  {
   "cell_type": "code",
   "execution_count": null,
   "id": "249bffb2",
   "metadata": {
    "scrolled": false
   },
   "outputs": [],
   "source": [
    "hs_affiliation.columns = ['High School Affiliation', 'Number of Schools']\n",
    "hs_affiliation"
   ]
  },
  {
   "cell_type": "code",
   "execution_count": null,
   "id": "506fbb85",
   "metadata": {},
   "outputs": [],
   "source": [
    "px.bar(hs_affiliation,x='High School Affiliation',y='Number of Schools', text='Number of Schools',title='High School Affiliations for ESPN 100 Recruits')"
   ]
  },
  {
   "cell_type": "markdown",
   "id": "c9c88314",
   "metadata": {},
   "source": [
    "Most ESPN 100 Recuits High Schools were public school affiliated."
   ]
  },
  {
   "cell_type": "markdown",
   "id": "c212f0ef",
   "metadata": {},
   "source": [
    "# College Signings"
   ]
  },
  {
   "cell_type": "code",
   "execution_count": null,
   "id": "606c847d",
   "metadata": {},
   "outputs": [],
   "source": [
    "college_signings = pd.DataFrame(espn_100.school.value_counts().reset_index())\n",
    "college_signings"
   ]
  },
  {
   "cell_type": "code",
   "execution_count": null,
   "id": "9b4517ae",
   "metadata": {},
   "outputs": [],
   "source": [
    "college_signings.columns = ['School', 'Signees']\n",
    "college_signings"
   ]
  },
  {
   "cell_type": "code",
   "execution_count": null,
   "id": "8a5bb11c",
   "metadata": {},
   "outputs": [],
   "source": [
    "college_signings.Signees.nlargest(5)"
   ]
  },
  {
   "cell_type": "code",
   "execution_count": null,
   "id": "fd2d3db6",
   "metadata": {},
   "outputs": [],
   "source": [
    "top5_schools = college_signings[college_signings['School'].isin(['Kentucky', 'Duke', 'N Carolina','UCLA', 'Arizona'])]"
   ]
  },
  {
   "cell_type": "code",
   "execution_count": null,
   "id": "6c8d7e21",
   "metadata": {},
   "outputs": [],
   "source": [
    "college_signings.Signees.nsmallest(5)"
   ]
  },
  {
   "cell_type": "code",
   "execution_count": null,
   "id": "a6034a5b",
   "metadata": {},
   "outputs": [],
   "source": [
    "plt.bar(college_signings.School,college_signings.Signees)\n",
    "plt.title('Schools with the most Signed Recruits')\n",
    "plt.xlabel('School')\n",
    "plt.ylabel('Number of Recrutis Signed')\n",
    "plt.show()"
   ]
  },
  {
   "cell_type": "code",
   "execution_count": null,
   "id": "67998e9b",
   "metadata": {},
   "outputs": [],
   "source": [
    "fig = px.pie(college_signings, values='Signees', names='School',hole=.5,\n",
    "                    template=\"plotly_white\")\n",
    "fig.update_traces(textposition='inside',textinfo='percent+label')\n",
    "fig.update_layout(height=700,\n",
    "                  title='Number of Recruits Signed Per School')\n",
    "fig.show()"
   ]
  },
  {
   "cell_type": "markdown",
   "id": "aab7181a",
   "metadata": {},
   "source": [
    "Kentucky has signed the most ESPN 100 recruits."
   ]
  },
  {
   "cell_type": "code",
   "execution_count": null,
   "id": "c4e8ba2e",
   "metadata": {},
   "outputs": [],
   "source": [
    "px.bar(top5_schools,x='School',y='Signees', text='Signees',title='Top 5 Schools With The Most ESPN 100 Recruits')"
   ]
  },
  {
   "cell_type": "markdown",
   "id": "d4c782ae",
   "metadata": {},
   "source": [
    "# Let's make Dataframes for Each Position"
   ]
  },
  {
   "cell_type": "markdown",
   "id": "8683aa4d",
   "metadata": {},
   "source": [
    "Point Guard"
   ]
  },
  {
   "cell_type": "code",
   "execution_count": null,
   "id": "29dea148",
   "metadata": {},
   "outputs": [],
   "source": [
    "pg_df = espn_100[espn_100['pos'] =='PG']\n",
    "pg_df"
   ]
  },
  {
   "cell_type": "code",
   "execution_count": null,
   "id": "f0662f49",
   "metadata": {},
   "outputs": [],
   "source": [
    "pg_df.ht_inches.mean()"
   ]
  },
  {
   "cell_type": "markdown",
   "id": "710af0c9",
   "metadata": {},
   "source": [
    "The average point guard is 6'1''"
   ]
  },
  {
   "cell_type": "code",
   "execution_count": null,
   "id": "6b1dac7c",
   "metadata": {},
   "outputs": [],
   "source": [
    "pg_df.ht_inches.min()"
   ]
  },
  {
   "cell_type": "markdown",
   "id": "c20d84e7",
   "metadata": {},
   "source": [
    "The shortest point guard is 5'6''"
   ]
  },
  {
   "cell_type": "code",
   "execution_count": null,
   "id": "25548f8d",
   "metadata": {},
   "outputs": [],
   "source": [
    "pg_df.ht_inches.max()"
   ]
  },
  {
   "cell_type": "markdown",
   "id": "162cc10b",
   "metadata": {},
   "source": [
    "The tallest point guard is 6'7''"
   ]
  },
  {
   "cell_type": "code",
   "execution_count": null,
   "id": "716c401e",
   "metadata": {},
   "outputs": [],
   "source": [
    "pg_df.weight.mean()"
   ]
  },
  {
   "cell_type": "markdown",
   "id": "c7866942",
   "metadata": {},
   "source": [
    "Average Point Guard weighs 175 lbs"
   ]
  },
  {
   "cell_type": "code",
   "execution_count": null,
   "id": "98097a7a",
   "metadata": {},
   "outputs": [],
   "source": [
    "pg_df.weight.min()"
   ]
  },
  {
   "cell_type": "markdown",
   "id": "39ea0e08",
   "metadata": {},
   "source": [
    "Lightest Point Guard is 150 lbs."
   ]
  },
  {
   "cell_type": "code",
   "execution_count": null,
   "id": "6a2ce79b",
   "metadata": {},
   "outputs": [],
   "source": [
    "pg_df.weight.max()"
   ]
  },
  {
   "cell_type": "markdown",
   "id": "48ca4e62",
   "metadata": {},
   "source": [
    "Heaviest Point Guard is 220 lbs"
   ]
  },
  {
   "cell_type": "markdown",
   "id": "79ef2618",
   "metadata": {},
   "source": [
    "Which states produces the most point guards?"
   ]
  },
  {
   "cell_type": "code",
   "execution_count": null,
   "id": "841f3d3a",
   "metadata": {},
   "outputs": [],
   "source": [
    "pg_states = pd.DataFrame(pg_df.state.value_counts().reset_index())\n",
    "pg_states"
   ]
  },
  {
   "cell_type": "code",
   "execution_count": null,
   "id": "e66ecaf8",
   "metadata": {},
   "outputs": [],
   "source": [
    "pg_states.columns = ['State','Signees']\n",
    "pg_states"
   ]
  },
  {
   "cell_type": "code",
   "execution_count": null,
   "id": "521eae51",
   "metadata": {},
   "outputs": [],
   "source": [
    "pg_states.Signees.nlargest(5)"
   ]
  },
  {
   "cell_type": "code",
   "execution_count": null,
   "id": "6fd66d0d",
   "metadata": {},
   "outputs": [],
   "source": [
    "pg_states.Signees.nsmallest(5)"
   ]
  },
  {
   "cell_type": "markdown",
   "id": "c3ec6271",
   "metadata": {},
   "source": [
    "California produced the most Point Guards"
   ]
  },
  {
   "cell_type": "markdown",
   "id": "d9aec283",
   "metadata": {},
   "source": [
    "Which cities produce the most point guards?"
   ]
  },
  {
   "cell_type": "code",
   "execution_count": null,
   "id": "35f5c7e7",
   "metadata": {},
   "outputs": [],
   "source": [
    "pg_cities = pd.DataFrame(pg_df.hometown.value_counts().reset_index())\n",
    "pg_cities"
   ]
  },
  {
   "cell_type": "code",
   "execution_count": null,
   "id": "1b425210",
   "metadata": {},
   "outputs": [],
   "source": [
    "pg_cities.columns = ['City', 'Signees']\n",
    "pg_cities"
   ]
  },
  {
   "cell_type": "code",
   "execution_count": null,
   "id": "4ebf4d0e",
   "metadata": {},
   "outputs": [],
   "source": [
    "pg_cities.Signees.nlargest(5)"
   ]
  },
  {
   "cell_type": "code",
   "execution_count": null,
   "id": "256ebf6e",
   "metadata": {},
   "outputs": [],
   "source": [
    "pg_cities.Signees.nsmallest(5)"
   ]
  },
  {
   "cell_type": "markdown",
   "id": "b2cf93d7",
   "metadata": {},
   "source": [
    "Detroit, MI produced the most Point Guards."
   ]
  },
  {
   "cell_type": "markdown",
   "id": "c2e53330",
   "metadata": {},
   "source": [
    "Which schools signed the most point guards?"
   ]
  },
  {
   "cell_type": "code",
   "execution_count": null,
   "id": "e27e3f87",
   "metadata": {
    "scrolled": true
   },
   "outputs": [],
   "source": [
    "pg_signings = pd.DataFrame(pg_df.school.value_counts().reset_index())\n",
    "pg_signings"
   ]
  },
  {
   "cell_type": "code",
   "execution_count": null,
   "id": "5a4b317f",
   "metadata": {},
   "outputs": [],
   "source": [
    "pg_signings.columns = ['School', 'Signees']\n",
    "pg_signings"
   ]
  },
  {
   "cell_type": "markdown",
   "id": "fdb3b8d3",
   "metadata": {},
   "source": [
    " Kentucky signed the most point guards"
   ]
  },
  {
   "cell_type": "markdown",
   "id": "d290156a",
   "metadata": {},
   "source": [
    "Shooting Guard"
   ]
  },
  {
   "cell_type": "code",
   "execution_count": null,
   "id": "92298632",
   "metadata": {},
   "outputs": [],
   "source": [
    "sg_df = espn_100[espn_100['pos'] =='SG']\n",
    "sg_df"
   ]
  },
  {
   "cell_type": "code",
   "execution_count": null,
   "id": "7c229040",
   "metadata": {
    "scrolled": true
   },
   "outputs": [],
   "source": [
    "sg_df.ht_inches.mean()"
   ]
  },
  {
   "cell_type": "markdown",
   "id": "f227265a",
   "metadata": {},
   "source": [
    "The average shooting guard is 6'3''"
   ]
  },
  {
   "cell_type": "code",
   "execution_count": null,
   "id": "1963e5c6",
   "metadata": {},
   "outputs": [],
   "source": [
    "sg_df.ht_inches.min()"
   ]
  },
  {
   "cell_type": "markdown",
   "id": "b6a901b3",
   "metadata": {},
   "source": [
    "The shortest shooting guard is 6 ft even (6'0'')."
   ]
  },
  {
   "cell_type": "code",
   "execution_count": null,
   "id": "7af8c191",
   "metadata": {},
   "outputs": [],
   "source": [
    "sg_df.ht_inches.max()"
   ]
  },
  {
   "cell_type": "markdown",
   "id": "41ea3950",
   "metadata": {},
   "source": [
    "The tallest shooting guard is 6'7''"
   ]
  },
  {
   "cell_type": "code",
   "execution_count": null,
   "id": "5cbcec6f",
   "metadata": {},
   "outputs": [],
   "source": [
    "sg_df.weight.mean()"
   ]
  },
  {
   "cell_type": "markdown",
   "id": "47d0c64e",
   "metadata": {},
   "source": [
    "The average shooting guard weighs 187 lbs."
   ]
  },
  {
   "cell_type": "code",
   "execution_count": null,
   "id": "a2bbddbd",
   "metadata": {},
   "outputs": [],
   "source": [
    "sg_df.weight.min()"
   ]
  },
  {
   "cell_type": "markdown",
   "id": "be2b56a4",
   "metadata": {},
   "source": [
    "The lightest shooting guard weighs l60 lbs."
   ]
  },
  {
   "cell_type": "code",
   "execution_count": null,
   "id": "69b9a3e5",
   "metadata": {},
   "outputs": [],
   "source": [
    "sg_df.weight.max()"
   ]
  },
  {
   "cell_type": "markdown",
   "id": "dbd83f96",
   "metadata": {},
   "source": [
    "The heaviest shooting guard weighs 225 lbs."
   ]
  },
  {
   "cell_type": "markdown",
   "id": "e9724e1d",
   "metadata": {},
   "source": [
    "Which states produces the most shooting guards?"
   ]
  },
  {
   "cell_type": "code",
   "execution_count": null,
   "id": "7f01abc3",
   "metadata": {},
   "outputs": [],
   "source": [
    "sg_states = pd.DataFrame(sg_df.state.value_counts().reset_index())"
   ]
  },
  {
   "cell_type": "code",
   "execution_count": null,
   "id": "b7b69ac7",
   "metadata": {},
   "outputs": [],
   "source": [
    "sg_states.columns = ['State', 'Signees']\n",
    "sg_states"
   ]
  },
  {
   "cell_type": "code",
   "execution_count": null,
   "id": "983e7a00",
   "metadata": {},
   "outputs": [],
   "source": [
    "sg_states.Signees.nlargest(5)"
   ]
  },
  {
   "cell_type": "code",
   "execution_count": null,
   "id": "00698797",
   "metadata": {},
   "outputs": [],
   "source": [
    "sg_states.Signees.nsmallest(5)"
   ]
  },
  {
   "cell_type": "markdown",
   "id": "93db4781",
   "metadata": {},
   "source": [
    "California produced the most Shooting Guards"
   ]
  },
  {
   "cell_type": "markdown",
   "id": "24a60102",
   "metadata": {},
   "source": [
    "Which cities produce the most shooting guards?"
   ]
  },
  {
   "cell_type": "code",
   "execution_count": null,
   "id": "6b3e5dc4",
   "metadata": {},
   "outputs": [],
   "source": [
    "sg_cities = pd.DataFrame(sg_df.hometown.value_counts().reset_index())\n",
    "sg_cities"
   ]
  },
  {
   "cell_type": "code",
   "execution_count": null,
   "id": "d9f44029",
   "metadata": {},
   "outputs": [],
   "source": [
    "sg_cities.columns = ['City', 'Signees']\n",
    "sg_cities"
   ]
  },
  {
   "cell_type": "code",
   "execution_count": null,
   "id": "e543237d",
   "metadata": {},
   "outputs": [],
   "source": [
    "sg_cities.Signees.nlargest(5)"
   ]
  },
  {
   "cell_type": "code",
   "execution_count": null,
   "id": "6ea069dd",
   "metadata": {},
   "outputs": [],
   "source": [
    "sg_cities.Signees.nsmallest(5)"
   ]
  },
  {
   "cell_type": "markdown",
   "id": "919c30ba",
   "metadata": {},
   "source": [
    "Chicago, IL produced the most shooting guards."
   ]
  },
  {
   "cell_type": "markdown",
   "id": "5fb65190",
   "metadata": {},
   "source": [
    "Which schools signed the most shooting guards?"
   ]
  },
  {
   "cell_type": "code",
   "execution_count": null,
   "id": "317be563",
   "metadata": {},
   "outputs": [],
   "source": [
    "sg_signings = pd.DataFrame(sg_df.school.value_counts().reset_index())\n",
    "sg_signings"
   ]
  },
  {
   "cell_type": "code",
   "execution_count": null,
   "id": "55f88407",
   "metadata": {
    "scrolled": true
   },
   "outputs": [],
   "source": [
    "sg_signings.columns = ['School', 'Signees']\n",
    "sg_signings"
   ]
  },
  {
   "cell_type": "markdown",
   "id": "02638cc4",
   "metadata": {},
   "source": [
    "Duke signed the most shooting guards."
   ]
  },
  {
   "cell_type": "markdown",
   "id": "bc568f1f",
   "metadata": {},
   "source": [
    "Small Forward"
   ]
  },
  {
   "cell_type": "code",
   "execution_count": null,
   "id": "2bd4e4a9",
   "metadata": {},
   "outputs": [],
   "source": [
    "sf_df = espn_100[espn_100['pos'] =='SF']\n",
    "sf_df"
   ]
  },
  {
   "cell_type": "code",
   "execution_count": null,
   "id": "cfbdd421",
   "metadata": {},
   "outputs": [],
   "source": [
    "sf_df.ht_inches.mean()"
   ]
  },
  {
   "cell_type": "markdown",
   "id": "a50a19fd",
   "metadata": {},
   "source": [
    "The average small forward is 6'6''"
   ]
  },
  {
   "cell_type": "code",
   "execution_count": null,
   "id": "6d9ed145",
   "metadata": {},
   "outputs": [],
   "source": [
    "sf_df.ht_inches.min()"
   ]
  },
  {
   "cell_type": "markdown",
   "id": "85d51a7c",
   "metadata": {},
   "source": [
    "The shortest small forward is 6'4''"
   ]
  },
  {
   "cell_type": "code",
   "execution_count": null,
   "id": "b1e3ff28",
   "metadata": {},
   "outputs": [],
   "source": [
    "sf_df.ht_inches.max()"
   ]
  },
  {
   "cell_type": "markdown",
   "id": "3e294f30",
   "metadata": {},
   "source": [
    "The tallest small forward is 6'10''"
   ]
  },
  {
   "cell_type": "code",
   "execution_count": null,
   "id": "fa09476b",
   "metadata": {},
   "outputs": [],
   "source": [
    "sf_df.weight.mean()"
   ]
  },
  {
   "cell_type": "markdown",
   "id": "f64b0e71",
   "metadata": {},
   "source": [
    "The average small forward weighs 197 lbs."
   ]
  },
  {
   "cell_type": "code",
   "execution_count": null,
   "id": "ace9b7e6",
   "metadata": {},
   "outputs": [],
   "source": [
    "sf_df.weight.min()"
   ]
  },
  {
   "cell_type": "markdown",
   "id": "654fd0ec",
   "metadata": {},
   "source": [
    "The lightest small forward weighs 160 lbs."
   ]
  },
  {
   "cell_type": "code",
   "execution_count": null,
   "id": "277fb38e",
   "metadata": {},
   "outputs": [],
   "source": [
    "sf_df.weight.max()"
   ]
  },
  {
   "cell_type": "markdown",
   "id": "d773fdb7",
   "metadata": {},
   "source": [
    "The heaviest small forward weighs 240 lbs."
   ]
  },
  {
   "cell_type": "markdown",
   "id": "b887f8c5",
   "metadata": {},
   "source": [
    "Which states produces the most small forwards?"
   ]
  },
  {
   "cell_type": "code",
   "execution_count": null,
   "id": "ac8c6cdf",
   "metadata": {},
   "outputs": [],
   "source": [
    "sf_states = pd.DataFrame(sf_df.state.value_counts().reset_index())"
   ]
  },
  {
   "cell_type": "code",
   "execution_count": null,
   "id": "0c8c8dd6",
   "metadata": {},
   "outputs": [],
   "source": [
    "sf_states.columns = ['State', 'Signees']\n",
    "sf_states"
   ]
  },
  {
   "cell_type": "code",
   "execution_count": null,
   "id": "10bb394f",
   "metadata": {},
   "outputs": [],
   "source": [
    "sf_states.Signees.nlargest(5)"
   ]
  },
  {
   "cell_type": "code",
   "execution_count": null,
   "id": "4a008b59",
   "metadata": {},
   "outputs": [],
   "source": [
    "sf_states.Signees.nsmallest(5)"
   ]
  },
  {
   "cell_type": "markdown",
   "id": "3b52b03d",
   "metadata": {},
   "source": [
    "California produced the most Small Forwards"
   ]
  },
  {
   "cell_type": "markdown",
   "id": "1affb86f",
   "metadata": {},
   "source": [
    "Which cities produce the most small forwards?"
   ]
  },
  {
   "cell_type": "code",
   "execution_count": null,
   "id": "db4d9e02",
   "metadata": {},
   "outputs": [],
   "source": [
    "sf_cities = pd.DataFrame(sf_df.hometown.value_counts().reset_index())\n",
    "sf_cities"
   ]
  },
  {
   "cell_type": "code",
   "execution_count": null,
   "id": "1416fc7c",
   "metadata": {},
   "outputs": [],
   "source": [
    "sf_cities.columns = ['City', 'Signees']\n",
    "sf_cities"
   ]
  },
  {
   "cell_type": "code",
   "execution_count": null,
   "id": "dadcf863",
   "metadata": {},
   "outputs": [],
   "source": [
    "sf_cities.Signees.nlargest(5)"
   ]
  },
  {
   "cell_type": "code",
   "execution_count": null,
   "id": "4795c9b2",
   "metadata": {},
   "outputs": [],
   "source": [
    "sf_cities.Signees.nsmallest(5)"
   ]
  },
  {
   "cell_type": "markdown",
   "id": "6ff56c21",
   "metadata": {},
   "source": [
    "Chicago, IL produced the most small forwards."
   ]
  },
  {
   "cell_type": "markdown",
   "id": "a5af7d58",
   "metadata": {},
   "source": [
    "Which schools signed the most small forwards?"
   ]
  },
  {
   "cell_type": "code",
   "execution_count": null,
   "id": "0657a222",
   "metadata": {},
   "outputs": [],
   "source": [
    "sf_signings = pd.DataFrame(sf_df.school.value_counts().reset_index())\n",
    "sf_signings"
   ]
  },
  {
   "cell_type": "code",
   "execution_count": null,
   "id": "e36f7922",
   "metadata": {},
   "outputs": [],
   "source": [
    "sf_signings.columns = ['School', 'Signees']\n",
    "sf_signings"
   ]
  },
  {
   "cell_type": "markdown",
   "id": "7b07ae8e",
   "metadata": {},
   "source": [
    "Duke signed the most small forwards."
   ]
  },
  {
   "cell_type": "markdown",
   "id": "e5907736",
   "metadata": {},
   "source": [
    "Power Forward"
   ]
  },
  {
   "cell_type": "code",
   "execution_count": null,
   "id": "87de5e86",
   "metadata": {},
   "outputs": [],
   "source": [
    "pf_df = espn_100[espn_100['pos'] =='PF']\n",
    "pf_df"
   ]
  },
  {
   "cell_type": "code",
   "execution_count": null,
   "id": "c8507a17",
   "metadata": {},
   "outputs": [],
   "source": [
    "pf_df.ht_inches.mean()"
   ]
  },
  {
   "cell_type": "markdown",
   "id": "7b940eda",
   "metadata": {},
   "source": [
    "The average power forward is 6'8''"
   ]
  },
  {
   "cell_type": "code",
   "execution_count": null,
   "id": "b81ff09c",
   "metadata": {},
   "outputs": [],
   "source": [
    "pf_df.ht_inches.min()"
   ]
  },
  {
   "cell_type": "markdown",
   "id": "20feb877",
   "metadata": {},
   "source": [
    "The smallest power forward is  6'5''"
   ]
  },
  {
   "cell_type": "code",
   "execution_count": null,
   "id": "841df417",
   "metadata": {},
   "outputs": [],
   "source": [
    "pf_df.ht_inches.max()"
   ]
  },
  {
   "cell_type": "markdown",
   "id": "bb78db79",
   "metadata": {},
   "source": [
    "The tallest power forward is 6'11''"
   ]
  },
  {
   "cell_type": "code",
   "execution_count": null,
   "id": "94965502",
   "metadata": {},
   "outputs": [],
   "source": [
    "pf_df.weight.mean()"
   ]
  },
  {
   "cell_type": "markdown",
   "id": "fa72020a",
   "metadata": {},
   "source": [
    "The average power forward weighs 214 lbs."
   ]
  },
  {
   "cell_type": "code",
   "execution_count": null,
   "id": "61f76c01",
   "metadata": {},
   "outputs": [],
   "source": [
    "pf_df.weight.min()"
   ]
  },
  {
   "cell_type": "markdown",
   "id": "85fea12f",
   "metadata": {},
   "source": [
    "The lightest power forward weighs 160 lbs."
   ]
  },
  {
   "cell_type": "code",
   "execution_count": null,
   "id": "b7cbcfa9",
   "metadata": {},
   "outputs": [],
   "source": [
    "pf_df.weight.max()"
   ]
  },
  {
   "cell_type": "markdown",
   "id": "efd75992",
   "metadata": {},
   "source": [
    "The average heaviest power forward weighs 300 lbs."
   ]
  },
  {
   "cell_type": "markdown",
   "id": "c93d5cbb",
   "metadata": {},
   "source": [
    "Which states produces the most power forwards?"
   ]
  },
  {
   "cell_type": "code",
   "execution_count": null,
   "id": "7f048e4f",
   "metadata": {},
   "outputs": [],
   "source": [
    "pf_states = pd.DataFrame(pf_df.state.value_counts().reset_index())"
   ]
  },
  {
   "cell_type": "code",
   "execution_count": null,
   "id": "6c595cd6",
   "metadata": {},
   "outputs": [],
   "source": [
    "pf_states.columns = ['State', 'Signees']\n",
    "pf_states"
   ]
  },
  {
   "cell_type": "code",
   "execution_count": null,
   "id": "ee34c821",
   "metadata": {},
   "outputs": [],
   "source": [
    "pf_states.Signees.nlargest(5)"
   ]
  },
  {
   "cell_type": "code",
   "execution_count": null,
   "id": "c24205f7",
   "metadata": {},
   "outputs": [],
   "source": [
    "pf_states.Signees.nsmallest(5)"
   ]
  },
  {
   "cell_type": "markdown",
   "id": "67cd5378",
   "metadata": {},
   "source": [
    "California produced the most power forwards."
   ]
  },
  {
   "cell_type": "markdown",
   "id": "a5acf494",
   "metadata": {},
   "source": [
    "Which cities produce the most power forwards?"
   ]
  },
  {
   "cell_type": "code",
   "execution_count": null,
   "id": "29f429c5",
   "metadata": {},
   "outputs": [],
   "source": [
    "pf_cities = pd.DataFrame(pf_df.hometown.value_counts().reset_index())"
   ]
  },
  {
   "cell_type": "code",
   "execution_count": null,
   "id": "6de2ac95",
   "metadata": {},
   "outputs": [],
   "source": [
    "pf_cities.columns = ['City', 'Signees']\n",
    "pf_cities"
   ]
  },
  {
   "cell_type": "code",
   "execution_count": null,
   "id": "74ca805a",
   "metadata": {},
   "outputs": [],
   "source": [
    "pf_cities.Signees.nlargest(5)"
   ]
  },
  {
   "cell_type": "code",
   "execution_count": null,
   "id": "9937543c",
   "metadata": {},
   "outputs": [],
   "source": [
    "pf_cities.Signees.nsmallest(5)"
   ]
  },
  {
   "cell_type": "markdown",
   "id": "bff49574",
   "metadata": {},
   "source": [
    "Chicago, IL produced the most power forwards."
   ]
  },
  {
   "cell_type": "markdown",
   "id": "1a1c3b0f",
   "metadata": {},
   "source": [
    "Which schools signed the most power forwards?"
   ]
  },
  {
   "cell_type": "code",
   "execution_count": null,
   "id": "71e031a6",
   "metadata": {},
   "outputs": [],
   "source": [
    "pf_signings = pd.DataFrame(pf_df.school.value_counts().reset_index())\n",
    "pf_signings"
   ]
  },
  {
   "cell_type": "code",
   "execution_count": null,
   "id": "fe59e94a",
   "metadata": {},
   "outputs": [],
   "source": [
    "pf_signings.columns = ['School', 'Signees']\n",
    "pf_signings"
   ]
  },
  {
   "cell_type": "markdown",
   "id": "9133c95b",
   "metadata": {},
   "source": [
    "Kentucky signed the most power forwards."
   ]
  },
  {
   "cell_type": "markdown",
   "id": "8f10e474",
   "metadata": {},
   "source": [
    "Center"
   ]
  },
  {
   "cell_type": "code",
   "execution_count": null,
   "id": "317c7c20",
   "metadata": {},
   "outputs": [],
   "source": [
    "center_df = espn_100[espn_100['pos'] =='C']\n",
    "center_df"
   ]
  },
  {
   "cell_type": "code",
   "execution_count": null,
   "id": "302bbe3e",
   "metadata": {},
   "outputs": [],
   "source": [
    "center_df.ht_inches.mean()"
   ]
  },
  {
   "cell_type": "markdown",
   "id": "ca108865",
   "metadata": {},
   "source": [
    "The average center is 6'10''"
   ]
  },
  {
   "cell_type": "code",
   "execution_count": null,
   "id": "a64b5b14",
   "metadata": {},
   "outputs": [],
   "source": [
    "center_df.ht_inches.min()"
   ]
  },
  {
   "cell_type": "markdown",
   "id": "9d31f875",
   "metadata": {},
   "source": [
    "The shortest center is 6'7''"
   ]
  },
  {
   "cell_type": "code",
   "execution_count": null,
   "id": "cd0c4486",
   "metadata": {},
   "outputs": [],
   "source": [
    "center_df.ht_inches.max()"
   ]
  },
  {
   "cell_type": "markdown",
   "id": "25e62f76",
   "metadata": {},
   "source": [
    "The tallest center is 7'5''"
   ]
  },
  {
   "cell_type": "code",
   "execution_count": null,
   "id": "b6c4e6e1",
   "metadata": {},
   "outputs": [],
   "source": [
    "center_df.weight.mean()"
   ]
  },
  {
   "cell_type": "markdown",
   "id": "6e0aab7c",
   "metadata": {},
   "source": [
    "The average center weighs 232 lbs."
   ]
  },
  {
   "cell_type": "code",
   "execution_count": null,
   "id": "976676b9",
   "metadata": {},
   "outputs": [],
   "source": [
    "center_df.weight.min()"
   ]
  },
  {
   "cell_type": "markdown",
   "id": "7fc47cea",
   "metadata": {},
   "source": [
    "The lightest center weighs 190 lbs."
   ]
  },
  {
   "cell_type": "code",
   "execution_count": null,
   "id": "d6930e16",
   "metadata": {},
   "outputs": [],
   "source": [
    "center_df.weight.max()"
   ]
  },
  {
   "cell_type": "markdown",
   "id": "0cba8d94",
   "metadata": {},
   "source": [
    "The heaviest center weighs 330 lbs."
   ]
  },
  {
   "cell_type": "markdown",
   "id": "874a8e40",
   "metadata": {},
   "source": [
    "Which states produces the most centers?"
   ]
  },
  {
   "cell_type": "code",
   "execution_count": null,
   "id": "61859ff5",
   "metadata": {},
   "outputs": [],
   "source": [
    "center_states = pd.DataFrame(center_df.state.value_counts().reset_index())"
   ]
  },
  {
   "cell_type": "code",
   "execution_count": null,
   "id": "e2c820bb",
   "metadata": {},
   "outputs": [],
   "source": [
    "center_states.columns = ['State', 'Signees']\n",
    "center_states"
   ]
  },
  {
   "cell_type": "code",
   "execution_count": null,
   "id": "bffd85d9",
   "metadata": {},
   "outputs": [],
   "source": [
    "center_states.Signees.nlargest(5)"
   ]
  },
  {
   "cell_type": "code",
   "execution_count": null,
   "id": "2f8e04f3",
   "metadata": {},
   "outputs": [],
   "source": [
    "center_states.Signees.nsmallest(5)"
   ]
  },
  {
   "cell_type": "markdown",
   "id": "bb44d008",
   "metadata": {},
   "source": [
    "Texas produced the most centers"
   ]
  },
  {
   "cell_type": "markdown",
   "id": "1709575c",
   "metadata": {},
   "source": [
    "Which cities produce the most centers?"
   ]
  },
  {
   "cell_type": "code",
   "execution_count": null,
   "id": "dbc8f6af",
   "metadata": {},
   "outputs": [],
   "source": [
    "center_cities = pd.DataFrame(center_df.hometown.value_counts().reset_index())"
   ]
  },
  {
   "cell_type": "code",
   "execution_count": null,
   "id": "6d1e6760",
   "metadata": {},
   "outputs": [],
   "source": [
    "center_cities.columns = ['City', 'Signees']\n",
    "center_cities"
   ]
  },
  {
   "cell_type": "code",
   "execution_count": null,
   "id": "c5acea5d",
   "metadata": {},
   "outputs": [],
   "source": [
    "center_cities.Signees.nlargest(5)"
   ]
  },
  {
   "cell_type": "code",
   "execution_count": null,
   "id": "5c1d11b9",
   "metadata": {},
   "outputs": [],
   "source": [
    "center_cities.Signees.nsmallest(5)"
   ]
  },
  {
   "cell_type": "markdown",
   "id": "2dc2b677",
   "metadata": {},
   "source": [
    "Philadelphia, PA produced the most centers."
   ]
  },
  {
   "cell_type": "markdown",
   "id": "5b16591e",
   "metadata": {},
   "source": [
    "Which schools signed the most centers?"
   ]
  },
  {
   "cell_type": "code",
   "execution_count": null,
   "id": "0834c7aa",
   "metadata": {},
   "outputs": [],
   "source": [
    "center_signings = pd.DataFrame(center_df.school.value_counts().reset_index())\n",
    "center_signings"
   ]
  },
  {
   "cell_type": "code",
   "execution_count": null,
   "id": "ec01ea74",
   "metadata": {},
   "outputs": [],
   "source": [
    "center_signings.columns = ['School', 'Signees']\n",
    "center_signings"
   ]
  },
  {
   "cell_type": "markdown",
   "id": "a019eeb4",
   "metadata": {},
   "source": [
    "Kentucky signed the most centers."
   ]
  },
  {
   "cell_type": "markdown",
   "id": "4ccc619c",
   "metadata": {},
   "source": [
    "# McDonald's All-American & Jordan Brand Classic Information"
   ]
  },
  {
   "cell_type": "markdown",
   "id": "c1c7ed48",
   "metadata": {},
   "source": [
    "McDonald's All-American Info"
   ]
  },
  {
   "cell_type": "code",
   "execution_count": null,
   "id": "470d00e0",
   "metadata": {},
   "outputs": [],
   "source": [
    "mdaa =  espn_100[espn_100['mcdonalds_aa'] =='YES']\n",
    "mdaa"
   ]
  },
  {
   "cell_type": "code",
   "execution_count": null,
   "id": "979e4e97",
   "metadata": {},
   "outputs": [],
   "source": [
    "mdaa = pd.DataFrame(mdaa)\n",
    "mdaa"
   ]
  },
  {
   "cell_type": "code",
   "execution_count": null,
   "id": "76c41318",
   "metadata": {
    "scrolled": true
   },
   "outputs": [],
   "source": [
    "mdaa.player.sum()"
   ]
  },
  {
   "cell_type": "code",
   "execution_count": null,
   "id": "a5bd9b8d",
   "metadata": {},
   "outputs": [],
   "source": [
    "mdaa.rank.mean()"
   ]
  },
  {
   "cell_type": "markdown",
   "id": "707f17ab",
   "metadata": {},
   "source": [
    "The average rank for a McDonald's All-American is"
   ]
  },
  {
   "cell_type": "code",
   "execution_count": null,
   "id": "999a942d",
   "metadata": {},
   "outputs": [],
   "source": [
    "mdaa.rank.min()"
   ]
  },
  {
   "cell_type": "markdown",
   "id": "bfa6aed3",
   "metadata": {},
   "source": [
    "The lowest rank for a McDonald's All-American is"
   ]
  },
  {
   "cell_type": "code",
   "execution_count": null,
   "id": "b1ffb5e7",
   "metadata": {},
   "outputs": [],
   "source": [
    "mdaa.rank.max()"
   ]
  },
  {
   "cell_type": "raw",
   "id": "3398c794",
   "metadata": {},
   "source": [
    "The higest rank for a McDonald's All-American is"
   ]
  },
  {
   "cell_type": "code",
   "execution_count": null,
   "id": "e97b2847",
   "metadata": {},
   "outputs": [],
   "source": [
    "mdaa.grade.mean()"
   ]
  },
  {
   "cell_type": "markdown",
   "id": "28684d52",
   "metadata": {},
   "source": [
    "The average grade for a McDonald's All-American is 94.45"
   ]
  },
  {
   "cell_type": "code",
   "execution_count": null,
   "id": "9d9bc1d4",
   "metadata": {},
   "outputs": [],
   "source": [
    "mdaa.grade.min()"
   ]
  },
  {
   "cell_type": "markdown",
   "id": "a021c79f",
   "metadata": {},
   "source": [
    "The lowest grade for a McDonald's All-American is 86"
   ]
  },
  {
   "cell_type": "code",
   "execution_count": null,
   "id": "2572c8be",
   "metadata": {},
   "outputs": [],
   "source": [
    "mdaa.grade.max()"
   ]
  },
  {
   "cell_type": "markdown",
   "id": "a48fd0a5",
   "metadata": {},
   "source": [
    "The average grade highest for a McDonald's All-American is 99"
   ]
  },
  {
   "cell_type": "code",
   "execution_count": null,
   "id": "1a3c1a58",
   "metadata": {},
   "outputs": [],
   "source": [
    "mdaa.corr()"
   ]
  },
  {
   "cell_type": "code",
   "execution_count": null,
   "id": "ef7790e0",
   "metadata": {},
   "outputs": [],
   "source": [
    "mdaa_signings = pd.DataFrame(mdaa.school.value_counts().reset_index())\n",
    "mdaa_signings"
   ]
  },
  {
   "cell_type": "code",
   "execution_count": null,
   "id": "87f844da",
   "metadata": {
    "scrolled": true
   },
   "outputs": [],
   "source": [
    "mdaa_signings.columns = ['School', 'Signees']\n",
    "mdaa_signings"
   ]
  },
  {
   "cell_type": "markdown",
   "id": "6e3b3d61",
   "metadata": {},
   "source": [
    "Duke Signed the most McDonald's All-Americans"
   ]
  },
  {
   "cell_type": "markdown",
   "id": "d2ec6e54",
   "metadata": {},
   "source": [
    "Jordan Brand Classic Info"
   ]
  },
  {
   "cell_type": "code",
   "execution_count": null,
   "id": "abdeb9c7",
   "metadata": {},
   "outputs": [],
   "source": [
    "jbc = espn_100[espn_100['jbc'] =='YES']\n",
    "jbc"
   ]
  },
  {
   "cell_type": "code",
   "execution_count": null,
   "id": "551c3135",
   "metadata": {},
   "outputs": [],
   "source": [
    "jbc = pd.DataFrame(jbc)\n",
    "jbc"
   ]
  },
  {
   "cell_type": "code",
   "execution_count": null,
   "id": "03eeec17",
   "metadata": {},
   "outputs": [],
   "source": [
    "jbc.player.sum()"
   ]
  },
  {
   "cell_type": "code",
   "execution_count": null,
   "id": "0a166e1b",
   "metadata": {},
   "outputs": [],
   "source": [
    "jbc.rank.mean()"
   ]
  },
  {
   "cell_type": "markdown",
   "id": "bce12283",
   "metadata": {},
   "source": [
    "The average rank for a JBC Participant is"
   ]
  },
  {
   "cell_type": "code",
   "execution_count": null,
   "id": "7f1c8b31",
   "metadata": {},
   "outputs": [],
   "source": [
    "jbc.rank.min()"
   ]
  },
  {
   "cell_type": "markdown",
   "id": "4985e263",
   "metadata": {},
   "source": [
    "The lowest rank for a JBC Participant is"
   ]
  },
  {
   "cell_type": "code",
   "execution_count": null,
   "id": "0ef13b50",
   "metadata": {},
   "outputs": [],
   "source": [
    "jbc.rank.max()"
   ]
  },
  {
   "cell_type": "markdown",
   "id": "cbf42f20",
   "metadata": {},
   "source": [
    "The highest rank for a JBC Participant is"
   ]
  },
  {
   "cell_type": "code",
   "execution_count": null,
   "id": "f5334dd0",
   "metadata": {},
   "outputs": [],
   "source": [
    "jbc.grade.mean()"
   ]
  },
  {
   "cell_type": "markdown",
   "id": "291ba40d",
   "metadata": {},
   "source": [
    "The average grade for  a JBC Participant is 93"
   ]
  },
  {
   "cell_type": "code",
   "execution_count": null,
   "id": "412add40",
   "metadata": {},
   "outputs": [],
   "source": [
    "jbc.grade.min()"
   ]
  },
  {
   "cell_type": "markdown",
   "id": "c772b356",
   "metadata": {},
   "source": [
    "The lowest grade for a JBC Participant is 84"
   ]
  },
  {
   "cell_type": "code",
   "execution_count": null,
   "id": "87e38f4a",
   "metadata": {},
   "outputs": [],
   "source": [
    "jbc.grade.max()"
   ]
  },
  {
   "cell_type": "markdown",
   "id": "1012a343",
   "metadata": {},
   "source": [
    "The highest grade for the top recruit is 99"
   ]
  },
  {
   "cell_type": "code",
   "execution_count": null,
   "id": "f857081f",
   "metadata": {},
   "outputs": [],
   "source": [
    "jbc.corr()"
   ]
  },
  {
   "cell_type": "code",
   "execution_count": null,
   "id": "438115f5",
   "metadata": {},
   "outputs": [],
   "source": [
    "jbc_signings = pd.DataFrame(jbc.school.value_counts().reset_index())\n",
    "jbc_signings"
   ]
  },
  {
   "cell_type": "code",
   "execution_count": null,
   "id": "1aa4788b",
   "metadata": {
    "scrolled": true
   },
   "outputs": [],
   "source": [
    "jbc_signings.columns = ['School', 'Signees']\n",
    "jbc_signings"
   ]
  },
  {
   "cell_type": "markdown",
   "id": "ee8f8d17",
   "metadata": {},
   "source": [
    "Kentucky had the most Jordan Brand Classic participants."
   ]
  },
  {
   "cell_type": "markdown",
   "id": "a873a08b",
   "metadata": {},
   "source": [
    "# Top Recruit Information"
   ]
  },
  {
   "cell_type": "code",
   "execution_count": null,
   "id": "9af9c0c8",
   "metadata": {},
   "outputs": [],
   "source": [
    "top_recruit = espn_100[espn_100['rank'] =='1']\n",
    "top_recruit"
   ]
  },
  {
   "cell_type": "code",
   "execution_count": null,
   "id": "9b8e95e4",
   "metadata": {},
   "outputs": [],
   "source": [
    "top_recruit = pd.DataFrame(top_recruit)\n",
    "top_recruit"
   ]
  },
  {
   "cell_type": "code",
   "execution_count": null,
   "id": "7761d2bc",
   "metadata": {},
   "outputs": [],
   "source": [
    "top_recruit.rank.mean()"
   ]
  },
  {
   "cell_type": "markdown",
   "id": "ae0eb05d",
   "metadata": {},
   "source": [
    "The average rank for the top recruit is"
   ]
  },
  {
   "cell_type": "code",
   "execution_count": null,
   "id": "0fb75d21",
   "metadata": {},
   "outputs": [],
   "source": [
    "top_recruit.rank.min()"
   ]
  },
  {
   "cell_type": "markdown",
   "id": "6d08d684",
   "metadata": {},
   "source": [
    "The lowest rank for the top recruit is"
   ]
  },
  {
   "cell_type": "code",
   "execution_count": null,
   "id": "7afae42e",
   "metadata": {},
   "outputs": [],
   "source": [
    "top_recruit.rank.max()"
   ]
  },
  {
   "cell_type": "markdown",
   "id": "6294de67",
   "metadata": {},
   "source": [
    "The highest rank for the top recruit is"
   ]
  },
  {
   "cell_type": "code",
   "execution_count": null,
   "id": "125b16e0",
   "metadata": {},
   "outputs": [],
   "source": [
    "top_recruit.grade.mean()"
   ]
  },
  {
   "cell_type": "markdown",
   "id": "2c64f876",
   "metadata": {},
   "source": [
    "The average grade for the top recruit is"
   ]
  },
  {
   "cell_type": "code",
   "execution_count": null,
   "id": "281b5247",
   "metadata": {},
   "outputs": [],
   "source": [
    "top_recruit.grade.min()"
   ]
  },
  {
   "cell_type": "markdown",
   "id": "f6746bad",
   "metadata": {},
   "source": [
    "The lowest grade for the top recruit is"
   ]
  },
  {
   "cell_type": "code",
   "execution_count": null,
   "id": "6504a21a",
   "metadata": {},
   "outputs": [],
   "source": [
    "top_recruit.grade.max()"
   ]
  },
  {
   "cell_type": "markdown",
   "id": "970f3994",
   "metadata": {},
   "source": [
    "The highest grade for the top recruit is"
   ]
  },
  {
   "cell_type": "code",
   "execution_count": null,
   "id": "3c9e6c96",
   "metadata": {},
   "outputs": [],
   "source": [
    "top_recruit.corr()"
   ]
  },
  {
   "cell_type": "code",
   "execution_count": null,
   "id": "599607da",
   "metadata": {},
   "outputs": [],
   "source": [
    "top_recruit_signings = pd.DataFrame(top_recruit.school.value_counts().reset_index())\n",
    "top_recruit"
   ]
  },
  {
   "cell_type": "code",
   "execution_count": null,
   "id": "130f2077",
   "metadata": {},
   "outputs": [],
   "source": [
    "top_recruit.columns = ['School', 'Signees']\n",
    "top_recruit"
   ]
  },
  {
   "cell_type": "markdown",
   "id": "f681c24f",
   "metadata": {},
   "source": [
    "signed the most #1 ranked recruits"
   ]
  },
  {
   "cell_type": "markdown",
   "id": "cc1444af",
   "metadata": {},
   "source": [
    "# Autovisualizations"
   ]
  },
  {
   "cell_type": "code",
   "execution_count": null,
   "id": "d5645f83",
   "metadata": {},
   "outputs": [],
   "source": [
    "AV = AutoViz_Class()\n",
    "\n",
    "filename = 'espn_100_database.csv'\n",
    "AV.AutoViz(filename, depVar='pos', sep=\",\", dfte=None, chart_format='svg', max_rows_analyzed=160000, max_cols_analyzed=30)"
   ]
  },
  {
   "cell_type": "code",
   "execution_count": null,
   "id": "7accf8cb",
   "metadata": {},
   "outputs": [],
   "source": [
    "AV.AutoViz(filename, depVar='ht_inches', sep=\",\", dfte=None, chart_format='svg', max_rows_analyzed=160000, max_cols_analyzed=30)"
   ]
  },
  {
   "cell_type": "code",
   "execution_count": null,
   "id": "dbd783a3",
   "metadata": {},
   "outputs": [],
   "source": [
    "AV.AutoViz(filename, depVar='weight', sep=\",\", dfte=None, chart_format='svg', max_rows_analyzed=160000, max_cols_analyzed=30)"
   ]
  },
  {
   "cell_type": "code",
   "execution_count": null,
   "id": "0f794674",
   "metadata": {},
   "outputs": [],
   "source": [
    "AV.AutoViz(filename, depVar='hometown', sep=\",\", dfte=None, chart_format='svg', max_rows_analyzed=160000, max_cols_analyzed=30)"
   ]
  },
  {
   "cell_type": "code",
   "execution_count": null,
   "id": "e0643ca1",
   "metadata": {},
   "outputs": [],
   "source": [
    "AV.AutoViz(filename, depVar='state', sep=\",\", dfte=None, chart_format='svg', max_rows_analyzed=160000, max_cols_analyzed=30)"
   ]
  },
  {
   "cell_type": "code",
   "execution_count": null,
   "id": "c330d4d4",
   "metadata": {},
   "outputs": [],
   "source": [
    "AV.AutoViz(filename, depVar='high_school', sep=\",\", dfte=None, chart_format='svg', max_rows_analyzed=160000, max_cols_analyzed=30)"
   ]
  },
  {
   "cell_type": "code",
   "execution_count": null,
   "id": "fd5d82a0",
   "metadata": {},
   "outputs": [],
   "source": [
    "AV.AutoViz(filename, depVar='hs_type', sep=\",\", dfte=None, chart_format='svg', max_rows_analyzed=160000, max_cols_analyzed=30)"
   ]
  },
  {
   "cell_type": "code",
   "execution_count": null,
   "id": "9a4cd56c",
   "metadata": {},
   "outputs": [],
   "source": [
    "AV.AutoViz(filename, depVar='hs_affiliation_type', sep=\",\", dfte=None, chart_format='svg', max_rows_analyzed=160000, max_cols_analyzed=30)"
   ]
  },
  {
   "cell_type": "code",
   "execution_count": null,
   "id": "9a52f470",
   "metadata": {},
   "outputs": [],
   "source": [
    "AV.AutoViz(filename, depVar='school', sep=\",\", dfte=None, chart_format='svg', max_rows_analyzed=160000, max_cols_analyzed=30)"
   ]
  },
  {
   "cell_type": "code",
   "execution_count": null,
   "id": "becf8655",
   "metadata": {},
   "outputs": [],
   "source": [
    "AV.AutoViz(filename, depVar='stars', sep=\",\", dfte=None, chart_format='svg', max_rows_analyzed=160000, max_cols_analyzed=30)"
   ]
  },
  {
   "cell_type": "code",
   "execution_count": null,
   "id": "fb6acc7d",
   "metadata": {},
   "outputs": [],
   "source": [
    "AV.AutoViz(filename, depVar='grade', sep=\",\", dfte=None, chart_format='svg', max_rows_analyzed=160000, max_cols_analyzed=30)"
   ]
  },
  {
   "cell_type": "code",
   "execution_count": null,
   "id": "d527b218",
   "metadata": {},
   "outputs": [],
   "source": [
    "AV.AutoViz(filename, depVar='class', sep=\",\", dfte=None, chart_format='svg', max_rows_analyzed=160000, max_cols_analyzed=30)"
   ]
  },
  {
   "cell_type": "code",
   "execution_count": null,
   "id": "0487ebfe",
   "metadata": {},
   "outputs": [],
   "source": [
    "AV.AutoViz(filename, depVar='rank', sep=\",\", dfte=None, chart_format='svg', max_rows_analyzed=160000, max_cols_analyzed=30)"
   ]
  },
  {
   "cell_type": "code",
   "execution_count": null,
   "id": "781ec73a",
   "metadata": {},
   "outputs": [],
   "source": [
    "AV.AutoViz(filename, depVar='player', sep=\",\", dfte=None, chart_format='svg', max_rows_analyzed=160000, max_cols_analyzed=30)"
   ]
  },
  {
   "cell_type": "code",
   "execution_count": null,
   "id": "cc48fdf7",
   "metadata": {},
   "outputs": [],
   "source": [
    "AV.AutoViz(filename, depVar='first_name', sep=\",\", dfte=None, chart_format='svg', max_rows_analyzed=160000, max_cols_analyzed=30)"
   ]
  },
  {
   "cell_type": "code",
   "execution_count": null,
   "id": "399a4c95",
   "metadata": {},
   "outputs": [],
   "source": [
    "AV.AutoViz(filename, depVar='last_name', sep=\",\", dfte=None, chart_format='svg', max_rows_analyzed=160000, max_cols_analyzed=30)"
   ]
  },
  {
   "cell_type": "markdown",
   "id": "81266e24",
   "metadata": {},
   "source": [
    "# Import Dataframes into an Excel Spreadsheet"
   ]
  },
  {
   "cell_type": "code",
   "execution_count": null,
   "id": "cb7cc3b7",
   "metadata": {},
   "outputs": [],
   "source": [
    "xlwriter = pd.ExcelWriter('espn100bb_analysis.xlsx')\n",
    "positions..to_excel(xlwriter, sheet_name='Positions')\n",
    "college_signings.to_excel(xlwriter, sheet_name='College Signings')\n",
    "num_mdaa.to_excel(xlwriter, sheet_name='MDAA General Info')\n",
    "num_jbc.to_excel(xlwriter, sheet_name='JBC General Info')\n",
    "states.to_excel(xlwriter, sheet_name='States')\n",
    "cities.to_excel(xlwriter, sheet_name='Cities')\n",
    "hs_type.to_excel(xlwriter, sheet_name='High School Type')\n",
    "hs_affiliation.to_excel(xlwriter, sheet_name='High School Affiliation')\n",
    "pg_signings.to_excel(xlwriter, sheet_name='Point Guard Signings')\n",
    "pg_states.to_excel(xlwriter, sheet_name='Point Guard States')\n",
    "pg_cities.to_excel(xlwriter, sheet_name='Point Guard Cities')\n",
    "sg_signings.to_excel(xlwriter, sheet_name='Shooting Guard Signings')\n",
    "sg_states.to_excel(xlwriter, sheet_name='Shooting Guard States')\n",
    "sg_cities.to_excel(xlwriter, sheet_name='Shooting Guard Cities')\n",
    "sf_signings.to_excel(xlwriter, sheet_name='Small Forward Signings')\n",
    "sf_states.to_excel(xlwriter, sheet_name='Small Forward States')\n",
    "sf_cities.to_excel(xlwriter, sheet_name='Small Forward Cities')\n",
    "pf_signings.to_excel(xlwriter, sheet_name='Power Forward Signings')\n",
    "pf_states.to_excel(xlwriter, sheet_name='Power Forward States')\n",
    "pf_cities.to_excel(xlwriter, sheet_name='Power Forward Cities')\n",
    "Center_signings.to_excel(xlwriter, sheet_name='Center Signings')\n",
    "center_states.to_excel(xlwriter, sheet_name='Center States')\n",
    "center_cities.to_excel(xlwriter, sheet_name='Center Cities')\n",
    "mdaa.to_excel(xlwriter, sheet_name='McDonald All Americans')\n",
    "jbc.to_excel(xlwriter, sheet_name='JBC Participants')\n",
    "mdaa_signings.to_excel(xlwriter, sheet_name='MDAA College Signings')\n",
    "jbc_signings.to_excel(xlwriter, sheet_name='JBC College Signings')\n",
    "top_recruit.to_excel(xlwriter, sheet_name='Top Recruit')\n",
    "xlwriter.close()"
   ]
  }
 ],
 "metadata": {
  "kernelspec": {
   "display_name": "Python 3 (ipykernel)",
   "language": "python",
   "name": "python3"
  },
  "language_info": {
   "codemirror_mode": {
    "name": "ipython",
    "version": 3
   },
   "file_extension": ".py",
   "mimetype": "text/x-python",
   "name": "python",
   "nbconvert_exporter": "python",
   "pygments_lexer": "ipython3",
   "version": "3.9.7"
  }
 },
 "nbformat": 4,
 "nbformat_minor": 5
}
