{
 "cells": [
  {
   "cell_type": "code",
   "execution_count": null,
   "id": "3bc13cac",
   "metadata": {
    "scrolled": true
   },
   "outputs": [],
   "source": [
    "import pandas as pd\n",
    "import matplotlib.pyplot as plt\n",
    "import numpy as np\n",
    "import seaborn as sns\n",
    "from nssstats.plots import std_plot\n",
    "from nssstats.plots import iqr_plot\n",
    "from nssstats.plots import quadrant_plot, half_plot\n",
    "from ipywidgets import interact, FloatSlider"
   ]
  },
  {
   "cell_type": "code",
   "execution_count": null,
   "id": "314d3327",
   "metadata": {
    "scrolled": true
   },
   "outputs": [],
   "source": [
    "espn_100 = pd.read_csv(\"espn_100_database.csv\")\n",
    "espn_100.head()"
   ]
  },
  {
   "cell_type": "markdown",
   "id": "0a987d68",
   "metadata": {},
   "source": [
    "Let's see the number of players by position"
   ]
  },
  {
   "cell_type": "code",
   "execution_count": null,
   "id": "3bf07f61",
   "metadata": {},
   "outputs": [],
   "source": [
    "espn_100.pos.value_counts().plot(kind = 'bar')\n",
    "plt.xticks(rotation = 0)\n",
    "plt.title('Number of Players By Position');"
   ]
  },
  {
   "cell_type": "markdown",
   "id": "86e096b1",
   "metadata": {},
   "source": [
    "Let's see the number of players by Type of High School"
   ]
  },
  {
   "cell_type": "code",
   "execution_count": null,
   "id": "aeb18b19",
   "metadata": {},
   "outputs": [],
   "source": [
    "espn_100.hs_type.value_counts().plot(kind = 'bar')\n",
    "plt.xticks(rotation = 0)\n",
    "plt.title('Number of Players By Type of High School');"
   ]
  },
  {
   "cell_type": "markdown",
   "id": "780bb134",
   "metadata": {},
   "source": [
    "# Player Weight Statisitcs"
   ]
  },
  {
   "cell_type": "code",
   "execution_count": null,
   "id": "81cc7d01",
   "metadata": {},
   "outputs": [],
   "source": [
    "espn_100.weight.mean()"
   ]
  },
  {
   "cell_type": "code",
   "execution_count": null,
   "id": "8bbe2c66",
   "metadata": {},
   "outputs": [],
   "source": [
    "espn_100.weight.median()"
   ]
  },
  {
   "cell_type": "code",
   "execution_count": null,
   "id": "f7cf18a7",
   "metadata": {},
   "outputs": [],
   "source": [
    "fig,ax = plt.subplots(figsize = (10,6))               \n",
    "\n",
    "plt.hist(\n",
    "    data = espn_100,\n",
    "    x = 'weight',\n",
    "    edgecolor = 'black',\n",
    "    linewidth = 2\n",
    ");                              \n",
    "plt.xlabel('weight (lbs.)')                            \n",
    "plt.ylabel('Players')\n",
    "plt.title('Histogram of EPSN 100 Recruit Weight');"
   ]
  },
  {
   "cell_type": "markdown",
   "id": "977718c1",
   "metadata": {},
   "source": [
    "Let's look at range in weight"
   ]
  },
  {
   "cell_type": "code",
   "execution_count": null,
   "id": "931f683e",
   "metadata": {},
   "outputs": [],
   "source": [
    "espn_100.weight.max()"
   ]
  },
  {
   "cell_type": "code",
   "execution_count": null,
   "id": "5b3a2959",
   "metadata": {},
   "outputs": [],
   "source": [
    "espn_100.nlargest(1,'weight')"
   ]
  },
  {
   "cell_type": "code",
   "execution_count": null,
   "id": "bb016411",
   "metadata": {},
   "outputs": [],
   "source": [
    "espn_100.weight.min()"
   ]
  },
  {
   "cell_type": "code",
   "execution_count": null,
   "id": "b90c4ff1",
   "metadata": {},
   "outputs": [],
   "source": [
    "espn_100.nsmallest(1,'weight')"
   ]
  },
  {
   "cell_type": "code",
   "execution_count": null,
   "id": "8f738eab",
   "metadata": {},
   "outputs": [],
   "source": [
    "espn_100.weight.max()- espn_100.weight.min()"
   ]
  },
  {
   "cell_type": "markdown",
   "id": "fab14a94",
   "metadata": {},
   "source": [
    "Variance and Standard Devivation"
   ]
  },
  {
   "cell_type": "code",
   "execution_count": null,
   "id": "5b531feb",
   "metadata": {},
   "outputs": [],
   "source": [
    "espn_100['weight_deviation'] = espn_100.weight - espn_100.weight.mean()\n",
    "espn_100.head()"
   ]
  },
  {
   "cell_type": "code",
   "execution_count": null,
   "id": "1d0cbeae",
   "metadata": {},
   "outputs": [],
   "source": [
    "espn_100.weight.std()"
   ]
  },
  {
   "cell_type": "code",
   "execution_count": null,
   "id": "1108f72b",
   "metadata": {},
   "outputs": [],
   "source": [
    "espn_100['weight_deviation'].mean()"
   ]
  },
  {
   "cell_type": "code",
   "execution_count": null,
   "id": "5f5d301d",
   "metadata": {},
   "outputs": [],
   "source": [
    "espn_100['squared_weight_deviation'] = espn_100['weight_deviation']**2\n",
    "espn_100"
   ]
  },
  {
   "cell_type": "markdown",
   "id": "0cdc260b",
   "metadata": {},
   "source": [
    "Population Standard Deviation"
   ]
  },
  {
   "cell_type": "code",
   "execution_count": null,
   "id": "69f4cacd",
   "metadata": {},
   "outputs": [],
   "source": [
    "np.sqrt(espn_100['squared_weight_deviation'].mean())"
   ]
  },
  {
   "cell_type": "code",
   "execution_count": null,
   "id": "51c86c20",
   "metadata": {},
   "outputs": [],
   "source": [
    "espn_100.weight.var(ddof = 0)"
   ]
  },
  {
   "cell_type": "code",
   "execution_count": null,
   "id": "7d4d6bb8",
   "metadata": {},
   "outputs": [],
   "source": [
    "espn_100.weight.std(ddof = 0)"
   ]
  },
  {
   "cell_type": "code",
   "execution_count": null,
   "id": "80b75ef0",
   "metadata": {},
   "outputs": [],
   "source": [
    "plt.figure(figsize = (10,6))\n",
    "\n",
    "std_plot(espn_100.weight, edgecolor = 'black', linewidth = 2)"
   ]
  },
  {
   "cell_type": "markdown",
   "id": "6de62df7",
   "metadata": {},
   "source": [
    "z-scores"
   ]
  },
  {
   "cell_type": "code",
   "execution_count": null,
   "id": "67b79162",
   "metadata": {},
   "outputs": [],
   "source": [
    "espn_100['weight_z-score'] = (espn_100.weight - espn_100.weight.mean()) / espn_100.weight.std(ddof = 0)"
   ]
  },
  {
   "cell_type": "code",
   "execution_count": null,
   "id": "d814ff91",
   "metadata": {},
   "outputs": [],
   "source": [
    "espn_100['weight_z-score'].std()"
   ]
  },
  {
   "cell_type": "markdown",
   "id": "223a6b1f",
   "metadata": {},
   "source": [
    "Let's look at height z-scores for Kevin Love"
   ]
  },
  {
   "cell_type": "code",
   "execution_count": null,
   "id": "2caecb20",
   "metadata": {},
   "outputs": [],
   "source": [
    "espn_100.loc[(espn_100.player == 'Kevin Love')]"
   ]
  },
  {
   "cell_type": "markdown",
   "id": "e555c881",
   "metadata": {},
   "source": [
    "Quartiles and Quantiles/Percentiles"
   ]
  },
  {
   "cell_type": "code",
   "execution_count": null,
   "id": "777d622c",
   "metadata": {},
   "outputs": [],
   "source": [
    "espn_100.weight.quantile(q = 0.25)"
   ]
  },
  {
   "cell_type": "code",
   "execution_count": null,
   "id": "6b7e6a6c",
   "metadata": {},
   "outputs": [],
   "source": [
    "espn_100.weight.quantile(q = 0.5)"
   ]
  },
  {
   "cell_type": "code",
   "execution_count": null,
   "id": "0f4c3217",
   "metadata": {},
   "outputs": [],
   "source": [
    "espn_100.weight.quantile(q = 0.75)"
   ]
  },
  {
   "cell_type": "code",
   "execution_count": null,
   "id": "d7ba01b3",
   "metadata": {},
   "outputs": [],
   "source": [
    "espn_100.weight.describe()"
   ]
  },
  {
   "cell_type": "markdown",
   "id": "8a07ad0e",
   "metadata": {},
   "source": [
    "Interquartile Range"
   ]
  },
  {
   "cell_type": "code",
   "execution_count": null,
   "id": "8241bfc9",
   "metadata": {},
   "outputs": [],
   "source": [
    "espn_100.weight.quantile(q = 0.75) - espn_100.weight.quantile(q = 0.25)"
   ]
  },
  {
   "cell_type": "code",
   "execution_count": null,
   "id": "eee20fa7",
   "metadata": {},
   "outputs": [],
   "source": [
    "plt.figure(figsize = (10,6))\n",
    "\n",
    "iqr_plot(espn_100.weight, bins = 25, edgecolor = 'black', linewidth = 2)"
   ]
  },
  {
   "cell_type": "markdown",
   "id": "2be54f26",
   "metadata": {},
   "source": [
    "Observing Outliers in the Dataset"
   ]
  },
  {
   "cell_type": "code",
   "execution_count": null,
   "id": "9f3f368b",
   "metadata": {},
   "outputs": [],
   "source": [
    "plt.figure(figsize = (10,6))\n",
    "sns.boxplot(x = espn_100.weight);"
   ]
  },
  {
   "cell_type": "code",
   "execution_count": null,
   "id": "07a2da7a",
   "metadata": {},
   "outputs": [],
   "source": [
    "plt.figure(figsize = (10,8))\n",
    "\n",
    "sns.boxplot(data = espn_100.sort_values('school'), x = \"weight\", y = \"school\");"
   ]
  },
  {
   "cell_type": "code",
   "execution_count": null,
   "id": "0813893d",
   "metadata": {},
   "outputs": [],
   "source": [
    "plt.figure(figsize = (10,8))\n",
    "\n",
    "sns.boxplot(data = espn_100.sort_values('high_school'), x = \"weight\", y = \"high_school\");"
   ]
  },
  {
   "cell_type": "code",
   "execution_count": null,
   "id": "8a288cbc",
   "metadata": {},
   "outputs": [],
   "source": [
    "plt.figure(figsize = (10,8))\n",
    "\n",
    "sns.boxplot(data = espn_100.sort_values('hs_type'), x = \"weight\", y = \"hs_type\");"
   ]
  },
  {
   "cell_type": "code",
   "execution_count": null,
   "id": "89040061",
   "metadata": {},
   "outputs": [],
   "source": [
    "plt.figure(figsize = (10,8))\n",
    "\n",
    "sns.boxplot(data = espn_100.sort_values('hs_affiliation_type'), x = \"weight\", y = \"hs_affiliation_type\");"
   ]
  },
  {
   "cell_type": "code",
   "execution_count": null,
   "id": "371b57bf",
   "metadata": {},
   "outputs": [],
   "source": [
    "plt.figure(figsize = (10,8))\n",
    "\n",
    "sns.boxplot(data = espn_100.sort_values('hometown'), x = \"weight\", y = \"hometown\");"
   ]
  },
  {
   "cell_type": "code",
   "execution_count": null,
   "id": "d5bd04d1",
   "metadata": {},
   "outputs": [],
   "source": [
    "plt.figure(figsize = (10,8))\n",
    "\n",
    "sns.boxplot(data = espn_100.sort_values('state'), x = \"weight\", y = \"state\");"
   ]
  },
  {
   "cell_type": "code",
   "execution_count": null,
   "id": "83122f91",
   "metadata": {},
   "outputs": [],
   "source": [
    "plt.figure(figsize = (10,8))\n",
    "\n",
    "sns.boxplot(data = espn_100.sort_values('pos'), x = \"weight\", y = \"pos\");"
   ]
  },
  {
   "cell_type": "markdown",
   "id": "d4f1ef97",
   "metadata": {},
   "source": [
    "# Player Height Statisitcs"
   ]
  },
  {
   "cell_type": "code",
   "execution_count": null,
   "id": "6cff1233",
   "metadata": {},
   "outputs": [],
   "source": [
    "espn_100.ht_inches.mean()"
   ]
  },
  {
   "cell_type": "code",
   "execution_count": null,
   "id": "0754fce7",
   "metadata": {},
   "outputs": [],
   "source": [
    "espn_100.ht_inches.median()"
   ]
  },
  {
   "cell_type": "code",
   "execution_count": null,
   "id": "7387c230",
   "metadata": {},
   "outputs": [],
   "source": [
    "fig,ax = plt.subplots(figsize = (10,6))               \n",
    "\n",
    "plt.hist(\n",
    "    data = espn_100,\n",
    "    x = 'ht_inches',\n",
    "    edgecolor = 'black',\n",
    "    linewidth = 2\n",
    ");                              \n",
    "plt.xlabel('weight (lbs.)')                            \n",
    "plt.ylabel('Players')\n",
    "plt.title('Histogram of EPSN 100 Recruit Height');"
   ]
  },
  {
   "cell_type": "markdown",
   "id": "42ddf3d9",
   "metadata": {},
   "source": [
    "Let's look at the range in height"
   ]
  },
  {
   "cell_type": "code",
   "execution_count": null,
   "id": "3abdb91a",
   "metadata": {},
   "outputs": [],
   "source": [
    "espn_100.ht_inches.max()"
   ]
  },
  {
   "cell_type": "code",
   "execution_count": null,
   "id": "ea8d1636",
   "metadata": {},
   "outputs": [],
   "source": [
    "espn_100.nlargest(1,'ht_inches')"
   ]
  },
  {
   "cell_type": "code",
   "execution_count": null,
   "id": "b660f8e0",
   "metadata": {},
   "outputs": [],
   "source": [
    "espn_100.ht_inches.min()"
   ]
  },
  {
   "cell_type": "code",
   "execution_count": null,
   "id": "d0fe2a6e",
   "metadata": {
    "scrolled": true
   },
   "outputs": [],
   "source": [
    "espn_100.nsmallest(1,'ht_inches')"
   ]
  },
  {
   "cell_type": "code",
   "execution_count": null,
   "id": "96ba9f3b",
   "metadata": {},
   "outputs": [],
   "source": [
    "espn_100.ht_inches.max()- espn_100.ht_inches.min()"
   ]
  },
  {
   "cell_type": "markdown",
   "id": "a0805e1c",
   "metadata": {},
   "source": [
    "Variance and Standard Deviation"
   ]
  },
  {
   "cell_type": "code",
   "execution_count": null,
   "id": "4243f3fe",
   "metadata": {},
   "outputs": [],
   "source": [
    "espn_100['height_deviation'] = espn_100.ht_inches - espn_100.ht_inches.mean()\n",
    "espn_100.head()"
   ]
  },
  {
   "cell_type": "code",
   "execution_count": null,
   "id": "b96685b2",
   "metadata": {},
   "outputs": [],
   "source": [
    "espn_100.ht_inches.std()"
   ]
  },
  {
   "cell_type": "code",
   "execution_count": null,
   "id": "71408fb6",
   "metadata": {},
   "outputs": [],
   "source": [
    "espn_100['height_deviation'].mean()"
   ]
  },
  {
   "cell_type": "code",
   "execution_count": null,
   "id": "c3f39611",
   "metadata": {
    "scrolled": true
   },
   "outputs": [],
   "source": [
    "espn_100['squared_height_deviation'] = espn_100['height_deviation']**2\n",
    "espn_100"
   ]
  },
  {
   "cell_type": "markdown",
   "id": "4e028cb6",
   "metadata": {},
   "source": [
    "Population Standard Deviation"
   ]
  },
  {
   "cell_type": "code",
   "execution_count": null,
   "id": "dd6f95c6",
   "metadata": {},
   "outputs": [],
   "source": [
    "np.sqrt(espn_100['squared_height_deviation'].mean())"
   ]
  },
  {
   "cell_type": "code",
   "execution_count": null,
   "id": "8781c518",
   "metadata": {},
   "outputs": [],
   "source": [
    "espn_100.ht_inches.var(ddof = 0)"
   ]
  },
  {
   "cell_type": "code",
   "execution_count": null,
   "id": "10c3e444",
   "metadata": {},
   "outputs": [],
   "source": [
    "espn_100.ht_inches.std(ddof = 0)"
   ]
  },
  {
   "cell_type": "code",
   "execution_count": null,
   "id": "b8e4f043",
   "metadata": {},
   "outputs": [],
   "source": [
    "plt.figure(figsize = (10,6))\n",
    "\n",
    "std_plot(espn_100.ht_inches, edgecolor = 'black', linewidth = 2)"
   ]
  },
  {
   "cell_type": "markdown",
   "id": "10f0f9d1",
   "metadata": {},
   "source": [
    "z-scores"
   ]
  },
  {
   "cell_type": "code",
   "execution_count": null,
   "id": "923bd034",
   "metadata": {},
   "outputs": [],
   "source": [
    "espn_100['height_z-score'] = (espn_100.ht_inches - espn_100.ht_inches.mean()) / espn_100.ht_inches.std(ddof = 0)"
   ]
  },
  {
   "cell_type": "code",
   "execution_count": null,
   "id": "79cf15f9",
   "metadata": {},
   "outputs": [],
   "source": [
    "espn_100['height_z-score'].std()"
   ]
  },
  {
   "cell_type": "markdown",
   "id": "f3c4a3e6",
   "metadata": {},
   "source": [
    "Let's look at height z-scores for Kevin Love"
   ]
  },
  {
   "cell_type": "code",
   "execution_count": null,
   "id": "26586d2d",
   "metadata": {},
   "outputs": [],
   "source": [
    "espn_100.loc[(espn_100.player == 'Kevin Love')]"
   ]
  },
  {
   "cell_type": "markdown",
   "id": "7a80b764",
   "metadata": {},
   "source": [
    "Quartiles and Quantiles/Percentiles"
   ]
  },
  {
   "cell_type": "code",
   "execution_count": null,
   "id": "d621cd09",
   "metadata": {},
   "outputs": [],
   "source": [
    "espn_100.ht_inches.quantile(q = 0.25)"
   ]
  },
  {
   "cell_type": "code",
   "execution_count": null,
   "id": "8f77fe31",
   "metadata": {},
   "outputs": [],
   "source": [
    "espn_100.ht_inches.quantile(q = 0.5)"
   ]
  },
  {
   "cell_type": "code",
   "execution_count": null,
   "id": "e0af2539",
   "metadata": {},
   "outputs": [],
   "source": [
    "espn_100.ht_inches.quantile(q = 0.75)"
   ]
  },
  {
   "cell_type": "code",
   "execution_count": null,
   "id": "000b0fb3",
   "metadata": {},
   "outputs": [],
   "source": [
    "espn_100.ht_inches.describe()"
   ]
  },
  {
   "cell_type": "markdown",
   "id": "a39bf4f9",
   "metadata": {},
   "source": [
    "Interquartile Range"
   ]
  },
  {
   "cell_type": "code",
   "execution_count": null,
   "id": "d073192d",
   "metadata": {},
   "outputs": [],
   "source": [
    "espn_100.ht_inches.quantile(q = 0.75) - espn_100.ht_inches.quantile(q = 0.25)"
   ]
  },
  {
   "cell_type": "code",
   "execution_count": null,
   "id": "2698b14f",
   "metadata": {},
   "outputs": [],
   "source": [
    "plt.figure(figsize = (10,6))\n",
    "\n",
    "iqr_plot(espn_100.ht_inches, bins = 25, edgecolor = 'black', linewidth = 2)"
   ]
  },
  {
   "cell_type": "markdown",
   "id": "0d704e55",
   "metadata": {},
   "source": [
    "Observing Outliers in the Dataset"
   ]
  },
  {
   "cell_type": "code",
   "execution_count": null,
   "id": "fa09a1fd",
   "metadata": {},
   "outputs": [],
   "source": [
    "plt.figure(figsize = (10,6))\n",
    "sns.boxplot(x = espn_100.ht_inches);"
   ]
  },
  {
   "cell_type": "code",
   "execution_count": null,
   "id": "e7dd7faf",
   "metadata": {},
   "outputs": [],
   "source": [
    "plt.figure(figsize = (10,8))\n",
    "\n",
    "sns.boxplot(data = espn_100.sort_values('school'), x = \"ht_inches\", y = \"school\");"
   ]
  },
  {
   "cell_type": "code",
   "execution_count": null,
   "id": "97d377cc",
   "metadata": {},
   "outputs": [],
   "source": [
    "plt.figure(figsize = (10,8))\n",
    "\n",
    "sns.boxplot(data = espn_100.sort_values('high_school'), x = \"ht_inches\", y = \"high_school\");"
   ]
  },
  {
   "cell_type": "code",
   "execution_count": null,
   "id": "975bfb90",
   "metadata": {},
   "outputs": [],
   "source": [
    "plt.figure(figsize = (10,8))\n",
    "\n",
    "sns.boxplot(data = espn_100.sort_values('hs_type'), x = \"ht_inches\", y = \"hs_type\");"
   ]
  },
  {
   "cell_type": "code",
   "execution_count": null,
   "id": "a3021531",
   "metadata": {},
   "outputs": [],
   "source": [
    "plt.figure(figsize = (10,8))\n",
    "\n",
    "sns.boxplot(data = espn_100.sort_values('hs_affiliation_type'), x = \"ht_inches\", y = \"hs_affiliation_type\");"
   ]
  },
  {
   "cell_type": "code",
   "execution_count": null,
   "id": "e975174e",
   "metadata": {},
   "outputs": [],
   "source": [
    "plt.figure(figsize = (10,8))\n",
    "\n",
    "sns.boxplot(data = espn_100.sort_values('hometown'), x = \"ht_inches\", y = \"hometown\");"
   ]
  },
  {
   "cell_type": "code",
   "execution_count": null,
   "id": "89ad4ed1",
   "metadata": {},
   "outputs": [],
   "source": [
    "plt.figure(figsize = (10,8))\n",
    "\n",
    "sns.boxplot(data = espn_100.sort_values('state'), x = \"ht_inches\", y = \"state\");"
   ]
  },
  {
   "cell_type": "code",
   "execution_count": null,
   "id": "e993db25",
   "metadata": {
    "scrolled": true
   },
   "outputs": [],
   "source": [
    "plt.figure(figsize = (10,8))\n",
    "\n",
    "sns.boxplot(data = espn_100.sort_values('pos'), x = \"ht_inches\", y = \"pos\");"
   ]
  },
  {
   "cell_type": "markdown",
   "id": "90ad06d6",
   "metadata": {},
   "source": [
    "# Player Grade Statistics"
   ]
  },
  {
   "cell_type": "code",
   "execution_count": null,
   "id": "4769c769",
   "metadata": {},
   "outputs": [],
   "source": [
    "espn_100.grade.mean()"
   ]
  },
  {
   "cell_type": "code",
   "execution_count": null,
   "id": "a4dbc121",
   "metadata": {},
   "outputs": [],
   "source": [
    "espn_100.grade.median()"
   ]
  },
  {
   "cell_type": "code",
   "execution_count": null,
   "id": "5eb13a7b",
   "metadata": {},
   "outputs": [],
   "source": [
    "fig,ax = plt.subplots(figsize = (10,6))               \n",
    "\n",
    "plt.hist(\n",
    "    data = espn_100,\n",
    "    x = 'grade',\n",
    "    edgecolor = 'black',\n",
    "    linewidth = 2\n",
    ");                              \n",
    "plt.xlabel('Grade')                            \n",
    "plt.ylabel('Players')\n",
    "plt.title('Histogram of EPSN 100 Recruit Grades');"
   ]
  },
  {
   "cell_type": "markdown",
   "id": "c93ca1d5",
   "metadata": {},
   "source": [
    "Let's look at the range in grade"
   ]
  },
  {
   "cell_type": "code",
   "execution_count": null,
   "id": "40c03ee9",
   "metadata": {},
   "outputs": [],
   "source": [
    "espn_100.grade.max()"
   ]
  },
  {
   "cell_type": "code",
   "execution_count": null,
   "id": "c166cd5a",
   "metadata": {},
   "outputs": [],
   "source": [
    "espn_100.nlargest(1,'grade')"
   ]
  },
  {
   "cell_type": "code",
   "execution_count": null,
   "id": "2627273e",
   "metadata": {},
   "outputs": [],
   "source": [
    "espn_100.grade.min()"
   ]
  },
  {
   "cell_type": "code",
   "execution_count": null,
   "id": "b8c18ec5",
   "metadata": {},
   "outputs": [],
   "source": [
    "espn_100.nsmallest(1,'grade')"
   ]
  },
  {
   "cell_type": "code",
   "execution_count": null,
   "id": "3a6682a8",
   "metadata": {},
   "outputs": [],
   "source": [
    "espn_100.grade.max()- espn_100.grade.min()"
   ]
  },
  {
   "cell_type": "markdown",
   "id": "6d608bab",
   "metadata": {},
   "source": [
    "Variance and Standard Deviation"
   ]
  },
  {
   "cell_type": "code",
   "execution_count": null,
   "id": "67818876",
   "metadata": {},
   "outputs": [],
   "source": [
    "espn_100['grade_deviation'] = espn_100.grade - espn_100.grade.mean()\n",
    "espn_100.head()"
   ]
  },
  {
   "cell_type": "code",
   "execution_count": null,
   "id": "acb2a857",
   "metadata": {},
   "outputs": [],
   "source": [
    "espn_100.grade.std()"
   ]
  },
  {
   "cell_type": "code",
   "execution_count": null,
   "id": "f10c71b5",
   "metadata": {},
   "outputs": [],
   "source": [
    "espn_100['grade_deviation'].mean()"
   ]
  },
  {
   "cell_type": "code",
   "execution_count": null,
   "id": "74c9da44",
   "metadata": {},
   "outputs": [],
   "source": [
    "espn_100['squared_grade_deviation'] = espn_100['grade_deviation']**2\n",
    "espn_100"
   ]
  },
  {
   "cell_type": "markdown",
   "id": "3a0874cc",
   "metadata": {},
   "source": [
    "Population Standard Deviation"
   ]
  },
  {
   "cell_type": "code",
   "execution_count": null,
   "id": "1e5fbb9c",
   "metadata": {},
   "outputs": [],
   "source": [
    "np.sqrt(espn_100['squared_grade_deviation'].mean())"
   ]
  },
  {
   "cell_type": "code",
   "execution_count": null,
   "id": "374ac28b",
   "metadata": {},
   "outputs": [],
   "source": [
    "espn_100.grade.var(ddof = 0)"
   ]
  },
  {
   "cell_type": "code",
   "execution_count": null,
   "id": "6c4b4ca7",
   "metadata": {},
   "outputs": [],
   "source": [
    "espn_100.grade.std(ddof = 0)"
   ]
  },
  {
   "cell_type": "code",
   "execution_count": null,
   "id": "f67c7e25",
   "metadata": {},
   "outputs": [],
   "source": [
    "plt.figure(figsize = (10,6))\n",
    "\n",
    "std_plot(espn_100.grade, edgecolor = 'black', linewidth = 2)"
   ]
  },
  {
   "cell_type": "code",
   "execution_count": null,
   "id": "c661773f",
   "metadata": {},
   "outputs": [],
   "source": [
    "espn_100['grade_z-score'] = (espn_100.grade - espn_100.grade.mean()) / espn_100.grade.std(ddof = 0)"
   ]
  },
  {
   "cell_type": "code",
   "execution_count": null,
   "id": "047971ff",
   "metadata": {},
   "outputs": [],
   "source": [
    "espn_100['grade_z-score'].std()"
   ]
  },
  {
   "cell_type": "markdown",
   "id": "0ceba989",
   "metadata": {},
   "source": [
    "Let's look at the grade z-scores for Kevin Love"
   ]
  },
  {
   "cell_type": "code",
   "execution_count": null,
   "id": "8b5d5788",
   "metadata": {},
   "outputs": [],
   "source": [
    "espn_100.loc[(espn_100.player == 'Kevin Love')]"
   ]
  },
  {
   "cell_type": "markdown",
   "id": "e05ca9ea",
   "metadata": {},
   "source": [
    "Quartiles and Quantiles/Percentiles"
   ]
  },
  {
   "cell_type": "code",
   "execution_count": null,
   "id": "f7a6d892",
   "metadata": {},
   "outputs": [],
   "source": [
    "espn_100.grade.quantile(q = 0.25)"
   ]
  },
  {
   "cell_type": "code",
   "execution_count": null,
   "id": "7b81234e",
   "metadata": {},
   "outputs": [],
   "source": [
    "espn_100.grade.quantile(q = 0.5)"
   ]
  },
  {
   "cell_type": "code",
   "execution_count": null,
   "id": "e4b314e8",
   "metadata": {},
   "outputs": [],
   "source": [
    "espn_100.grade.quantile(q = 0.75)"
   ]
  },
  {
   "cell_type": "code",
   "execution_count": null,
   "id": "b01cdf4d",
   "metadata": {},
   "outputs": [],
   "source": [
    "espn_100.grade.describe()"
   ]
  },
  {
   "cell_type": "markdown",
   "id": "a8872064",
   "metadata": {},
   "source": [
    "Interquartile Range"
   ]
  },
  {
   "cell_type": "code",
   "execution_count": null,
   "id": "36e3f051",
   "metadata": {},
   "outputs": [],
   "source": [
    "espn_100.grade.quantile(q = 0.75) - espn_100.grade.quantile(q = 0.25)"
   ]
  },
  {
   "cell_type": "code",
   "execution_count": null,
   "id": "85d69b7c",
   "metadata": {},
   "outputs": [],
   "source": [
    "plt.figure(figsize = (10,6))\n",
    "\n",
    "iqr_plot(espn_100.grade, bins = 25, edgecolor = 'black', linewidth = 2)"
   ]
  },
  {
   "cell_type": "markdown",
   "id": "ff3024e3",
   "metadata": {},
   "source": [
    "Observing Outliers in the Dataset"
   ]
  },
  {
   "cell_type": "code",
   "execution_count": null,
   "id": "c10e79c2",
   "metadata": {},
   "outputs": [],
   "source": [
    "plt.figure(figsize = (10,6))\n",
    "sns.boxplot(x = espn_100.grade);"
   ]
  },
  {
   "cell_type": "code",
   "execution_count": null,
   "id": "bfc4d4e6",
   "metadata": {},
   "outputs": [],
   "source": [
    "plt.figure(figsize = (10,8))\n",
    "\n",
    "sns.boxplot(data = espn_100.sort_values('school'), x = \"grade\", y = \"school\");"
   ]
  },
  {
   "cell_type": "code",
   "execution_count": null,
   "id": "870e28f5",
   "metadata": {},
   "outputs": [],
   "source": [
    "plt.figure(figsize = (10,8))\n",
    "\n",
    "sns.boxplot(data = espn_100.sort_values('high_school'), x = \"grade\", y = \"high_school\");"
   ]
  },
  {
   "cell_type": "code",
   "execution_count": null,
   "id": "1db24f37",
   "metadata": {},
   "outputs": [],
   "source": [
    "plt.figure(figsize = (10,8))\n",
    "\n",
    "sns.boxplot(data = espn_100.sort_values('hs_type'), x = \"grade\", y = \"hs_type\");"
   ]
  },
  {
   "cell_type": "code",
   "execution_count": null,
   "id": "7d52ea99",
   "metadata": {},
   "outputs": [],
   "source": [
    "plt.figure(figsize = (10,8))\n",
    "\n",
    "sns.boxplot(data = espn_100.sort_values('hs_affiliation_type'), x = \"grade\", y = \"hs_affiliation_type\");"
   ]
  },
  {
   "cell_type": "code",
   "execution_count": null,
   "id": "87c8ab2f",
   "metadata": {},
   "outputs": [],
   "source": [
    "plt.figure(figsize = (10,8))\n",
    "\n",
    "sns.boxplot(data = espn_100.sort_values('hometown'), x = \"grade\", y = \"hometown\");"
   ]
  },
  {
   "cell_type": "code",
   "execution_count": null,
   "id": "e16f5414",
   "metadata": {},
   "outputs": [],
   "source": [
    "plt.figure(figsize = (10,8))\n",
    "\n",
    "sns.boxplot(data = espn_100.sort_values('state'), x = \"grade\", y = \"state\");"
   ]
  },
  {
   "cell_type": "code",
   "execution_count": null,
   "id": "aa48686c",
   "metadata": {},
   "outputs": [],
   "source": [
    "plt.figure(figsize = (10,8))\n",
    "\n",
    "sns.boxplot(data = espn_100.sort_values('pos'), x = \"grade\", y = \"pos\");"
   ]
  },
  {
   "cell_type": "markdown",
   "id": "28978eb7",
   "metadata": {},
   "source": [
    "# Height Vs Weight"
   ]
  },
  {
   "cell_type": "code",
   "execution_count": null,
   "id": "934fa23f",
   "metadata": {},
   "outputs": [],
   "source": [
    "espn_100.plot(kind = 'scatter', x = 'ht_inches', y = 'weight', figsize = (12,8))\n",
    "plt.title('Height vs. Weight');"
   ]
  },
  {
   "cell_type": "code",
   "execution_count": null,
   "id": "2f79246e",
   "metadata": {},
   "outputs": [],
   "source": [
    "espn_100[['ht_inches', 'weight']].cov()"
   ]
  },
  {
   "cell_type": "code",
   "execution_count": null,
   "id": "741c3344",
   "metadata": {},
   "outputs": [],
   "source": [
    "espn_100['ht_inches'].var()"
   ]
  },
  {
   "cell_type": "code",
   "execution_count": null,
   "id": "108d39d6",
   "metadata": {},
   "outputs": [],
   "source": [
    "espn_100['weight'].var()"
   ]
  },
  {
   "cell_type": "code",
   "execution_count": null,
   "id": "e9e8f43a",
   "metadata": {},
   "outputs": [],
   "source": [
    "quadrant_plot(espn_100.ht_inches, espn_100.weight, labels = ['Height', 'Weight'], figsize = (12,8))"
   ]
  },
  {
   "cell_type": "code",
   "execution_count": null,
   "id": "7a988f49",
   "metadata": {},
   "outputs": [],
   "source": [
    "espn_100[['ht_inches', 'weight']].corr()"
   ]
  },
  {
   "cell_type": "markdown",
   "id": "e8c06933",
   "metadata": {},
   "source": [
    "# Other Statistics"
   ]
  },
  {
   "cell_type": "code",
   "execution_count": null,
   "id": "853a1b60",
   "metadata": {},
   "outputs": [],
   "source": [
    "espn_100.groupby('pos').corr(numeric_only=True)"
   ]
  },
  {
   "cell_type": "code",
   "execution_count": null,
   "id": "b2c837dd",
   "metadata": {},
   "outputs": [],
   "source": [
    "espn_100.groupby('hs_type').corr(numeric_only=True)"
   ]
  },
  {
   "cell_type": "code",
   "execution_count": null,
   "id": "b10d6f22",
   "metadata": {},
   "outputs": [],
   "source": [
    "espn_100.groupby('class').corr(numeric_only=True)"
   ]
  },
  {
   "cell_type": "code",
   "execution_count": null,
   "id": "1cab04f3",
   "metadata": {},
   "outputs": [],
   "source": [
    "espn_100.groupby('hometown').corr(numeric_only=True)"
   ]
  },
  {
   "cell_type": "code",
   "execution_count": null,
   "id": "7dfd2ca8",
   "metadata": {},
   "outputs": [],
   "source": [
    "espn_100.groupby('state').corr(numeric_only=True)"
   ]
  },
  {
   "cell_type": "code",
   "execution_count": null,
   "id": "b3d95746",
   "metadata": {},
   "outputs": [],
   "source": [
    "espn_100.groupby(['pos','school'])['grade'].describe()"
   ]
  },
  {
   "cell_type": "code",
   "execution_count": null,
   "id": "8a99f916",
   "metadata": {},
   "outputs": [],
   "source": [
    "pd.crosstab(espn_100['grade'], \n",
    "            espn_100['pos'], \n",
    "            normalize='index').plot(kind = 'bar', \n",
    "                                    edgecolor = 'black', \n",
    "                                    width = 0.75,\n",
    "                                    stacked = True)\n",
    "plt.ylabel('Proportion');"
   ]
  },
  {
   "cell_type": "code",
   "execution_count": null,
   "id": "c9f51bfd",
   "metadata": {},
   "outputs": [],
   "source": [
    "pd.crosstab(espn_100['stars'], \n",
    "            espn_100['pos'], \n",
    "            normalize='index').plot(kind = 'bar', \n",
    "                                    edgecolor = 'black', \n",
    "                                    width = 0.75,\n",
    "                                    stacked = True)\n",
    "plt.ylabel('Proportion');"
   ]
  },
  {
   "cell_type": "code",
   "execution_count": null,
   "id": "57ce1356",
   "metadata": {},
   "outputs": [],
   "source": [
    "pd.crosstab(espn_100['pos'], \n",
    "            espn_100['mcdonalds_aa'], \n",
    "            normalize='index').plot(kind = 'bar', \n",
    "                                    edgecolor = 'black', \n",
    "                                    width = 0.75,\n",
    "                                    stacked = True)\n",
    "plt.ylabel('Proportion');"
   ]
  },
  {
   "cell_type": "code",
   "execution_count": null,
   "id": "022ddc27",
   "metadata": {},
   "outputs": [],
   "source": [
    "pd.crosstab(espn_100['hs_type'], \n",
    "            espn_100['mcdonalds_aa'], \n",
    "            normalize='index').plot(kind = 'bar', \n",
    "                                    edgecolor = 'black', \n",
    "                                    width = 0.75,\n",
    "                                    stacked = True)\n",
    "plt.ylabel('Proportion');"
   ]
  },
  {
   "cell_type": "code",
   "execution_count": null,
   "id": "11a890b3",
   "metadata": {},
   "outputs": [],
   "source": [
    "pd.crosstab(espn_100['conference'], \n",
    "            espn_100['mcdonalds_aa'], \n",
    "            normalize='index').plot(kind = 'bar', \n",
    "                                    edgecolor = 'black', \n",
    "                                    width = 0.75,\n",
    "                                    stacked = True)\n",
    "plt.ylabel('Proportion');"
   ]
  },
  {
   "cell_type": "code",
   "execution_count": null,
   "id": "e28bc7d8",
   "metadata": {},
   "outputs": [],
   "source": [
    "pd.crosstab(espn_100['conference_type'], \n",
    "            espn_100['mcdonalds_aa'], \n",
    "            normalize='index').plot(kind = 'bar', \n",
    "                                    edgecolor = 'black', \n",
    "                                    width = 0.75,\n",
    "                                    stacked = True)\n",
    "plt.ylabel('Proportion');"
   ]
  },
  {
   "cell_type": "code",
   "execution_count": null,
   "id": "26548bf3",
   "metadata": {},
   "outputs": [],
   "source": [
    "pd.crosstab(espn_100['pos'], \n",
    "            espn_100['jbc'], \n",
    "            normalize='index').plot(kind = 'bar', \n",
    "                                    edgecolor = 'black', \n",
    "                                    width = 0.75,\n",
    "                                    stacked = True)\n",
    "plt.ylabel('Proportion');"
   ]
  },
  {
   "cell_type": "code",
   "execution_count": null,
   "id": "fd836397",
   "metadata": {},
   "outputs": [],
   "source": [
    "pd.crosstab(espn_100['hs_type'], \n",
    "            espn_100['jbc'], \n",
    "            normalize='index').plot(kind = 'bar', \n",
    "                                    edgecolor = 'black', \n",
    "                                    width = 0.75,\n",
    "                                    stacked = True)\n",
    "plt.ylabel('Proportion');"
   ]
  },
  {
   "cell_type": "code",
   "execution_count": null,
   "id": "b65e26f8",
   "metadata": {},
   "outputs": [],
   "source": [
    "pd.crosstab(espn_100['conference'], \n",
    "            espn_100['jbc'], \n",
    "            normalize='index').plot(kind = 'bar', \n",
    "                                    edgecolor = 'black', \n",
    "                                    width = 0.75,\n",
    "                                    stacked = True)\n",
    "plt.ylabel('Proportion');"
   ]
  },
  {
   "cell_type": "code",
   "execution_count": null,
   "id": "4be74925",
   "metadata": {},
   "outputs": [],
   "source": [
    "pd.crosstab(espn_100['conference_type'], \n",
    "            espn_100['jbc'], \n",
    "            normalize='index').plot(kind = 'bar', \n",
    "                                    edgecolor = 'black', \n",
    "                                    width = 0.75,\n",
    "                                    stacked = True)\n",
    "plt.ylabel('Proportion');"
   ]
  },
  {
   "cell_type": "code",
   "execution_count": null,
   "id": "c61b0ad6",
   "metadata": {},
   "outputs": [],
   "source": []
  }
 ],
 "metadata": {
  "kernelspec": {
   "display_name": "Python 3 (ipykernel)",
   "language": "python",
   "name": "python3"
  },
  "language_info": {
   "codemirror_mode": {
    "name": "ipython",
    "version": 3
   },
   "file_extension": ".py",
   "mimetype": "text/x-python",
   "name": "python",
   "nbconvert_exporter": "python",
   "pygments_lexer": "ipython3",
   "version": "3.9.16"
  }
 },
 "nbformat": 4,
 "nbformat_minor": 5
}
