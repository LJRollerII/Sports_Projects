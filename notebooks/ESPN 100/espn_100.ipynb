{
 "cells": [
  {
   "cell_type": "code",
   "execution_count": null,
   "id": "d6bafd91",
   "metadata": {},
   "outputs": [],
   "source": [
    "import requests\n",
    "import time\n",
    "import datetime\n",
    "from bs4 import BeautifulSoup\n",
    "import smtplib\n",
    "import csv\n",
    "import pandas as pd"
   ]
  },
  {
   "cell_type": "code",
   "execution_count": null,
   "id": "3f6e4961",
   "metadata": {},
   "outputs": [],
   "source": [
    "URL = 'http://www.espn.com/college-sports/basketball/recruiting/playerrankings/_/class/2007/order/true'\n",
    "class_2007 = pd.read_html(URL)"
   ]
  },
  {
   "cell_type": "code",
   "execution_count": null,
   "id": "33205d93",
   "metadata": {},
   "outputs": [],
   "source": [
    "class_2007[0]"
   ]
  },
  {
   "cell_type": "code",
   "execution_count": null,
   "id": "437ea457",
   "metadata": {},
   "outputs": [],
   "source": [
    "class_2007 = pd.DataFrame(class_2007[0])\n",
    "class_2007.head(3)"
   ]
  },
  {
   "cell_type": "code",
   "execution_count": null,
   "id": "ae069411",
   "metadata": {},
   "outputs": [],
   "source": [
    "url_08 = 'http://www.espn.com/college-sports/basketball/recruiting/playerrankings/_/class/2008/order/true'\n",
    "class_2008 = pd.read_html(url_08)"
   ]
  },
  {
   "cell_type": "code",
   "execution_count": null,
   "id": "1996f0f0",
   "metadata": {},
   "outputs": [],
   "source": [
    "class_2008 = pd.DataFrame(class_2008[0])\n",
    "class_2008.head(3)"
   ]
  },
  {
   "cell_type": "code",
   "execution_count": null,
   "id": "2b96c073",
   "metadata": {},
   "outputs": [],
   "source": [
    "url_09 = 'http://www.espn.com/college-sports/basketball/recruiting/playerrankings/_/class/2009/order/true'\n",
    "class_2009 = pd.read_html(url_09)"
   ]
  },
  {
   "cell_type": "code",
   "execution_count": null,
   "id": "ed4d231e",
   "metadata": {},
   "outputs": [],
   "source": [
    "class_2009 = pd.DataFrame(class_2009[0])\n",
    "class_2009.head(3)"
   ]
  },
  {
   "cell_type": "code",
   "execution_count": null,
   "id": "a8981301",
   "metadata": {},
   "outputs": [],
   "source": [
    "url_10 = 'http://www.espn.com/college-sports/basketball/recruiting/playerrankings/_/class/2010/order/true'\n",
    "class_2010 = pd.read_html(url_10)"
   ]
  },
  {
   "cell_type": "code",
   "execution_count": null,
   "id": "0a2f3fc4",
   "metadata": {},
   "outputs": [],
   "source": [
    "class_2010 = pd.DataFrame(class_2010[0])\n",
    "class_2010.head(3)"
   ]
  },
  {
   "cell_type": "code",
   "execution_count": null,
   "id": "99a4ef34",
   "metadata": {},
   "outputs": [],
   "source": [
    "url_11 = 'http://www.espn.com/college-sports/basketball/recruiting/playerrankings/_/class/2011/order/true'\n",
    "class_2011 = pd.read_html(url_11)"
   ]
  },
  {
   "cell_type": "code",
   "execution_count": null,
   "id": "310e641b",
   "metadata": {},
   "outputs": [],
   "source": [
    "class_2011 = pd.DataFrame(class_2011[0])\n",
    "class_2011.head(3)"
   ]
  },
  {
   "cell_type": "code",
   "execution_count": null,
   "id": "26f45dad",
   "metadata": {},
   "outputs": [],
   "source": [
    "url_12 = 'http://www.espn.com/college-sports/basketball/recruiting/playerrankings/_/class/2012/order/true'\n",
    "class_2012 = pd.read_html(url_12)"
   ]
  },
  {
   "cell_type": "code",
   "execution_count": null,
   "id": "844bb477",
   "metadata": {},
   "outputs": [],
   "source": [
    "class_2012 = pd.DataFrame(class_2012[0])\n",
    "class_2012.head(3)"
   ]
  },
  {
   "cell_type": "code",
   "execution_count": null,
   "id": "e684f4b7",
   "metadata": {},
   "outputs": [],
   "source": [
    "url_13 = 'http://www.espn.com/college-sports/basketball/recruiting/playerrankings/_/class/2013/order/true'\n",
    "class_2013 = pd.read_html(url_13)"
   ]
  },
  {
   "cell_type": "code",
   "execution_count": null,
   "id": "a4494ee4",
   "metadata": {},
   "outputs": [],
   "source": [
    "class_2013 = pd.DataFrame(class_2013[0])\n",
    "class_2013.head(3)"
   ]
  },
  {
   "cell_type": "code",
   "execution_count": null,
   "id": "48163723",
   "metadata": {},
   "outputs": [],
   "source": [
    "url_14 = 'http://www.espn.com/college-sports/basketball/recruiting/playerrankings/_/class/2014/order/true'\n",
    "class_2014 = pd.read_html(url_14)"
   ]
  },
  {
   "cell_type": "code",
   "execution_count": null,
   "id": "028c32f8",
   "metadata": {},
   "outputs": [],
   "source": [
    "class_2014 = pd.DataFrame(class_2014[0])\n",
    "class_2014.head(3)"
   ]
  },
  {
   "cell_type": "code",
   "execution_count": null,
   "id": "2e1ffb25",
   "metadata": {},
   "outputs": [],
   "source": [
    "url_15 = 'http://www.espn.com/college-sports/basketball/recruiting/playerrankings/_/class/2015/order/true'\n",
    "class_2015 = pd.read_html(url_15)"
   ]
  },
  {
   "cell_type": "code",
   "execution_count": null,
   "id": "c4b2045a",
   "metadata": {},
   "outputs": [],
   "source": [
    "class_2015 = pd.DataFrame(class_2015[0])\n",
    "class_2015.head(3)"
   ]
  },
  {
   "cell_type": "code",
   "execution_count": null,
   "id": "86c6ad57",
   "metadata": {},
   "outputs": [],
   "source": [
    "url_16 = 'http://www.espn.com/college-sports/basketball/recruiting/playerrankings/_/class/2016/order/true'\n",
    "class_2016 = pd.read_html(url_16)"
   ]
  },
  {
   "cell_type": "code",
   "execution_count": null,
   "id": "4fe6bbc1",
   "metadata": {},
   "outputs": [],
   "source": [
    "class_2016 = pd.DataFrame(class_2016[0])\n",
    "class_2016.head(3)"
   ]
  },
  {
   "cell_type": "code",
   "execution_count": null,
   "id": "deb09906",
   "metadata": {},
   "outputs": [],
   "source": [
    "url_17 = 'http://www.espn.com/college-sports/basketball/recruiting/playerrankings/_/class/2017/order/true'\n",
    "class_2017 = pd.read_html(url_17)"
   ]
  },
  {
   "cell_type": "code",
   "execution_count": null,
   "id": "371dcb24",
   "metadata": {},
   "outputs": [],
   "source": [
    "class_2017 = pd.DataFrame(class_2017[0])\n",
    "class_2017.head(3)"
   ]
  },
  {
   "cell_type": "code",
   "execution_count": null,
   "id": "3676d2c8",
   "metadata": {},
   "outputs": [],
   "source": [
    "url_18 = 'http://www.espn.com/college-sports/basketball/recruiting/playerrankings/_/class/2018/order/true'\n",
    "class_2018 = pd.read_html(url_18)"
   ]
  },
  {
   "cell_type": "code",
   "execution_count": null,
   "id": "d4b3b406",
   "metadata": {},
   "outputs": [],
   "source": [
    "class_2018 = pd.DataFrame(class_2018[0])\n",
    "class_2018.head(3)"
   ]
  },
  {
   "cell_type": "code",
   "execution_count": null,
   "id": "4fb673e7",
   "metadata": {},
   "outputs": [],
   "source": [
    "url_19 = 'http://www.espn.com/college-sports/basketball/recruiting/playerrankings/_/class/2019/order/true'\n",
    "class_2019 = pd.read_html(url_19)"
   ]
  },
  {
   "cell_type": "code",
   "execution_count": null,
   "id": "ca5ec8eb",
   "metadata": {},
   "outputs": [],
   "source": [
    "class_2019 = pd.DataFrame(class_2019[0])\n",
    "class_2019.head(3)"
   ]
  },
  {
   "cell_type": "code",
   "execution_count": null,
   "id": "e30efd79",
   "metadata": {},
   "outputs": [],
   "source": [
    "url_20 = 'http://www.espn.com/college-sports/basketball/recruiting/playerrankings/_/class/2020/order/true'\n",
    "class_2020 = pd.read_html(url_20)"
   ]
  },
  {
   "cell_type": "code",
   "execution_count": null,
   "id": "e79daedd",
   "metadata": {},
   "outputs": [],
   "source": [
    "class_2020 = pd.DataFrame(class_2020[0])\n",
    "class_2020.head(3)"
   ]
  },
  {
   "cell_type": "code",
   "execution_count": null,
   "id": "258c2ab9",
   "metadata": {},
   "outputs": [],
   "source": [
    "url_21 = 'http://www.espn.com/college-sports/basketball/recruiting/playerrankings/_/class/2021/order/true'\n",
    "class_2021 = pd.read_html(url_21)"
   ]
  },
  {
   "cell_type": "code",
   "execution_count": null,
   "id": "5816001c",
   "metadata": {},
   "outputs": [],
   "source": [
    "class_2021 = pd.DataFrame(class_2021[0])\n",
    "class_2021.head(3)"
   ]
  },
  {
   "cell_type": "code",
   "execution_count": null,
   "id": "32fd85a8",
   "metadata": {},
   "outputs": [],
   "source": [
    "url_22 = 'http://www.espn.com/college-sports/basketball/recruiting/playerrankings/_/class/2022/order/true'\n",
    "class_2022 = pd.read_html(url_22)"
   ]
  },
  {
   "cell_type": "code",
   "execution_count": null,
   "id": "53fee3f4",
   "metadata": {},
   "outputs": [],
   "source": [
    "class_2022 = pd.DataFrame(class_2022[0])\n",
    "class_2022.head(3)"
   ]
  },
  {
   "cell_type": "markdown",
   "id": "7da08610",
   "metadata": {},
   "source": [
    "Input the DataFrames into an Excel Workbook"
   ]
  },
  {
   "cell_type": "code",
   "execution_count": null,
   "id": "82a9a481",
   "metadata": {},
   "outputs": [],
   "source": [
    "xlwriter = pd.ExcelWriter('espn100_bb.xlsx')  \n",
    "class_2007.to_excel(xlwriter, sheet_name='2007')\n",
    "class_2008.to_excel(xlwriter, sheet_name='2008')\n",
    "class_2009.to_excel(xlwriter, sheet_name='2009')\n",
    "class_2010.to_excel(xlwriter, sheet_name='2010')\n",
    "class_2011.to_excel(xlwriter, sheet_name='2011')\n",
    "class_2012.to_excel(xlwriter, sheet_name='2012')\n",
    "class_2013.to_excel(xlwriter, sheet_name='2013')\n",
    "class_2014.to_excel(xlwriter, sheet_name='2014')\n",
    "class_2015.to_excel(xlwriter, sheet_name='2015')\n",
    "class_2016.to_excel(xlwriter, sheet_name='2016')\n",
    "class_2017.to_excel(xlwriter, sheet_name='2017')\n",
    "class_2018.to_excel(xlwriter, sheet_name='2018')\n",
    "class_2019.to_excel(xlwriter, sheet_name='2019')\n",
    "class_2020.to_excel(xlwriter, sheet_name='2020')\n",
    "class_2021.to_excel(xlwriter, sheet_name='2021')\n",
    "class_2022.to_excel(xlwriter, sheet_name='2022')\n",
    "xlwriter.close()"
   ]
  },
  {
   "cell_type": "code",
   "execution_count": null,
   "id": "cd7e7d20",
   "metadata": {},
   "outputs": [],
   "source": []
  }
 ],
 "metadata": {
  "kernelspec": {
   "display_name": "Python 3 (ipykernel)",
   "language": "python",
   "name": "python3"
  },
  "language_info": {
   "codemirror_mode": {
    "name": "ipython",
    "version": 3
   },
   "file_extension": ".py",
   "mimetype": "text/x-python",
   "name": "python",
   "nbconvert_exporter": "python",
   "pygments_lexer": "ipython3",
   "version": "3.9.7"
  }
 },
 "nbformat": 4,
 "nbformat_minor": 5
}
