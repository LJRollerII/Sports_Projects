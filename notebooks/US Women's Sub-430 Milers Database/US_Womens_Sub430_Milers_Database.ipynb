{
 "cells": [
  {
   "cell_type": "code",
   "execution_count": null,
   "id": "acc3fee1",
   "metadata": {},
   "outputs": [],
   "source": [
    "import pandas as pd\n",
    "import numpy as np\n",
    "import matplotlib.pyplot as plt\n",
    "import seaborn as sns\n",
    "%matplotlib inline\n",
    "import re"
   ]
  },
  {
   "cell_type": "code",
   "execution_count": null,
   "id": "89cdf158",
   "metadata": {},
   "outputs": [],
   "source": [
    "sub_430 = pd.read_csv(\"US_Sub430_Milers_Database.csv\")"
   ]
  },
  {
   "cell_type": "code",
   "execution_count": null,
   "id": "2eeca675",
   "metadata": {},
   "outputs": [],
   "source": [
    "sub_430.head()"
   ]
  },
  {
   "cell_type": "code",
   "execution_count": null,
   "id": "7729799e",
   "metadata": {},
   "outputs": [],
   "source": [
    "sub_430.info"
   ]
  },
  {
   "cell_type": "code",
   "execution_count": null,
   "id": "10bd071a",
   "metadata": {},
   "outputs": [],
   "source": [
    "sub_430.shape"
   ]
  },
  {
   "cell_type": "code",
   "execution_count": null,
   "id": "ec8a2c25",
   "metadata": {},
   "outputs": [],
   "source": [
    "print(sub_430.dtypes)"
   ]
  },
  {
   "cell_type": "code",
   "execution_count": null,
   "id": "15e2a4c2",
   "metadata": {},
   "outputs": [],
   "source": [
    "sub_430.describe()"
   ]
  },
  {
   "cell_type": "code",
   "execution_count": null,
   "id": "ff5f7bd4",
   "metadata": {},
   "outputs": [],
   "source": [
    "sub_430.corr()"
   ]
  },
  {
   "cell_type": "code",
   "execution_count": null,
   "id": "9cce4ad9",
   "metadata": {},
   "outputs": [],
   "source": [
    "sub_430['Month'] = sub_430.Date.str[-3:]\n",
    "sub_430.head()"
   ]
  },
  {
   "cell_type": "code",
   "execution_count": null,
   "id": "686bf315",
   "metadata": {},
   "outputs": [],
   "source": [
    "sub_430.Month.value_counts()"
   ]
  },
  {
   "cell_type": "code",
   "execution_count": null,
   "id": "cd3e3808",
   "metadata": {},
   "outputs": [],
   "source": [
    "sub_430['Month'].replace({\"Jan\" : \"January\", 'Feb':\"February\",'Mar':\"March\",'Apr':\"April\",'Jun':\"June\",'Jul':\"July\",'Aug':\"August\",'Sep':\"September\",'Oct':\"October\",'Nov':\"November\",'Dec':\"December\"}, inplace=True)\n",
    "sub_430.head()"
   ]
  },
  {
   "cell_type": "code",
   "execution_count": null,
   "id": "6fe85e94",
   "metadata": {},
   "outputs": [],
   "source": [
    "sub_430.Month.value_counts()"
   ]
  },
  {
   "cell_type": "code",
   "execution_count": null,
   "id": "bb65f533",
   "metadata": {},
   "outputs": [],
   "source": [
    "sub_430.Month.value_counts().sum()"
   ]
  },
  {
   "cell_type": "code",
   "execution_count": null,
   "id": "cfa9dfda",
   "metadata": {},
   "outputs": [],
   "source": [
    "Month = pd.DataFrame(sub_430.Month.value_counts().reset_index())\n",
    "Month.head()"
   ]
  },
  {
   "cell_type": "code",
   "execution_count": null,
   "id": "9a85ac32",
   "metadata": {},
   "outputs": [],
   "source": [
    "Month.columns = ['Month', 'Sub-4:30 Miles']\n",
    "Month.head()"
   ]
  },
  {
   "cell_type": "code",
   "execution_count": null,
   "id": "6bac382d",
   "metadata": {},
   "outputs": [],
   "source": [
    "Month['Percent'] = round((Month['Sub-4:30 Miles'] / 659) * 100,1)\n",
    "Month.head()"
   ]
  },
  {
   "cell_type": "code",
   "execution_count": null,
   "id": "3f460a64",
   "metadata": {},
   "outputs": [],
   "source": [
    "sns.lineplot(Month.Month, Month['Sub-4:30 Miles'])\n",
    "plt.title('Sub-4:30 miles Run by Month')\n",
    "plt.xlabel('Month')\n",
    "plt.ylabel('Sub-4:30 Miles')"
   ]
  },
  {
   "cell_type": "markdown",
   "id": "ce2b86c1",
   "metadata": {},
   "source": [
    "# Overall Stats"
   ]
  },
  {
   "cell_type": "code",
   "execution_count": null,
   "id": "43c89421",
   "metadata": {},
   "outputs": [],
   "source": [
    "sub_430.Time_Sec.mean()"
   ]
  },
  {
   "cell_type": "markdown",
   "id": "1a4028eb",
   "metadata": {},
   "source": [
    "The average mile time in this dataset is 4:27.8  (When rounded to the nearest tenth)"
   ]
  },
  {
   "cell_type": "code",
   "execution_count": null,
   "id": "eafbfd2e",
   "metadata": {},
   "outputs": [],
   "source": [
    "sub_430.Time_Sec.min()"
   ]
  },
  {
   "cell_type": "markdown",
   "id": "75df39bc",
   "metadata": {},
   "source": [
    "The fastest time in this dataset is 4:20.3 (When rounded to the nearest tenth)"
   ]
  },
  {
   "cell_type": "code",
   "execution_count": null,
   "id": "935273fe",
   "metadata": {},
   "outputs": [],
   "source": [
    "print(sub_430.Time_Sec > 267.76099999999997)"
   ]
  },
  {
   "cell_type": "code",
   "execution_count": null,
   "id": "64481068",
   "metadata": {},
   "outputs": [],
   "source": [
    "slower_avg = sub_430.Time_Sec > 267.76099999999997\n"
   ]
  },
  {
   "cell_type": "code",
   "execution_count": null,
   "id": "8589bf72",
   "metadata": {},
   "outputs": [],
   "source": [
    "slower_avg.value_counts()"
   ]
  },
  {
   "cell_type": "markdown",
   "id": "efe2ab3d",
   "metadata": {},
   "source": [
    "63 runners are slower than average"
   ]
  },
  {
   "cell_type": "code",
   "execution_count": null,
   "id": "c0ff1f2c",
   "metadata": {},
   "outputs": [],
   "source": [
    "print(sub_430.Time_Sec < 267.76099999999997)"
   ]
  },
  {
   "cell_type": "code",
   "execution_count": null,
   "id": "e443b8ac",
   "metadata": {},
   "outputs": [],
   "source": [
    "faster_avg = sub_430.Time_Sec < 267.76099999999997"
   ]
  },
  {
   "cell_type": "code",
   "execution_count": null,
   "id": "b12b5be4",
   "metadata": {},
   "outputs": [],
   "source": [
    "faster_avg.value_counts()"
   ]
  },
  {
   "cell_type": "markdown",
   "id": "ca7dcac9",
   "metadata": {},
   "source": [
    "37 runners are faster than average"
   ]
  },
  {
   "cell_type": "code",
   "execution_count": null,
   "id": "661a2289",
   "metadata": {},
   "outputs": [],
   "source": [
    "print(sub_430.Time_Sec == 267.76099999999997)"
   ]
  },
  {
   "cell_type": "code",
   "execution_count": null,
   "id": "3a3e0465",
   "metadata": {},
   "outputs": [],
   "source": [
    "avg = sub_430.Time_Sec == 267.76099999999997"
   ]
  },
  {
   "cell_type": "code",
   "execution_count": null,
   "id": "aea40062",
   "metadata": {
    "scrolled": true
   },
   "outputs": [],
   "source": [
    "avg.value_counts()"
   ]
  },
  {
   "cell_type": "markdown",
   "id": "552f9711",
   "metadata": {},
   "source": [
    "0 milers categorize as average"
   ]
  },
  {
   "cell_type": "code",
   "execution_count": null,
   "id": "f160cd8e",
   "metadata": {},
   "outputs": [],
   "source": [
    "sub_430.Time_Sec.min()"
   ]
  },
  {
   "cell_type": "markdown",
   "id": "509ffb49",
   "metadata": {},
   "source": [
    "The fastest time in this dataset is 4:20.3 (When rounded to the nearest tenth)"
   ]
  },
  {
   "cell_type": "code",
   "execution_count": null,
   "id": "67be07ff",
   "metadata": {},
   "outputs": [],
   "source": [
    "sub_430.Time_Sec.max()"
   ]
  },
  {
   "cell_type": "markdown",
   "id": "7dc64c90",
   "metadata": {},
   "source": [
    "The slowest time in this dataset is 4:29.9 (When rounded to the nearest tenth)"
   ]
  },
  {
   "cell_type": "code",
   "execution_count": null,
   "id": "4bc6e3d8",
   "metadata": {},
   "outputs": [],
   "source": [
    "sub_430.Time_Sec.median()"
   ]
  },
  {
   "cell_type": "code",
   "execution_count": null,
   "id": "dafc3013",
   "metadata": {},
   "outputs": [],
   "source": [
    "sub_430.Time_Sec.mode()"
   ]
  },
  {
   "cell_type": "markdown",
   "id": "2ed6fc4b",
   "metadata": {},
   "source": [
    "Let's make a visualization of the mile times"
   ]
  },
  {
   "cell_type": "code",
   "execution_count": null,
   "id": "8d36ad0e",
   "metadata": {},
   "outputs": [],
   "source": [
    "sns.lineplot(sub_430.Order, sub_430.Time_Sec)\n",
    "plt.title('American Sub-4 Mile Times By Seconds')\n",
    "plt.xlabel('Chronological Order')\n",
    "plt.ylabel('Time')"
   ]
  },
  {
   "cell_type": "code",
   "execution_count": null,
   "id": "6f6a3906",
   "metadata": {},
   "outputs": [],
   "source": [
    "sub_430.Area.value_counts()"
   ]
  },
  {
   "cell_type": "code",
   "execution_count": null,
   "id": "45d7d7a1",
   "metadata": {},
   "outputs": [],
   "source": [
    "plt.pie(sub_430.Area.value_counts())\n",
    "plt.show()"
   ]
  },
  {
   "cell_type": "code",
   "execution_count": null,
   "id": "00c67283",
   "metadata": {},
   "outputs": [],
   "source": [
    "Season = pd.DataFrame(sub_430.Area.value_counts().reset_index())\n",
    "Season.head()"
   ]
  },
  {
   "cell_type": "code",
   "execution_count": null,
   "id": "5e86b2ca",
   "metadata": {},
   "outputs": [],
   "source": [
    "Season.columns = ['Season', 'Sub-4:30 Miles']\n",
    "Season.head()"
   ]
  },
  {
   "cell_type": "code",
   "execution_count": null,
   "id": "1c1f4f24",
   "metadata": {},
   "outputs": [],
   "source": [
    "Season['Percent'] = round((Season['Sub-4:30 Miles'] / 659) * 100,1)\n",
    "Season.head()"
   ]
  },
  {
   "cell_type": "markdown",
   "id": "3da8c241",
   "metadata": {},
   "source": [
    "# What year did the most American women run under 4:30 in the mile?"
   ]
  },
  {
   "cell_type": "code",
   "execution_count": null,
   "id": "a30590a4",
   "metadata": {},
   "outputs": [],
   "source": [
    "sub_430.Year.value_counts()"
   ]
  },
  {
   "cell_type": "code",
   "execution_count": null,
   "id": "8d9881d6",
   "metadata": {},
   "outputs": [],
   "source": [
    "Year = pd.DataFrame(sub_430.Year.value_counts().reset_index())\n",
    "Year.head()"
   ]
  },
  {
   "cell_type": "code",
   "execution_count": null,
   "id": "fdd14d50",
   "metadata": {},
   "outputs": [],
   "source": [
    "Year.columns = ['Year', 'Runners Under 4:30']\n",
    "Year.head()"
   ]
  },
  {
   "cell_type": "code",
   "execution_count": null,
   "id": "942f0c2f",
   "metadata": {},
   "outputs": [],
   "source": [
    "Year['Percent'] = round((Year['Runners Under 4:30'] / 659) * 100,1)\n",
    "Year.head()"
   ]
  },
  {
   "cell_type": "code",
   "execution_count": null,
   "id": "512e8a88",
   "metadata": {},
   "outputs": [],
   "source": [
    "sns.lineplot(Year.Year, Year['Runners Under 4:30'])\n",
    "plt.title('Runners under 4:30 minutes in the Mile by Year')\n",
    "plt.xlabel('Year')\n",
    "plt.ylabel('Runners Under 4:30')"
   ]
  },
  {
   "cell_type": "code",
   "execution_count": null,
   "id": "8d36506f",
   "metadata": {},
   "outputs": [],
   "source": [
    "top5_years = Year.nlargest(5,'Runners Under 4:30')\n",
    "top5_years.head()"
   ]
  },
  {
   "cell_type": "code",
   "execution_count": null,
   "id": "6f3a9f93",
   "metadata": {},
   "outputs": [],
   "source": [
    "sns.lineplot(top5_years.Year, top5_years['Runners Under 4:30'])\n",
    "plt.title('Runners under 4:30 minutes in the Mile by Year')\n",
    "plt.xlabel('Year')\n",
    "plt.ylabel('Runners Under 4:30')"
   ]
  },
  {
   "cell_type": "markdown",
   "id": "736c4c91",
   "metadata": {},
   "source": [
    "# What decade did the most American women run under 4:30 in the mile?"
   ]
  },
  {
   "cell_type": "code",
   "execution_count": null,
   "id": "6c575ffd",
   "metadata": {},
   "outputs": [],
   "source": [
    "sub_430.Decade.value_counts()"
   ]
  },
  {
   "cell_type": "code",
   "execution_count": null,
   "id": "efd8a12f",
   "metadata": {},
   "outputs": [],
   "source": [
    "Decade = pd.DataFrame(sub_430.Decade.value_counts().reset_index())\n",
    "Decade.head()"
   ]
  },
  {
   "cell_type": "code",
   "execution_count": null,
   "id": "0bc18379",
   "metadata": {},
   "outputs": [],
   "source": [
    "Decade.columns = ['Decade', 'Runners Under 4:30']\n",
    "Decade.head()"
   ]
  },
  {
   "cell_type": "code",
   "execution_count": null,
   "id": "ff13fb81",
   "metadata": {},
   "outputs": [],
   "source": [
    "Decade['Percent'] = round((Decade['Runners Under 4:30'] / 659) * 100,1)\n",
    "Decade.head()"
   ]
  },
  {
   "cell_type": "code",
   "execution_count": null,
   "id": "63b8def9",
   "metadata": {},
   "outputs": [],
   "source": [
    "sns.lineplot(Decade.Decade, Decade['Runners Under 4:30'])\n",
    "plt.title('Runners under 4:30 minutes in the Mile by Decade')\n",
    "plt.xlabel('Decade')\n",
    "plt.ylabel('Runners Under 4:30')"
   ]
  },
  {
   "cell_type": "markdown",
   "id": "4f242259",
   "metadata": {},
   "source": [
    "# Where where most Sub-4:30 miles run by Americans?"
   ]
  },
  {
   "cell_type": "code",
   "execution_count": null,
   "id": "28fc1147",
   "metadata": {},
   "outputs": [],
   "source": [
    "sub_430.Location.value_counts()"
   ]
  },
  {
   "cell_type": "code",
   "execution_count": null,
   "id": "062ba77a",
   "metadata": {},
   "outputs": [],
   "source": [
    "Location = pd.DataFrame(sub_430.Location.value_counts().reset_index())\n",
    "Location.head()"
   ]
  },
  {
   "cell_type": "code",
   "execution_count": null,
   "id": "d9763fc7",
   "metadata": {},
   "outputs": [],
   "source": [
    "Location.columns = ['City', 'Sub-4:30 Miles']\n",
    "Location.head()"
   ]
  },
  {
   "cell_type": "code",
   "execution_count": null,
   "id": "9636c28f",
   "metadata": {},
   "outputs": [],
   "source": [
    "Location['Percent'] = round((Location['Sub-4:30 Miles'] / 659) * 100,1)\n",
    "Location.head()"
   ]
  },
  {
   "cell_type": "code",
   "execution_count": null,
   "id": "40c6902a",
   "metadata": {},
   "outputs": [],
   "source": [
    "plt.bar(Location.City, Location['Sub-4:30 Miles'])\n",
    "plt.title('Cities with American Sub-4:30 Miles')\n",
    "plt.xlabel('City')\n",
    "plt.ylabel('Number of Sub-4:30 Miles')\n",
    "plt.show()"
   ]
  },
  {
   "cell_type": "code",
   "execution_count": null,
   "id": "dc2896fa",
   "metadata": {},
   "outputs": [],
   "source": [
    "top10_cities = Location.nlargest(10,'Sub-4:30 Miles')\n",
    "top10_cities.head()"
   ]
  },
  {
   "cell_type": "code",
   "execution_count": null,
   "id": "fa3f7ef3",
   "metadata": {},
   "outputs": [],
   "source": [
    "plt.bar(top10_cities.City,top10_cities['Sub-4:30 Miles'], color='black')\n",
    "plt.title('Top 10 Cities With the Most Sub-4:30 Miles Run By Americans')\n",
    "plt.xlabel('City')\n",
    "plt.ylabel('Number of Sub-4:30 Miles Run')\n",
    "plt.xticks(rotation = 90)\n",
    "plt.show()"
   ]
  },
  {
   "cell_type": "markdown",
   "id": "c9e50ec8",
   "metadata": {},
   "source": [
    "# What State were the the most Sub-4:30 miles run?"
   ]
  },
  {
   "cell_type": "code",
   "execution_count": null,
   "id": "27d06b3c",
   "metadata": {},
   "outputs": [],
   "source": [
    "sub_430.State.value_counts()"
   ]
  },
  {
   "cell_type": "code",
   "execution_count": null,
   "id": "152b3cfa",
   "metadata": {},
   "outputs": [],
   "source": [
    "State = pd.DataFrame(sub_430.State.value_counts().reset_index())\n",
    "State.head()"
   ]
  },
  {
   "cell_type": "code",
   "execution_count": null,
   "id": "c581f3b4",
   "metadata": {},
   "outputs": [],
   "source": [
    "State.columns = ['State', 'Sub-4:30 Miles']\n",
    "State.head()"
   ]
  },
  {
   "cell_type": "code",
   "execution_count": null,
   "id": "2b048106",
   "metadata": {},
   "outputs": [],
   "source": [
    "State['Percent'] = round((State['Sub-4:30 Miles'] / 659) * 100,1)\n",
    "State.head()"
   ]
  },
  {
   "cell_type": "code",
   "execution_count": null,
   "id": "624417bd",
   "metadata": {},
   "outputs": [],
   "source": [
    "top10_states = State.nlargest(10,'Sub-4:30 Miles')\n",
    "top10_states.head()"
   ]
  },
  {
   "cell_type": "code",
   "execution_count": null,
   "id": "746aba3c",
   "metadata": {},
   "outputs": [],
   "source": [
    "plt.bar(top10_states.State,top10_states['Sub-4:30 Miles'], color='red')\n",
    "plt.title('Top 10 States With the Most Sub-4:30 Miles Run By Americans')\n",
    "plt.xlabel('State')\n",
    "plt.ylabel('Number of Sub-4:30 Miles Run')\n",
    "plt.xticks(rotation = 90)\n",
    "plt.show()"
   ]
  },
  {
   "cell_type": "markdown",
   "id": "a2d40ce6",
   "metadata": {},
   "source": [
    "# Lets make an excel spreadsheet to export dataframes"
   ]
  },
  {
   "cell_type": "code",
   "execution_count": null,
   "id": "1bd12f5e",
   "metadata": {},
   "outputs": [],
   "source": [
    "xlwriter = pd.ExcelWriter('General_Sub430_Analysis.xlsx')\n",
    "Month.to_excel(xlwriter, sheet_name='Sub 430 Miles By Month')\n",
    "Season.to_excel(xlwriter, sheet_name='Season')\n",
    "Year.to_excel(xlwriter, sheet_name='Sub 430 Miles By Year')\n",
    "Decade.to_excel(xlwriter, sheet_name='Sub 430 Miles By Decade')\n",
    "Location.to_excel(xlwriter, sheet_name='Sub 430 Miles By Location')\n",
    "State.to_excel(xlwriter, sheet_name='Sub 430 Miles By State')\n",
    "xlwriter.close()"
   ]
  },
  {
   "cell_type": "code",
   "execution_count": null,
   "id": "dc63809d",
   "metadata": {},
   "outputs": [],
   "source": []
  }
 ],
 "metadata": {
  "kernelspec": {
   "display_name": "Python 3 (ipykernel)",
   "language": "python",
   "name": "python3"
  },
  "language_info": {
   "codemirror_mode": {
    "name": "ipython",
    "version": 3
   },
   "file_extension": ".py",
   "mimetype": "text/x-python",
   "name": "python",
   "nbconvert_exporter": "python",
   "pygments_lexer": "ipython3",
   "version": "3.9.7"
  }
 },
 "nbformat": 4,
 "nbformat_minor": 5
}
