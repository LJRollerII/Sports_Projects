{
 "cells": [
  {
   "cell_type": "code",
   "execution_count": null,
   "id": "30b6214a",
   "metadata": {},
   "outputs": [],
   "source": [
    "import pandas as pd\n",
    "import matplotlib.pyplot as plt\n",
    "import numpy as np\n",
    "import seaborn as sns\n",
    "from nssstats.plots import std_plot\n",
    "from nssstats.plots import iqr_plot\n",
    "from nssstats.plots import quadrant_plot, half_plot\n",
    "from ipywidgets import interact, FloatSlider\n",
    "import warnings\n",
    "import plotly.express as px \n",
    "import plotly.graph_objects as go\n",
    "from plotly.subplots import make_subplots\n",
    "from plotly import graph_objects as go\n",
    "import plotly.figure_factory as ff\n",
    "from plotly.offline import init_notebook_mode,iplot\n",
    "#from dash import Dash, dcc, html, Input, Output\n",
    "from IPython.core.interactiveshell import InteractiveShell\n",
    "from os import path\n",
    "from PIL import Image\n",
    "from wordcloud import WordCloud, STOPWORDS, ImageColorGenerator\n",
    "from mpl_toolkits.mplot3d import Axes3D\n",
    "from sklearn.preprocessing import StandardScaler\n",
    "InteractiveShell.ast_node_interactivity = \"all\"\n",
    "%matplotlib inline"
   ]
  },
  {
   "cell_type": "code",
   "execution_count": null,
   "id": "23161bba",
   "metadata": {},
   "outputs": [],
   "source": [
    "wc = pd.read_csv(\"WorldCups\")\n",
    "wc_player = pd.read_csv(\"WorldCupPlayers.csv\")\n",
    "wc_matches = pd.read_csv(\"WorldCupMatches.csv\")"
   ]
  },
  {
   "cell_type": "code",
   "execution_count": null,
   "id": "b7778db0",
   "metadata": {},
   "outputs": [],
   "source": [
    "wc.head(3)"
   ]
  },
  {
   "cell_type": "code",
   "execution_count": null,
   "id": "2dc341e5",
   "metadata": {},
   "outputs": [],
   "source": [
    "wc_player.head(3)"
   ]
  },
  {
   "cell_type": "code",
   "execution_count": null,
   "id": "1d0c179b",
   "metadata": {},
   "outputs": [],
   "source": [
    "wc_matches.head(3)"
   ]
  },
  {
   "cell_type": "markdown",
   "id": "089d744c",
   "metadata": {},
   "source": [
    "How many Null Values do we have in each Dataframe."
   ]
  },
  {
   "cell_type": "code",
   "execution_count": null,
   "id": "69d68b95",
   "metadata": {},
   "outputs": [],
   "source": [
    "wc.isnull().sum()"
   ]
  },
  {
   "cell_type": "code",
   "execution_count": null,
   "id": "92b050c7",
   "metadata": {},
   "outputs": [],
   "source": [
    "wc_player.isnull().sum()"
   ]
  },
  {
   "cell_type": "code",
   "execution_count": null,
   "id": "b7b80072",
   "metadata": {},
   "outputs": [],
   "source": [
    "wc_matches.isnull().sum()"
   ]
  },
  {
   "cell_type": "markdown",
   "id": "8c2a9603",
   "metadata": {},
   "source": [
    "Let's Drop all the Null Values"
   ]
  },
  {
   "cell_type": "code",
   "execution_count": null,
   "id": "362f1546",
   "metadata": {},
   "outputs": [],
   "source": [
    "wc = wc.dropna()\n",
    "wc_player = wc_player.dropna()\n",
    "wc_matches = wc_matches.dropna()"
   ]
  },
  {
   "cell_type": "markdown",
   "id": "c3352d3d",
   "metadata": {},
   "source": [
    "# Let's First Explore the World Cup Dataframe"
   ]
  },
  {
   "cell_type": "code",
   "execution_count": null,
   "id": "a88c6cde",
   "metadata": {},
   "outputs": [],
   "source": [
    "wc.info"
   ]
  },
  {
   "cell_type": "code",
   "execution_count": null,
   "id": "60062755",
   "metadata": {},
   "outputs": [],
   "source": [
    "wc.dtypes"
   ]
  },
  {
   "cell_type": "markdown",
   "id": "91aac690",
   "metadata": {},
   "source": [
    "Let's add a column to the data about the Champion's continent."
   ]
  },
  {
   "cell_type": "code",
   "execution_count": null,
   "id": "cd58731c",
   "metadata": {},
   "outputs": [],
   "source": [
    "\n",
    "wc['Champion_Continent']= ['South America','Europe','Europe','South America','Europe','South America','South America','Europe','South America','Europe',\n",
    "                                   'South America','Europe','South America','Europe','South America','Europe','South America','Europe','Europe','Europe','Europe']\n",
    "\n"
   ]
  },
  {
   "cell_type": "markdown",
   "id": "382a8bf2",
   "metadata": {},
   "source": [
    "Let's add a column to see if the host country won the world cup or not."
   ]
  },
  {
   "cell_type": "code",
   "execution_count": null,
   "id": "2aaca628",
   "metadata": {},
   "outputs": [],
   "source": [
    "wc['Host_Winner']= wc['Country']== wc['Winner']"
   ]
  },
  {
   "cell_type": "markdown",
   "id": "1a8e56f4",
   "metadata": {},
   "source": [
    "Let's add a column to see if the host country makes the Final Four."
   ]
  },
  {
   "cell_type": "code",
   "execution_count": null,
   "id": "e3e60774",
   "metadata": {},
   "outputs": [],
   "source": [
    "wc['Host_Final_Four'] = wc[['Winner','Runners-Up','Third','Fourth']].eq(wc['Country'],axis=0).any(1)"
   ]
  },
  {
   "cell_type": "markdown",
   "id": "60e8e2fe",
   "metadata": {},
   "source": [
    "Let's Combine Germany FR & Germany "
   ]
  },
  {
   "cell_type": "code",
   "execution_count": null,
   "id": "4f76f37a",
   "metadata": {},
   "outputs": [],
   "source": [
    "wc = wc.replace(['Germany FR'],'Germany')"
   ]
  },
  {
   "cell_type": "code",
   "execution_count": null,
   "id": "fe813c10",
   "metadata": {},
   "outputs": [],
   "source": [
    "sns.heatmap(wc.corr(numeric_only=True), annot=True, cmap=\"coolwarm\")"
   ]
  },
  {
   "cell_type": "code",
   "execution_count": null,
   "id": "e0d52c64",
   "metadata": {},
   "outputs": [],
   "source": [
    "plotPerColumnDistribution(wc, 10, 5)"
   ]
  },
  {
   "cell_type": "code",
   "execution_count": null,
   "id": "4a733a1a",
   "metadata": {},
   "outputs": [],
   "source": [
    "sns.set(style=\"ticks\", color_codes=True)\n",
    "\n",
    "sns.pairplot(wc);"
   ]
  },
  {
   "cell_type": "code",
   "execution_count": null,
   "id": "3563eda1",
   "metadata": {},
   "outputs": [],
   "source": [
    "fig, ax= plt.subplots(figsize=(12,8))\n",
    "plt.title('Number of Countries in the World Cup',size=20,weight='bold')\n",
    "wc.plot.scatter(x='QualifiedTeams',y='Year',ax=ax,zorder=2,s=100)\n",
    "ax.spines[['right', 'top', 'left','bottom']].set_visible(False)\n",
    "ax.set_ylabel(None)\n",
    "ax.set_xlabel(None)\n",
    "ax.grid(visible=True)\n",
    "ax.tick_params(axis='both', which='major', labelsize=15)\n",
    "ax.set_yticks(hist_worldcup['Year'].tolist())\n",
    "ax.set_xticks([0,16,24 ,32,48])\n",
    "plt.tick_params(bottom=False, left=False)"
   ]
  },
  {
   "cell_type": "code",
   "execution_count": null,
   "id": "9dad951d",
   "metadata": {},
   "outputs": [],
   "source": [
    "palette=['coral','orange','orange','yellow','firebrick','coral','coral','firebrick']\n",
    "fig, ax= plt.subplots(figsize=(16,8))\n",
    "\n",
    "plt.title('World Cup Champions',size=20,weight='bold')\n",
    "sns.countplot(x = wc['Winner'], palette=palette,linewidth=2.5, edgecolor=\".2\")\n",
    "ax.spines[['right', 'top', 'left','bottom']].set_visible(False)\n",
    "ax.set_ylabel(None)\n",
    "ax.set_xlabel(None)\n",
    "plt.tick_params(labelleft=False, left=False,labelsize=14)\n",
    "\n",
    "for i in ax.containers:\n",
    "    ax.bar_label(i,fontsize=15);"
   ]
  },
  {
   "cell_type": "code",
   "execution_count": null,
   "id": "f89cd2d7",
   "metadata": {},
   "outputs": [],
   "source": [
    "gold = world_cups[\"Winner\"]\n",
    "silver = world_cups[\"Runners-Up\"]\n",
    "bronze = world_cups[\"Third\"]\n",
    "\n",
    "gold_count = pd.DataFrame.from_dict(gold.value_counts())\n",
    "silver_count = pd.DataFrame.from_dict(silver.value_counts())\n",
    "bronze_count = pd.DataFrame.from_dict(bronze.value_counts())\n",
    "podium_count = gold_count.join(silver_count, how='outer').join(bronze_count, how='outer')\n",
    "podium_count = podium_count.fillna(0)\n",
    "podium_count.columns = ['WINNER', 'SECOND', 'THIRD']\n",
    "podium_count = podium_count.astype('int64')\n",
    "podium_count = podium_count.sort_values(by=['WINNER', 'SECOND', 'THIRD'], ascending=False)\n",
    "\n",
    "podium_count.plot(y=['WINNER', 'SECOND', 'THIRD'], kind=\"bar\", \n",
    "                  color =['gold','silver','brown'], figsize=(15, 6), fontsize=14,\n",
    "                 width=0.8, align='center')\n",
    "plt.xlabel('Countries')\n",
    "plt.ylabel('Number of podium')\n",
    "plt.title('Number of podium by country')"
   ]
  },
  {
   "cell_type": "markdown",
   "id": "6118fdf0",
   "metadata": {},
   "source": [
    "Which Continent Has Won The Most World Cups?"
   ]
  },
  {
   "cell_type": "code",
   "execution_count": null,
   "id": "1a6baa19",
   "metadata": {},
   "outputs": [],
   "source": [
    "index = wc['Champion_Continent'].value_counts().index.tolist() #preprocessing for plotting a pie chart\n",
    "value = wc['Champion_Continent'].value_counts().values.tolist()"
   ]
  },
  {
   "cell_type": "code",
   "execution_count": null,
   "id": "5e88109e",
   "metadata": {},
   "outputs": [],
   "source": [
    "palette=['firebrick','yellow']\n",
    "\n",
    "fig, ax= plt.subplots(nrows=1, ncols=2, figsize=(16,8))\n",
    "\n",
    "\n",
    "sns.countplot(ax=ax[0],x=wc['Champion_Continent'],palette=palette,linewidth=2.5, edgecolor=\".2\")\n",
    "ax[0].set_title('World Cup by Continent',size=20,weight='bold')\n",
    "ax[0].spines[['right', 'top', 'left','bottom']].set_visible(False)\n",
    "ax[0].set_ylabel(None)\n",
    "ax[0].set_xlabel(None)\n",
    "ax[0].tick_params(labelleft=False, left=False,labelsize=14)\n",
    "\n",
    "\n",
    "for i in ax[0].containers:\n",
    "    ax[0].bar_label(i,fontsize=15);\n",
    "    \n",
    "    \n",
    "    \n",
    "plt.pie(value, labels = index, autopct='%.0f%%' ,colors=['yellow','firebrick'],wedgeprops={\"edgecolor\":\"0\",'linewidth': 2.5,\n",
    "                    'antialiased': True},startangle=90,textprops={'fontsize': 20})\n",
    "ax[1].set_title('World Cup winning percentage by Continent',size=20,weight='bold');"
   ]
  },
  {
   "cell_type": "markdown",
   "id": "ce2b279f",
   "metadata": {},
   "source": [
    "Does The Host Nation Reach The Final?"
   ]
  },
  {
   "cell_type": "code",
   "execution_count": null,
   "id": "90fc036e",
   "metadata": {},
   "outputs": [],
   "source": [
    "index1 = wc['Host_Winner'].value_counts().index.tolist()\n",
    "value1 = wc['Host_Winner'].value_counts().values.tolist()"
   ]
  },
  {
   "cell_type": "code",
   "execution_count": null,
   "id": "c3bb1a08",
   "metadata": {},
   "outputs": [],
   "source": [
    "palette=['firebrick','yellow']\n",
    "\n",
    "fig, ax= plt.subplots(nrows=1, ncols=2,figsize=(16,8))\n",
    "\n",
    "sns.countplot(ax=ax[0], x=wc['Host_Winner'],palette=palette,linewidth=2.5, edgecolor=\".2\")\n",
    "ax[0].set_title('Host Nation Finalist?',size=20,weight='bold')\n",
    "ax[0].spines[['right', 'top', 'left','bottom']].set_visible(False)\n",
    "ax[0].set_ylabel(None)\n",
    "ax[0].set_xlabel(None)\n",
    "ax[0].tick_params(labelleft=False, left=False,labelsize=14)\n",
    "for i in ax[0].containers:\n",
    "    ax[0].bar_label(i,fontsize=15);\n",
    "\n",
    "    \n",
    "plt.pie(value1, labels = index1, autopct='%.0f%%' ,colors=['firebrick','yellow'],wedgeprops={\"edgecolor\":\"0\",'linewidth': 2.5,\n",
    "                    'antialiased': True},startangle=90,textprops={'fontsize': 20})\n",
    "ax[1].set_title('Percentage',size=20,weight='bold');"
   ]
  },
  {
   "cell_type": "markdown",
   "id": "b7444a6e",
   "metadata": {},
   "source": [
    "Does The Host Nation Reach The Semi-Finals (Final Four)?"
   ]
  },
  {
   "cell_type": "code",
   "execution_count": null,
   "id": "332f64c6",
   "metadata": {},
   "outputs": [],
   "source": [
    "index2  = hist_worldcup['Host_Final_Four'].value_counts().index.tolist()\n",
    "value2 = hist_worldcup['Host_Final_Four'].value_counts().values.tolist()"
   ]
  },
  {
   "cell_type": "code",
   "execution_count": null,
   "id": "df00d860",
   "metadata": {},
   "outputs": [],
   "source": [
    "palette=['firebrick','yellow']\n",
    "\n",
    "fig, ax= plt.subplots(nrows=1, ncols=2,figsize=(16,8))\n",
    "\n",
    "sns.countplot(ax=ax[0],x=wc['Host_Final_Four'],palette=palette,linewidth=2.5, edgecolor=\".2\")\n",
    "ax[0].set_title('Host in Final Four',size=20,weight='bold')\n",
    "ax[0].spines[['right', 'top', 'left','bottom']].set_visible(False)\n",
    "ax[0].set_ylabel(None)\n",
    "ax[0].set_xlabel(None)\n",
    "ax[0].tick_params(labelleft=False, left=False,labelsize=14)\n",
    "for i in ax[0].containers:\n",
    "    ax[0].bar_label(i,fontsize=15);\n",
    "    \n",
    "plt.pie(value2, labels = index2, autopct='%.0f%%' ,colors=['yellow','firebrick'],wedgeprops={\"edgecolor\":\"0\",'linewidth': 2.5,\n",
    "                    'antialiased': True},startangle=90,textprops={'fontsize': 20})\n",
    "ax[1].set_title('Percentage',size=20,weight='bold');"
   ]
  },
  {
   "cell_type": "markdown",
   "id": "7c242e65",
   "metadata": {},
   "source": [
    "Comparing Attendance, Qualified Teams, Matches Played, and Goals Scored By Year."
   ]
  },
  {
   "cell_type": "code",
   "execution_count": null,
   "id": "6a153705",
   "metadata": {},
   "outputs": [],
   "source": [
    "plt.figure(figsize = (22,12))\n",
    "sns.set_style(\"whitegrid\")\n",
    "plt.subplot(221)\n",
    "g1 = sns.barplot(x=\"Year\", y=\"Attendance\", data=wc, palette=\"Blues\")\n",
    "g1.set_title(\"ATTENDANCE PER CUP\", fontsize=14)\n",
    "\n",
    "plt.subplot(222)\n",
    "g2 = sns.barplot(x=\"Year\", y=\"QualifiedTeams\", data=wc, palette=\"Blues\")\n",
    "g2.set_title(\"NUMBER OF TEAMS PER CUP\", fontsize=14)\n",
    "\n",
    "plt.subplot(223)\n",
    "g2 = sns.barplot(x=\"Year\", y=\"MatchesPlayed\", data=wc, palette=\"Blues\")\n",
    "g2.set_title(\"NUMBER OF MATCHS PER CUP\", fontsize=14)\n",
    "\n",
    "plt.subplot(224)\n",
    "g2 = sns.barplot(x=\"Year\", y=\"GoalsScored\", data=wc, palette=\"Blues\")\n",
    "g2.set_title(\"NUMBER OF GOALS PER CUP\", fontsize=14)\n",
    "\n",
    "plt.subplots_adjust(wspace = 0.2, hspace = 0.4,top = 0.9)\n",
    "\n",
    "plt.show()"
   ]
  },
  {
   "cell_type": "markdown",
   "id": "1c468d9e",
   "metadata": {},
   "source": [
    "# Let's Explore the World Cup Matches Dataframe"
   ]
  },
  {
   "cell_type": "code",
   "execution_count": null,
   "id": "ca26586e",
   "metadata": {},
   "outputs": [],
   "source": [
    "wc_matches.info"
   ]
  },
  {
   "cell_type": "code",
   "execution_count": null,
   "id": "a464ca12",
   "metadata": {},
   "outputs": [],
   "source": [
    "wc_matches.dtypes"
   ]
  },
  {
   "cell_type": "code",
   "execution_count": null,
   "id": "524dcb9b",
   "metadata": {},
   "outputs": [],
   "source": [
    "sns.heatmap(wc_matches.corr(numeric_only=True), annot=True, cmap=\"coolwarm\")"
   ]
  },
  {
   "cell_type": "code",
   "execution_count": null,
   "id": "ccca11ac",
   "metadata": {},
   "outputs": [],
   "source": [
    "plotPerColumnDistribution(wc_matches, 10, 5)"
   ]
  },
  {
   "cell_type": "code",
   "execution_count": null,
   "id": "f22fcc5c",
   "metadata": {},
   "outputs": [],
   "source": [
    "sns.set(style=\"ticks\", color_codes=True)\n",
    "\n",
    "sns.pairplot(wc_matches);"
   ]
  },
  {
   "cell_type": "markdown",
   "id": "573bd04f",
   "metadata": {},
   "source": [
    "Let's look at which country scored the most Goals in World Cup History and distinguish how many goals were scored when the team was home vs away."
   ]
  },
  {
   "cell_type": "code",
   "execution_count": null,
   "id": "bd8d43b8",
   "metadata": {},
   "outputs": [],
   "source": [
    "wc_matches['Home Team Goals'] = wc_matches['Home Team Goals'].astype('int64')\n",
    "wc_matches['Away Team Goals'] = wc_matches['Away Team Goals'].astype('int64')\n",
    "wc_matches['Half-time Home Goals'] = wc_matches['Half-time Home Goals'].astype('int64')\n",
    "wc_matches['Half-time Away Goals'] = wc_matches['Half-time Away Goals'].astype('int64')\n",
    "wc_matches['Attendance'] = wc['Attendance'].astype('int64')\n",
    "wc_matches.dtypes"
   ]
  },
  {
   "cell_type": "code",
   "execution_count": null,
   "id": "148d266e",
   "metadata": {},
   "outputs": [],
   "source": [
    "wc_matches.Datetime = pd.to_datetime(wc_matches.Datetime)\n",
    "wc_matches.dtypes"
   ]
  },
  {
   "cell_type": "code",
   "execution_count": null,
   "id": "e03705af",
   "metadata": {},
   "outputs": [],
   "source": [
    "goals_by_home_team = wc_matches[['Home Team Goals','Home Team Initials']].groupby('Home Team Initials')\n",
    "ax = goals_by_home_team.sum() \\\n",
    ".sort_values('Home Team Goals', ascending = False) \\\n",
    ".head(25) \\\n",
    ".plot(kind ='bar', figsize =(10,8))\n",
    "\n",
    "goals_by_away_team = wc_matches[['Away Team Goals','Away Team Initials']].groupby('Away Team Initials')\n",
    "goals_by_away_team.sum() \\\n",
    ".sort_values('Away Team Goals', ascending = False) \\\n",
    ".head(25) \\\n",
    ".plot(kind ='bar', figsize =(10,8), ax=ax,stacked = True, color ='red')\n",
    "plt.title('Total Goals Scored by Team')\n",
    "plt.xlabel('Team Initials')\n",
    "plt.ylabel('Number of Goals');"
   ]
  },
  {
   "cell_type": "markdown",
   "id": "e06ff6cc",
   "metadata": {},
   "source": [
    "Is it getting harder to score goals each World Cup?"
   ]
  },
  {
   "cell_type": "code",
   "execution_count": null,
   "id": "5d5562fc",
   "metadata": {},
   "outputs": [],
   "source": [
    "wc_matches['Total Goals'] = wc_matches['Home Team Goals'] + wc_matches['Away Team Goals']\n",
    "wc_matches.head(3)"
   ]
  },
  {
   "cell_type": "code",
   "execution_count": null,
   "id": "eadb5303",
   "metadata": {},
   "outputs": [],
   "source": [
    "grouped_by_year = wc_matches[['Total Goals','Year']].groupby('Year')\n",
    "goals_per_year = grouped_by_year['Total Goals'].sum()\n",
    "goals_per_year.plot(color = 'red', figsize =(10,7))\n",
    "plt.title('Total Goals Scored', fontsize = 18)\n",
    "plt.xlabel('World Cup')\n",
    "plt.ylabel('Number of Goals');"
   ]
  },
  {
   "cell_type": "code",
   "execution_count": null,
   "id": "27370091",
   "metadata": {},
   "outputs": [],
   "source": [
    "games_per_year = wc['Year'].value_counts()\n",
    "games_per_year.sort_index() \\\n",
    ".plot(color = 'red', figsize = (10,7));\n",
    "plt.title('Total Games Played', fontsize = 18)\n",
    "plt.xlabel('World Cup')\n",
    "plt.ylabel('Number of Games');"
   ]
  },
  {
   "cell_type": "code",
   "execution_count": null,
   "id": "a6d9cf9a",
   "metadata": {},
   "outputs": [],
   "source": [
    "goals_per_game_per_year = goals_per_year / games_per_year\n",
    "goals_per_game_per_year.plot(figsize = (10,7), color = 'Teal')\n",
    "plt.title('Average Goals per Game by Year', fontsize = 20)\n",
    "plt.xlabel('World Cup')\n",
    "plt.ylabel('Average Number of Goals per Game');"
   ]
  },
  {
   "cell_type": "markdown",
   "id": "329eeaeb",
   "metadata": {},
   "source": [
    "What time of the day are most goals scored?"
   ]
  },
  {
   "cell_type": "code",
   "execution_count": null,
   "id": "8a3cde7c",
   "metadata": {},
   "outputs": [],
   "source": [
    "wc_matches['Hour Played'] = round(wc_matches['Datetime'].dt.minute/60 + wc_matches['Datetime'].dt.hour)\n",
    "grouped_by_time_played = wc.groupby('Hour Played')\n",
    "avg_goal_per_hour = grouped_by_time_played['Total Goals'].sum()/grouped_by_time_played['Total Goals'].count()\n",
    "avg_goal_per_hour.plot(kind = 'bar', figsize = (18,9), color = 'purple');\n",
    "plt.title('Goals Scored at Times of Day', fontsize=20)\n",
    "plt.xlabel('Hour of the day', fontsize= 14)\n",
    "plt.ylabel('Number of Goals', fontsize = 14);"
   ]
  },
  {
   "cell_type": "markdown",
   "id": "f12833b7",
   "metadata": {},
   "source": [
    "Does the Home Team have an advantage?"
   ]
  },
  {
   "cell_type": "code",
   "execution_count": null,
   "id": "d1517185",
   "metadata": {},
   "outputs": [],
   "source": [
    "plot_univariate_countplot(\"Stage\")"
   ]
  }
 ],
 "metadata": {
  "kernelspec": {
   "display_name": "Python 3 (ipykernel)",
   "language": "python",
   "name": "python3"
  },
  "language_info": {
   "codemirror_mode": {
    "name": "ipython",
    "version": 3
   },
   "file_extension": ".py",
   "mimetype": "text/x-python",
   "name": "python",
   "nbconvert_exporter": "python",
   "pygments_lexer": "ipython3",
   "version": "3.9.16"
  }
 },
 "nbformat": 4,
 "nbformat_minor": 5
}
