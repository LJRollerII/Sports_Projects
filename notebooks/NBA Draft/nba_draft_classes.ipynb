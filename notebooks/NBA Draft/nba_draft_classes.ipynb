{
 "cells": [
  {
   "cell_type": "code",
   "execution_count": null,
   "id": "d6bafd91",
   "metadata": {},
   "outputs": [],
   "source": [
    "import requests\n",
    "import time\n",
    "import datetime\n",
    "from bs4 import BeautifulSoup\n",
    "import smtplib\n",
    "import csv\n",
    "import pandas as pd"
   ]
  },
  {
   "cell_type": "code",
   "execution_count": null,
   "id": "ae069411",
   "metadata": {},
   "outputs": [],
   "source": [
    "url_08 = 'https://en.wikipedia.org/wiki/2008_NBA_draft'\n",
    "class_2008 = pd.read_html(url_08)"
   ]
  },
  {
   "cell_type": "code",
   "execution_count": null,
   "id": "7d7e2644",
   "metadata": {},
   "outputs": [],
   "source": [
    "class_2008[3]"
   ]
  },
  {
   "cell_type": "code",
   "execution_count": null,
   "id": "1996f0f0",
   "metadata": {},
   "outputs": [],
   "source": [
    "class_2008 = pd.DataFrame(class_2008[3])\n",
    "class_2008.head(3)"
   ]
  },
  {
   "cell_type": "code",
   "execution_count": null,
   "id": "2b96c073",
   "metadata": {},
   "outputs": [],
   "source": [
    "url_09 = 'https://en.wikipedia.org/wiki/2009_NBA_draft'\n",
    "class_2009 = pd.read_html(url_09)"
   ]
  },
  {
   "cell_type": "code",
   "execution_count": null,
   "id": "ed4d231e",
   "metadata": {},
   "outputs": [],
   "source": [
    "class_2009 = pd.DataFrame(class_2009[3])\n",
    "class_2009.head(3)"
   ]
  },
  {
   "cell_type": "code",
   "execution_count": null,
   "id": "a8981301",
   "metadata": {},
   "outputs": [],
   "source": [
    "url_10 = 'https://en.wikipedia.org/wiki/2010_NBA_draft'\n",
    "class_2010 = pd.read_html(url_10)"
   ]
  },
  {
   "cell_type": "code",
   "execution_count": null,
   "id": "0a2f3fc4",
   "metadata": {},
   "outputs": [],
   "source": [
    "class_2010 = pd.DataFrame(class_2010[3])\n",
    "class_2010.head(3)"
   ]
  },
  {
   "cell_type": "code",
   "execution_count": null,
   "id": "99a4ef34",
   "metadata": {},
   "outputs": [],
   "source": [
    "url_11 = 'https://en.wikipedia.org/wiki/2011_NBA_draft'\n",
    "class_2011 = pd.read_html(url_11)"
   ]
  },
  {
   "cell_type": "code",
   "execution_count": null,
   "id": "310e641b",
   "metadata": {},
   "outputs": [],
   "source": [
    "class_2011 = pd.DataFrame(class_2011[3])\n",
    "class_2011.head(3)"
   ]
  },
  {
   "cell_type": "code",
   "execution_count": null,
   "id": "26f45dad",
   "metadata": {},
   "outputs": [],
   "source": [
    "url_12 = 'https://en.wikipedia.org/wiki/2012_NBA_draft'\n",
    "class_2012 = pd.read_html(url_12)"
   ]
  },
  {
   "cell_type": "code",
   "execution_count": null,
   "id": "844bb477",
   "metadata": {},
   "outputs": [],
   "source": [
    "class_2012 = pd.DataFrame(class_2012[3])\n",
    "class_2012.head(3)"
   ]
  },
  {
   "cell_type": "code",
   "execution_count": null,
   "id": "e684f4b7",
   "metadata": {},
   "outputs": [],
   "source": [
    "url_13 = 'https://en.wikipedia.org/wiki/2013_NBA_draft'\n",
    "class_2013 = pd.read_html(url_13)"
   ]
  },
  {
   "cell_type": "code",
   "execution_count": null,
   "id": "a4494ee4",
   "metadata": {},
   "outputs": [],
   "source": [
    "class_2013 = pd.DataFrame(class_2013[3])\n",
    "class_2013.head(3)"
   ]
  },
  {
   "cell_type": "code",
   "execution_count": null,
   "id": "48163723",
   "metadata": {},
   "outputs": [],
   "source": [
    "url_14 = 'https://en.wikipedia.org/wiki/2014_NBA_draft'\n",
    "class_2014 = pd.read_html(url_14)"
   ]
  },
  {
   "cell_type": "code",
   "execution_count": null,
   "id": "028c32f8",
   "metadata": {},
   "outputs": [],
   "source": [
    "class_2014 = pd.DataFrame(class_2014[3])\n",
    "class_2014.head(3)"
   ]
  },
  {
   "cell_type": "code",
   "execution_count": null,
   "id": "2e1ffb25",
   "metadata": {},
   "outputs": [],
   "source": [
    "url_15 = 'https://en.wikipedia.org/wiki/2015_NBA_draft'\n",
    "class_2015 = pd.read_html(url_15)"
   ]
  },
  {
   "cell_type": "code",
   "execution_count": null,
   "id": "c4b2045a",
   "metadata": {},
   "outputs": [],
   "source": [
    "class_2015 = pd.DataFrame(class_2015[3])\n",
    "class_2015.head(3)"
   ]
  },
  {
   "cell_type": "code",
   "execution_count": null,
   "id": "86c6ad57",
   "metadata": {},
   "outputs": [],
   "source": [
    "url_16 = 'https://en.wikipedia.org/wiki/2016_NBA_draft'\n",
    "class_2016 = pd.read_html(url_16)"
   ]
  },
  {
   "cell_type": "code",
   "execution_count": null,
   "id": "4fe6bbc1",
   "metadata": {},
   "outputs": [],
   "source": [
    "class_2016 = pd.DataFrame(class_2016[3])\n",
    "class_2016.head(3)"
   ]
  },
  {
   "cell_type": "code",
   "execution_count": null,
   "id": "deb09906",
   "metadata": {},
   "outputs": [],
   "source": [
    "url_17 = 'https://en.wikipedia.org/wiki/2017_NBA_draft'\n",
    "class_2017 = pd.read_html(url_17)"
   ]
  },
  {
   "cell_type": "code",
   "execution_count": null,
   "id": "371dcb24",
   "metadata": {},
   "outputs": [],
   "source": [
    "class_2017 = pd.DataFrame(class_2017[3])\n",
    "class_2017.head(3)"
   ]
  },
  {
   "cell_type": "code",
   "execution_count": null,
   "id": "3676d2c8",
   "metadata": {},
   "outputs": [],
   "source": [
    "url_18 = 'https://en.wikipedia.org/wiki/2018_NBA_draft'\n",
    "class_2018 = pd.read_html(url_18)"
   ]
  },
  {
   "cell_type": "code",
   "execution_count": null,
   "id": "d4b3b406",
   "metadata": {},
   "outputs": [],
   "source": [
    "class_2018 = pd.DataFrame(class_2018[3])\n",
    "class_2018.head(3)"
   ]
  },
  {
   "cell_type": "code",
   "execution_count": null,
   "id": "4fb673e7",
   "metadata": {},
   "outputs": [],
   "source": [
    "url_19 = 'https://en.wikipedia.org/wiki/2019_NBA_draft'\n",
    "class_2019 = pd.read_html(url_19)"
   ]
  },
  {
   "cell_type": "code",
   "execution_count": null,
   "id": "ca5ec8eb",
   "metadata": {},
   "outputs": [],
   "source": [
    "class_2019 = pd.DataFrame(class_2019[3])\n",
    "class_2019.head(3)"
   ]
  },
  {
   "cell_type": "code",
   "execution_count": null,
   "id": "e30efd79",
   "metadata": {},
   "outputs": [],
   "source": [
    "url_20 = 'https://en.wikipedia.org/wiki/2020_NBA_draft'\n",
    "class_2020 = pd.read_html(url_20)"
   ]
  },
  {
   "cell_type": "code",
   "execution_count": null,
   "id": "e79daedd",
   "metadata": {},
   "outputs": [],
   "source": [
    "class_2020 = pd.DataFrame(class_2020[3])\n",
    "class_2020.head(3)"
   ]
  },
  {
   "cell_type": "code",
   "execution_count": null,
   "id": "258c2ab9",
   "metadata": {},
   "outputs": [],
   "source": [
    "url_21 = 'https://en.wikipedia.org/wiki/2021_NBA_draft'\n",
    "class_2021 = pd.read_html(url_21)"
   ]
  },
  {
   "cell_type": "code",
   "execution_count": null,
   "id": "5816001c",
   "metadata": {},
   "outputs": [],
   "source": [
    "class_2021 = pd.DataFrame(class_2021[3])\n",
    "class_2021.head(3)"
   ]
  },
  {
   "cell_type": "code",
   "execution_count": null,
   "id": "32fd85a8",
   "metadata": {},
   "outputs": [],
   "source": [
    "url_22 = 'https://en.wikipedia.org/wiki/2022_NBA_draft'\n",
    "class_2022 = pd.read_html(url_22)"
   ]
  },
  {
   "cell_type": "code",
   "execution_count": null,
   "id": "53fee3f4",
   "metadata": {},
   "outputs": [],
   "source": [
    "class_2022 = pd.DataFrame(class_2022[3])\n",
    "class_2022.head(3)"
   ]
  },
  {
   "cell_type": "code",
   "execution_count": null,
   "id": "7ff414a3",
   "metadata": {},
   "outputs": [],
   "source": [
    "url_23 = 'https://en.wikipedia.org/wiki/2022_NBA_draft'\n",
    "class_2023 = pd.read_html(url_23)"
   ]
  },
  {
   "cell_type": "code",
   "execution_count": null,
   "id": "57226a75",
   "metadata": {},
   "outputs": [],
   "source": [
    "class_2023 = pd.DataFrame(class_2023[3])\n",
    "class_2023.head(3)"
   ]
  },
  {
   "cell_type": "markdown",
   "id": "7da08610",
   "metadata": {},
   "source": [
    "Input the DataFrames into an Excel Workbook"
   ]
  },
  {
   "cell_type": "code",
   "execution_count": null,
   "id": "82a9a481",
   "metadata": {},
   "outputs": [],
   "source": [
    "xlwriter = pd.ExcelWriter('nba_draft_classes.xlsx')  \n",
    "class_2008.to_excel(xlwriter, sheet_name='2008')\n",
    "class_2009.to_excel(xlwriter, sheet_name='2009')\n",
    "class_2010.to_excel(xlwriter, sheet_name='2010')\n",
    "class_2011.to_excel(xlwriter, sheet_name='2011')\n",
    "class_2012.to_excel(xlwriter, sheet_name='2012')\n",
    "class_2013.to_excel(xlwriter, sheet_name='2013')\n",
    "class_2014.to_excel(xlwriter, sheet_name='2014')\n",
    "class_2015.to_excel(xlwriter, sheet_name='2015')\n",
    "class_2016.to_excel(xlwriter, sheet_name='2016')\n",
    "class_2017.to_excel(xlwriter, sheet_name='2017')\n",
    "class_2018.to_excel(xlwriter, sheet_name='2018')\n",
    "class_2019.to_excel(xlwriter, sheet_name='2019')\n",
    "class_2020.to_excel(xlwriter, sheet_name='2020')\n",
    "class_2021.to_excel(xlwriter, sheet_name='2021')\n",
    "class_2022.to_excel(xlwriter, sheet_name='2022')\n",
    "#class_2023.to_excel(xlwriter, sheet_name='2023')\n",
    "xlwriter.close()"
   ]
  },
  {
   "cell_type": "code",
   "execution_count": null,
   "id": "cd7e7d20",
   "metadata": {},
   "outputs": [],
   "source": []
  }
 ],
 "metadata": {
  "kernelspec": {
   "display_name": "Python 3 (ipykernel)",
   "language": "python",
   "name": "python3"
  },
  "language_info": {
   "codemirror_mode": {
    "name": "ipython",
    "version": 3
   },
   "file_extension": ".py",
   "mimetype": "text/x-python",
   "name": "python",
   "nbconvert_exporter": "python",
   "pygments_lexer": "ipython3",
   "version": "3.9.7"
  }
 },
 "nbformat": 4,
 "nbformat_minor": 5
}
